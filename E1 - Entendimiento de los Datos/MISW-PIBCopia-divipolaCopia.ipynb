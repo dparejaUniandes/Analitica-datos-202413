{
 "cells": [
  {
   "cell_type": "markdown",
   "metadata": {
    "id": "cpWpho0CPn3f"
   },
   "source": [
    "# Solución Tarea\n",
    "Espacio para desarrollar la tarea propuesta sobre la fase de entendimiento de datos grupal sobre las tablas PIBCopia y divipolaCopia"
   ]
  },
  {
   "cell_type": "markdown",
   "metadata": {
    "id": "IPhtXcD1Pn3g"
   },
   "source": [
    "### Perfilamiento de datos"
   ]
  },
  {
   "cell_type": "markdown",
   "metadata": {
    "id": "0JCXGvj0Pn3g",
    "tags": []
   },
   "source": [
    "## Introducción\n",
    "    \n",
    "    Al desarrollar esta tarea, se busca comprender la fase de entendimiento de datos de la metodología ASUM-DM para la empresa WWImporters, para esto, se realizará un perfilamiento general, análisis de reglas de negocio, estadísticos y análisis de calidad de datos sobre las tablas PIBCopia y divipolaCopia.\n",
    "    \n",
    "    La fase de entendimiento de datos es fundamental ya que nos permite familiarizarnos con los datos de la organización, sus relaciones, determinar en primera medida la viabilidad de realizar un proyecto de analítica dada la información suministrada, determinar si los datos son suficientes y las acciones de mejora que se pueden realizar para obtener resultados confiables, además, nos permite identificar nuevas oportunidades de analítica."
   ]
  },
  {
   "cell_type": "markdown",
   "metadata": {
    "tags": []
   },
   "source": [
    "### Configuración e importe de paquetes"
   ]
  },
  {
   "cell_type": "code",
   "execution_count": 1,
   "metadata": {},
   "outputs": [
    {
     "name": "stderr",
     "output_type": "stream",
     "text": [
      "C:\\Users\\estudiante\\anaconda3\\envs\\Tutoriales\\lib\\site-packages\\tqdm\\auto.py:22: TqdmWarning: IProgress not found. Please update jupyter and ipywidgets. See https://ipywidgets.readthedocs.io/en/stable/user_install.html\n",
      "  from .autonotebook import tqdm as notebook_tqdm\n"
     ]
    }
   ],
   "source": [
    "from pyspark.sql import SparkSession\n",
    "from pyspark.sql import functions\n",
    "from pyspark.sql.types import StructType\n",
    "from pyspark import SparkContext, SparkConf, SQLContext\n",
    "from pyspark.sql.types import FloatType, StringType, IntegerType, DateType\n",
    "from pyspark.sql.functions import udf, col, length, isnan, when, count\n",
    "import pyspark.sql.functions as f\n",
    "import os \n",
    "from datetime import datetime\n",
    "from pyspark.sql import types as t\n",
    "from pandas_profiling import ProfileReport\n",
    "import matplotlib.pyplot as plt\n",
    "import numpy as np"
   ]
  },
  {
   "cell_type": "markdown",
   "metadata": {},
   "source": [
    "Configuración del controlador e inicio de sesion Spark"
   ]
  },
  {
   "cell_type": "code",
   "execution_count": 2,
   "metadata": {},
   "outputs": [],
   "source": [
    "path_jar_driver = 'C:\\Program Files (x86)\\MySQL\\Connector J 8.0\\mysql-connector-java-8.0.28.jar'"
   ]
  },
  {
   "cell_type": "code",
   "execution_count": 3,
   "metadata": {},
   "outputs": [
    {
     "name": "stderr",
     "output_type": "stream",
     "text": [
      "C:\\Users\\estudiante\\anaconda3\\envs\\Tutoriales\\lib\\site-packages\\pyspark\\sql\\context.py:79: FutureWarning: Deprecated in 3.0.0. Use SparkSession.builder.getOrCreate() instead.\n",
      "  FutureWarning\n"
     ]
    }
   ],
   "source": [
    "#Configuración de la sesión\n",
    "conf=SparkConf() \\\n",
    "    .set('spark.driver.extraClassPath', path_jar_driver)\n",
    "\n",
    "spark_context = SparkContext(conf=conf)\n",
    "sql_context = SQLContext(spark_context)\n",
    "spark = sql_context.sparkSession"
   ]
  },
  {
   "cell_type": "code",
   "execution_count": 4,
   "metadata": {},
   "outputs": [],
   "source": [
    "# Conexion con el servidor de base de datos:\n",
    "db_connection_string = 'jdbc:mysql://157.253.236.116:8080/ProyectoTransaccional'\n",
    "db_user = ''\n",
    "db_psswd = ''\n",
    "\n",
    "PATH='./'"
   ]
  },
  {
   "cell_type": "markdown",
   "metadata": {
    "id": "IPhtXcD1Pn3g"
   },
   "source": [
    "### Perfilamiento de datos\n",
    "Esta primera sección de perfilamiento de datos se centrará en tres aspectos fundamentales que son  **entendimiento general** que hace referencia a tener una comprensiòn global antes de entrar en los detalles de los datos compartidos, validación de **reglas de negocio** que corresponden a especificaciones dadas por el negocio en relación con los datos y **análisis descriptivo** en donde se revisan estadísticas como mínimo, máximo, media, mediana, distribuciones de los datos, valores nulos, cardinalidad con el fin de comprender en mayor nivel de profundidad los datos compartidos y diagramas para la visualización de los datos. El **análisis de calidad** se abordará en una sección posterior."
   ]
  },
  {
   "cell_type": "markdown",
   "metadata": {},
   "source": [
    "### Información dada por la organización relacionada con los datos\n",
    "\n",
    "Para este estudio y entendimiento de datos, el enfoque estará sobre el análisis de los datos de las tablas PIBCopia y divipolaCopia, en donde se encuentra registrados los PIB de cada departamento en determinados años y la información de centros poblados respectivamente. El pib es un indicador que ofrece información sobre el tamaño de la economía y su desempeño. Los centros poblados son la concentración de mínimo 20 viviendas contiguas.\n",
    "\n",
    "En relación a los datos Wide World Importers menciona:\n",
    "\n",
    "1. Hay informacion del PIB para los 32 departamentos desde 2005 hasta 2018\n",
    "2. Se tiene la información de proyecciones de vida por género y edad para los 32 departamentos desde 2005 hasta 2015\n",
    "3. El total de hombres de valle del cauca para 2014 es 2110069\n",
    "4. Hay información de 605.448 vuelos entre 2004 y 2018 y de 865 aeropuertos construidos desde 2013 hasta 2020\n",
    "5. Hay información de 7879 centros poblados\n",
    "\n",
    "Para la fase de entendimiento de datos se tendrá en cuenta el punto 1 y 5 principalmente en este notebook."
   ]
  },
  {
   "cell_type": "markdown",
   "metadata": {},
   "source": [
    "### Conexión a fuente de datos y acceso a los datos"
   ]
  },
  {
   "cell_type": "markdown",
   "metadata": {},
   "source": [
    "#### Conexión a fuente de datos\n",
    "A continuación se define una función que permite establecer la conexión a la base de datos, para el esquema **ProyectoTransaccional** con el fin de analizar la información contenida especialmente en las tablas **divipolaCopia** y **PIBCopia**"
   ]
  },
  {
   "cell_type": "code",
   "execution_count": 5,
   "metadata": {},
   "outputs": [],
   "source": [
    "def obtener_dataframe_de_bd(db_connection_string, sql, db_user, db_psswd):\n",
    "    df_bd = spark.read.format('jdbc')\\\n",
    "        .option('url', db_connection_string) \\\n",
    "        .option('dbtable', sql) \\\n",
    "        .option('user', db_user) \\\n",
    "        .option('password', db_psswd) \\\n",
    "        .option('driver', 'com.mysql.cj.jdbc.Driver') \\\n",
    "        .load()\n",
    "    return df_bd"
   ]
  },
  {
   "cell_type": "markdown",
   "metadata": {},
   "source": [
    "#### Cargue de datos\n",
    "Para consultar desde la base de datos se va a acceder directamente a la tabla dado su nombre WWImportersTransactional.movimientosCopia"
   ]
  },
  {
   "cell_type": "code",
   "execution_count": 6,
   "metadata": {},
   "outputs": [],
   "source": [
    "sql_pib = 'ProyectoTransaccional.PIBCopia'\n",
    "sql_divipola = 'ProyectoTransaccional.divipolaCopia'"
   ]
  },
  {
   "cell_type": "code",
   "execution_count": 7,
   "metadata": {},
   "outputs": [],
   "source": [
    "pib = obtener_dataframe_de_bd(db_connection_string, sql_pib, db_user, db_psswd)\n",
    "divipola = obtener_dataframe_de_bd(db_connection_string, sql_divipola, db_user, db_psswd)"
   ]
  },
  {
   "cell_type": "markdown",
   "metadata": {},
   "source": [
    "### Entendimiento general de datos"
   ]
  },
  {
   "cell_type": "markdown",
   "metadata": {},
   "source": [
    "Se mostrarán las primeras 10 filas que están presentes en la tabla PIBCopia para ver la información y estructura."
   ]
  },
  {
   "cell_type": "code",
   "execution_count": 9,
   "metadata": {},
   "outputs": [
    {
     "name": "stdout",
     "output_type": "stream",
     "text": [
      "+----------------------------+--------------------+-------+--------+--------------------+--------------------+--------+--------+--------------------+--------+\n",
      "|CodigoDepartamento(DIVIPOLA)|       DEPARTAMENTOS|   2006|    2007|                2008|                2010|    2011|    2012|                2013|    2014|\n",
      "+----------------------------+--------------------+-------+--------+--------------------+--------------------+--------+--------+--------------------+--------+\n",
      "|                          41|                uila|6895658| 7441987|   8686536.103258422|    9548624.85406653|11113741|11400169|1.1967750469189592E7|12755711|\n",
      "|                          18|            CaquetÃ¡|3575615| 4060678|   4519574.129383702|   5048396.606737779| 5516404| 6476778|    7161524.44383983| 7990249|\n",
      "|                           8|          AtlÃ¡ntico|7194985| 8299825|   8858405.054387597|   9481200.322350295|10288314|11421539|1.2434114309437651E7|13681473|\n",
      "|                          63|            QuindiÃ³|6350376| 6908084|  7449000.1041983375|   8274578.662692363| 9183441|10067779|1.0457303722966803E7|10917328|\n",
      "|                          76|            el valle|9364012|10568989|1.1278072598064829E7|1.2538425837418156E7|13461456|14347570|1.5262933073640093E7|16490649|\n",
      "|                          20|            El Cesar|7684507| 8146177|   9845956.914284049| 1.060369244638335E7|12692156|13176012|1.2414299180017455E7|12460838|\n",
      "|                          15|boyacaaaaaaaaaaaa...|8046451| 9523137|1.1059677686639624E7|1.2422311925286561E7|14744101|15572164| 1.640181715011036E7|17552741|\n",
      "|                          54|            norte de|4562230| 5093601|   5756904.272168976|   6377160.081745004| 6845992| 7152319|   7716659.361075875| 8310220|\n",
      "|                          86|            PUTUMAYO|4883522| 5617663|   7107721.504297101|   9697260.687378583|11967934|12049913|1.4234561981335444E7|13936142|\n",
      "|                          99|             VICHADA|4114080| 4091512|    4337203.79854487|   4285403.948100506| 4377994| 4639459|   4856888.325019439| 4733848|\n",
      "+----------------------------+--------------------+-------+--------+--------------------+--------------------+--------+--------+--------------------+--------+\n",
      "only showing top 10 rows\n",
      "\n"
     ]
    }
   ],
   "source": [
    "pib.show(10)"
   ]
  },
  {
   "cell_type": "markdown",
   "metadata": {},
   "source": [
    "Se mostrarán las primeras 10 filas que están presentes en la tabla divipolaCopia para ver la información y estructura."
   ]
  },
  {
   "cell_type": "code",
   "execution_count": 8,
   "metadata": {},
   "outputs": [
    {
     "name": "stdout",
     "output_type": "stream",
     "text": [
      "+-------------------+----------------+---------------------+-------------------+----------------+---------------------+-------------------+--------------+--------------+---------------+----------------------------------------+-------------------------+\n",
      "|Código Departamento|Código Municipio|Código Centro Poblado|Nombre Departamento|Nombre Municipio|Nombre Centro Poblado|Tipo Centro Poblado|      Longitud|       Latitud|Nombre Distrito|Municipio/Áreas No Municipalizadas (ANM)|Nombre Área Metropolitana|\n",
      "+-------------------+----------------+---------------------+-------------------+----------------+---------------------+-------------------+--------------+--------------+---------------+----------------------------------------+-------------------------+\n",
      "|                 41|           91001|             91001033|           amazonas|           NEIVA| COMUNIDAD INDÍGEN...|     CENTRO POBLADO|-70.0285785394|-4.11198257304|               |                               MUNICIPIO|                         |\n",
      "|                 41|           91001|             91001005|           amazonas|           NEIVA| COMUNIDAD INDÍGEN...|     CENTRO POBLADO|-70.0539208267|-4.05305758964|               |                               MUNICIPIO|                         |\n",
      "|                 41|           91001|             91001026|           amazonas|           NEIVA| COMUNIDAD INDÍGEN...|     CENTRO POBLADO|-70.1657071533|  -3.956020168|               |                               MUNICIPIO|                         |\n",
      "|                 41|           91540|             91540004|           amazonas|           NEIVA|           NARANJALES|     CENTRO POBLADO|-70.5178943433|-3.86731728447|               |                               MUNICIPIO|                         |\n",
      "|                 41|           91001|             91001020|           amazonas|           NEIVA| COMUNIDAD INDÍGEN...|     CENTRO POBLADO|-70.2216413306|-3.84723456612|               |                               MUNICIPIO|                         |\n",
      "|                 41|           91540|             91540017|           amazonas|           NEIVA|             VALENCIA|     CENTRO POBLADO|-70.3225621049|-3.80176511867|               |                               MUNICIPIO|                         |\n",
      "|                 41|           91540|             91540000|           amazonas|           NEIVA|        PUERTO NARIÑO| CABECERA MUNICIPAL|-70.3645183498|-3.78044763205|               |                               MUNICIPIO|                         |\n",
      "|                 41|           91540|             91540012|           amazonas|           NEIVA|        NUEVO PARAISO|     CENTRO POBLADO|-70.4020106282|-3.75837218962|               |                               MUNICIPIO|                         |\n",
      "|                 41|           91536|             91536000|           amazonas|           NEIVA|         PUERTO ARICA|     CENTRO POBLADO|-71.7526361921|-2.14844659663|               |                    AREA NO MUNICIPAL...|                         |\n",
      "|                 41|           91263|             91263000|           amazonas|           NEIVA|           EL ENCANTO|     CENTRO POBLADO|-73.2093071812|-1.74555537688|               |                    AREA NO MUNICIPAL...|                         |\n",
      "+-------------------+----------------+---------------------+-------------------+----------------+---------------------+-------------------+--------------+--------------+---------------+----------------------------------------+-------------------------+\n",
      "only showing top 10 rows\n",
      "\n"
     ]
    }
   ],
   "source": [
    "divipola.show(10)"
   ]
  },
  {
   "cell_type": "markdown",
   "metadata": {},
   "source": [
    "Según la información que se presenta en la tabla **PIBCopia**, se puede observar que en los registros tenemos información relacionada al **código del departamento** (que guarda relación con la tabla divipolaCopia), **departamentos**, y el **PIB para los años 2006, 2007, 2008, 2010, 2011, 2012, 2013 y 2014**. Esto muestra que no se están incluyendo todos los años comprendidos desde el 2005 hasta el 2018. En esta tabla lo ideal es que la información de PIB se de por departamento, de tal forma que si busco por un nombre de departamento en específico, se pueda obtener un único registro con la información del PIB. <br>\n",
    "Por otra parte, se presenta la tabla **divipolaCopia** la cual almacena información de los centros poblacionales, en la información que almacena se puede evidenciar que el identificador de la tabla es **Código Centro Poblado**, también se presenta información asociada al municipio en las columas **Código Municipio y Nombre Municipio**, se muestra información más específica para la localización como la **Longitud y la Latitud**, el **tipo de centro poblado**, el **nombre del distrito** y el **área metropolitana**."
   ]
  },
  {
   "cell_type": "code",
   "execution_count": 10,
   "metadata": {},
   "outputs": [
    {
     "data": {
      "text/plain": [
       "StructType(List(StructField(CodigoDepartamento(DIVIPOLA),LongType,true),StructField(DEPARTAMENTOS,StringType,true),StructField(2006,LongType,true),StructField(2007,LongType,true),StructField(2008,DoubleType,true),StructField(2010,DoubleType,true),StructField(2011,LongType,true),StructField(2012,LongType,true),StructField(2013,DoubleType,true),StructField(2014,LongType,true)))"
      ]
     },
     "execution_count": 10,
     "metadata": {},
     "output_type": "execute_result"
    }
   ],
   "source": [
    "pib.schema"
   ]
  },
  {
   "cell_type": "markdown",
   "metadata": {},
   "source": [
    "Con la ejecución del esquema para la tabla PIBCopia se puede observar que hay tipos de datos que no corresponden, por ejemplo, hay años como el 2006 que el tipo es un LongType y otros años como el 2010 que el tipo es DoubleType, resulta extraño que según un año, el tipo de dato del PIB varíe."
   ]
  },
  {
   "cell_type": "code",
   "execution_count": 11,
   "metadata": {},
   "outputs": [
    {
     "data": {
      "text/plain": [
       "StructType(List(StructField(Código Departamento,IntegerType,true),StructField(Código Municipio,IntegerType,true),StructField(Código Centro Poblado,IntegerType,true),StructField(Nombre Departamento,StringType,true),StructField(Nombre Municipio,StringType,true),StructField(Nombre Centro Poblado,StringType,true),StructField(Tipo Centro Poblado,StringType,true),StructField(Longitud,DoubleType,true),StructField(Latitud,DoubleType,true),StructField(Nombre Distrito,StringType,true),StructField(Municipio/Áreas No Municipalizadas (ANM),StringType,true),StructField(Nombre Área Metropolitana,StringType,true)))"
      ]
     },
     "execution_count": 11,
     "metadata": {},
     "output_type": "execute_result"
    }
   ],
   "source": [
    "divipola.schema"
   ]
  },
  {
   "cell_type": "markdown",
   "metadata": {},
   "source": [
    "Con la ejecución del esquema para la tabla divipolaCopia se puede observar en primera medida que el tipo de dato del campo Código Departamento es IntegerType y para el campo de la tabla pibCopia es LongType, por otra parte, los campos Código Departamento, Código Municipio y Código Centro Poblado son de tipo Integer, los campos Longitud y Latitud son de tipo Double y el resto de campos son String, mayoritariamente hay más campos de tipo String."
   ]
  },
  {
   "cell_type": "markdown",
   "metadata": {},
   "source": [
    "**¿Qué es una fila de la fuente compartida para la tabla PIBCopia?**\n",
    "Con los análisis antes mencionados, se puede concluir que una fila de la tabla PIBCopia corresponde al PIB por departamento en un año en específico.<br>\n",
    "**¿Qué es una fila de la fuente compartida para la tabla divipolaCopia?**\n",
    "Con los análisis antes mencionados, se puede concluir que una fila de la tabla divipolaCopia corresponde a la información de centros poblados que están relacionados con un departamento y ciudad, además, relaciona información de ubicación más específica como la longitud y latitud."
   ]
  },
  {
   "cell_type": "markdown",
   "metadata": {},
   "source": [
    "Una vez entendida en términos generales la estructura de los datos, es necesario conocer la cantidad de datos disponibles, esto se hace con count() y con columns, que retornan el número de filas y número de columnas respectivamente."
   ]
  },
  {
   "cell_type": "code",
   "execution_count": 12,
   "metadata": {},
   "outputs": [
    {
     "name": "stdout",
     "output_type": "stream",
     "text": [
      "(27, 10)\n"
     ]
    }
   ],
   "source": [
    "print((pib.count(), len(pib.columns)))"
   ]
  },
  {
   "cell_type": "code",
   "execution_count": 13,
   "metadata": {},
   "outputs": [
    {
     "name": "stdout",
     "output_type": "stream",
     "text": [
      "(9508, 12)\n"
     ]
    }
   ],
   "source": [
    "print((divipola.count(), len(divipola.columns)))"
   ]
  },
  {
   "cell_type": "markdown",
   "metadata": {},
   "source": [
    "**¿Cuantos datos nos compartieron para el proyecto?** <br>\n",
    "**PIBCopia** <br>\n",
    "En total tenemos 27 registros de pib relacionados a cada departamento y tenemos en total 10 variables a revisar asociadas a los pibs de las cuales 9 son nùmericas, de esta 9, 8 son columnas de años y 1 columna está asociada con el código del departamento, existe otra columna de tipo cadena de caracteres que permite identificar el nombre del departamento. <br>\n",
    "**divipolaCopia** <br>\n",
    "En total hay 9508 registros de centros poblados, existen 12 variables asociadas a los centros poblados de las cuales 5 representan valores numéricos que representan los diferentes códigos y localización y 7 valriables son de tipo cadena de caracteres para identificar los nombres de departamentos, ciudades, áreas y tipos de centros poblados."
   ]
  },
  {
   "cell_type": "markdown",
   "metadata": {},
   "source": [
    "### Revisión de reglas de negocio \n",
    "Se confirmarán las reglas de negocio que se han suministrado por parte de Wide World Importers <br>\n",
    "**NOTA** Tener en cuenta que se consideran las reglas de negocio 1 y 5 como se muestra a continuación\n",
    "#### 1. Hay informacion del PIB para los 32 departamentos desde 2005 hasta 2018\n",
    "Como primera medida, se valida que existan los 32 departamentos en la tabla PIBCopia"
   ]
  },
  {
   "cell_type": "code",
   "execution_count": 14,
   "metadata": {},
   "outputs": [
    {
     "data": {
      "text/plain": [
       "17"
      ]
     },
     "execution_count": 14,
     "metadata": {},
     "output_type": "execute_result"
    }
   ],
   "source": [
    "pib.select(\"DEPARTAMENTOS\").distinct().count()"
   ]
  },
  {
   "cell_type": "markdown",
   "metadata": {},
   "source": [
    "Podemos apreciar que existe registro del PIB solo para 17 departamentos, que corresponde a casi la mitad de lo que indica la regla de negocio, por lo que es necesario pedirle una aclaración al negocio sobre la falta de departamentos"
   ]
  },
  {
   "cell_type": "markdown",
   "metadata": {},
   "source": [
    "Como segunda medida, se procede a verificar que efectivamente se estén incluyendo los años desde el 2005 hasta el 2018, para esto, se muestran las columnas de la tabla"
   ]
  },
  {
   "cell_type": "code",
   "execution_count": 16,
   "metadata": {},
   "outputs": [
    {
     "data": {
      "text/plain": [
       "['CodigoDepartamento(DIVIPOLA)',\n",
       " 'DEPARTAMENTOS',\n",
       " '2006',\n",
       " '2007',\n",
       " '2008',\n",
       " '2010',\n",
       " '2011',\n",
       " '2012',\n",
       " '2013',\n",
       " '2014']"
      ]
     },
     "execution_count": 16,
     "metadata": {},
     "output_type": "execute_result"
    }
   ],
   "source": [
    "pib.columns"
   ]
  },
  {
   "cell_type": "markdown",
   "metadata": {},
   "source": [
    "Como se puede observar, no existe información del PIB para el año 2005, 2009, 2015, 2016, 2017 y 2018, lo cual corresponde a casi el 43% de años faltantes, es una cantidad considerable así que es indispensable corroborar la información con negocio"
   ]
  },
  {
   "cell_type": "markdown",
   "metadata": {},
   "source": [
    "#### 5. Hay información de 7879 centros poblados\n",
    "Se procede a evaluar la cantidad de centros poblados que existen en la tabla divipolaCopia"
   ]
  },
  {
   "cell_type": "code",
   "execution_count": 21,
   "metadata": {},
   "outputs": [
    {
     "data": {
      "text/plain": [
       "9508"
      ]
     },
     "execution_count": 21,
     "metadata": {},
     "output_type": "execute_result"
    }
   ],
   "source": [
    "divipola.count()"
   ]
  },
  {
   "cell_type": "markdown",
   "metadata": {},
   "source": [
    "Vemos que existen 9508 registros de centros poblados, existen 1629 registros de más, esto corresponde a un 21% de información adicional, se puede indagar más sobre el por qué existen más registros, para esto, se procede a contar la cantidad de registros diferentes en la taba"
   ]
  },
  {
   "cell_type": "code",
   "execution_count": 22,
   "metadata": {},
   "outputs": [
    {
     "data": {
      "text/plain": [
       "9508"
      ]
     },
     "execution_count": 22,
     "metadata": {},
     "output_type": "execute_result"
    }
   ],
   "source": [
    "divipola.distinct().count()"
   ]
  },
  {
   "cell_type": "markdown",
   "metadata": {},
   "source": [
    "La cantidad de registros diferentes es igual a la cantidad total de registros, entonces, ¿Qué otra razón puede existir para que exista esta diferencia de registros? esto se puede deber a que existen valores en la columna identificadora repetidos, pero que el resto de atributos son diferentes, vamos a verlos"
   ]
  },
  {
   "cell_type": "code",
   "execution_count": 25,
   "metadata": {},
   "outputs": [
    {
     "data": {
      "text/plain": [
       "7879"
      ]
     },
     "execution_count": 25,
     "metadata": {},
     "output_type": "execute_result"
    }
   ],
   "source": [
    "divipola.select(\"Código Centro Poblado\").distinct().count()"
   ]
  },
  {
   "cell_type": "markdown",
   "metadata": {},
   "source": [
    "Esto nos muestra que tenemos 1629 registros el mismo centro poblado pero con valores diferentes"
   ]
  },
  {
   "cell_type": "markdown",
   "metadata": {},
   "source": [
    "### Análisis descriptivo\n",
    "Una vez cubierto lo básico de reglas de negocio, se realizará el perfilamiento estadístico. Para ver estadisticos generales como conteo, mínimo, máximo, desviación estandar y percentiles.\n",
    "#### Análisis para PIBCopia"
   ]
  },
  {
   "cell_type": "code",
   "execution_count": 26,
   "metadata": {},
   "outputs": [
    {
     "name": "stdout",
     "output_type": "stream",
     "text": [
      "+-------+----------------------------+-------------+------------------+-----------------+-------------------+--------------------+-----------------+--------------------+--------------------+--------------------+\n",
      "|summary|CodigoDepartamento(DIVIPOLA)|DEPARTAMENTOS|              2006|             2007|               2008|                2010|             2011|                2012|                2013|                2014|\n",
      "+-------+----------------------------+-------------+------------------+-----------------+-------------------+--------------------+-----------------+--------------------+--------------------+--------------------+\n",
      "|  count|                          27|           27|                27|               27|                 27|                  27|               27|                  27|                  27|                  27|\n",
      "|   mean|            48.7037037037037|         null| 6413240.740740741|7130828.037037037|  7851694.186446355|   8737185.290427044|9728735.962962963|1.0380039925925925E7|1.1111859341725312E7|1.1774719888888888E7|\n",
      "| stddev|          35.843478985095544|         null|2611248.9626708487|2977845.769359228|  3262076.800897536|  3708953.8408978363|4313294.524653619|   4492796.711956715|   4785220.102769231|   5118298.026004297|\n",
      "|    min|                           0|    ANTIOQUIA|           3575615|          4060678|   4337203.79854487|   4285403.948100506|          4377994|             4639459|   4856888.325019439|             4733848|\n",
      "|    25%|                          15|         null|           4362011|          4553399|  4854812.196886142|     5337184.1303263|          5516404|             6439647|   6914460.222596752|             7555705|\n",
      "|    50%|                          41|         null|           5133194|          5776380|  7107721.504297101|   9481200.322350295|         10288314|            11400169|1.1967750469189592E7|            12460838|\n",
      "|    75%|                          86|         null|           8046451|          9523137|        1.1048217E7|         1.2340797E7|         13461456|            14347570|1.5262933073640093E7|            16490649|\n",
      "|    max|                          99|         uila|          14770879|         16332253|1.754190668595805E7|1.9690380697771702E7|         21347503|            22865844| 2.453659082487613E7|            26337646|\n",
      "+-------+----------------------------+-------------+------------------+-----------------+-------------------+--------------------+-----------------+--------------------+--------------------+--------------------+\n",
      "\n"
     ]
    }
   ],
   "source": [
    "pib.summary().show()"
   ]
  },
  {
   "cell_type": "markdown",
   "metadata": {
    "tags": []
   },
   "source": [
    "En el conteo vemos que ninguna columna da como resultado 0, por el contrario, todas dan como resultado 27, esto resulta interesante, ya que todas las columnas podrían contener valores nulos, sin embargo, acá se evidencia que todas las filas tienen asignado un valor a cada columna. Para el campo CodigoDepartamento se calcula la media, pero este valor no es relevante, por lo que no se considera, por otra parte, para cada años se muestra la media, acá podemos ver que para el año 2006 se tuvo un PIB promedio de 6413240.740740741, mientras que para el años 2014 se tuvo un PIB promedio de 1.1774719888888888E7, esto da una diferencia de 5361479.148 entre el año 2006 y el 2014, también se pueden ver los PIB mínimos y máximos por años, para el 2006 se tuvo un PIB mínimo de 3575615 y un PIB mínimo para el año 2014 de 4733848. Por último, el 75% de los datos para el año 2006 no supera el PIB 8046451, mientras que el 75% de los datos para el año 2014 no supera el PIB 16490649.\n",
    "\n",
    "#### Análisis para divipolaCopia"
   ]
  },
  {
   "cell_type": "code",
   "execution_count": 27,
   "metadata": {},
   "outputs": [
    {
     "name": "stdout",
     "output_type": "stream",
     "text": [
      "+-------+-------------------+------------------+---------------------+-------------------+----------------+---------------------+-------------------+------------------+------------------+--------------------+----------------------------------------+-------------------------+\n",
      "|summary|Código Departamento|  Código Municipio|Código Centro Poblado|Nombre Departamento|Nombre Municipio|Nombre Centro Poblado|Tipo Centro Poblado|          Longitud|           Latitud|     Nombre Distrito|Municipio/Áreas No Municipalizadas (ANM)|Nombre Área Metropolitana|\n",
      "+-------+-------------------+------------------+---------------------+-------------------+----------------+---------------------+-------------------+------------------+------------------+--------------------+----------------------------------------+-------------------------+\n",
      "|  count|               9508|              9508|                 9508|               9508|            9508|                 9508|               9508|              9508|              9508|                9508|                                    9508|                     9508|\n",
      "|   mean|               41.0| 40581.06994110223| 4.0581083873159446E7|               null|            null|                 null|               null|-74.58826264179658| 5.503320507854293|                null|                                    null|                     null|\n",
      "| stddev|                0.0|26073.879984952444|  2.607388262641055E7|               null|            null|                 null|               null| 4.214896199193669|3.6691444969329488|                null|                                    null|                     null|\n",
      "|    min|                 41|              5001|              5001000|          ANTIOQUIA|           NEIVA|           13 DE MAYO| CABECERA MUNICIPAL|    -81.7300009044|    -4.19469878932|                    |                    AREA NO MUNICIPAL...|                         |\n",
      "|    25%|                 41|             19100|             19100020|               null|            null|                 null|               null|    -76.3551928772|     3.01605390077|                null|                                    null|                     null|\n",
      "|    50%|                 41|             27615|             27615023|               null|            null|                 null|               null|    -75.1846870877|     5.44661322782|                null|                                    null|                     null|\n",
      "|    75%|                 41|             68092|             68092000|               null|            null|                 null|               null|    -73.5653004569|     8.55580584876|                null|                                    null|                     null|\n",
      "|    max|                 41|             99773|             99773027|            vichada|           NEIVA|                ÚTICA|     CENTRO POBLADO|               0.0|     13.3839692233|TURBO, DISTRITO E...|                               MUNICIPIO|     AREA METROPOLITAN...|\n",
      "+-------+-------------------+------------------+---------------------+-------------------+----------------+---------------------+-------------------+------------------+------------------+--------------------+----------------------------------------+-------------------------+\n",
      "\n"
     ]
    }
   ],
   "source": [
    "divipola.summary().show()"
   ]
  },
  {
   "cell_type": "markdown",
   "metadata": {},
   "source": [
    "En el conteo vemos que ninguna columna da como resultado 0, por el contrario, todas dan como resultado 9508, esto resulta interesante, ya que todas las columnas podrían contener valores nulos, sin embargo, acá se evidencia que todas las filas tienen asignado un valor a cada columna. También se puede evidenciar medidas importantes como la longitud mínima que corresponde a -81.7300009044 y latitud mínima de -4.19469878932, por otra parte, el 75% de los datos no superan la Longitud -73.5653004569 y para la Latitud el 75% de los datos no superan una latitud de  8.55580584876. Por último, vale la pena observar que el nombre de departamento con caracteres mínimos es ANTIOQUIA y vichada es el que tiene los caracteres máximos."
   ]
  },
  {
   "cell_type": "markdown",
   "metadata": {},
   "source": [
    "A continuación se mostrará un diagrama de caja con el fin de detectar valores atípicos en los años que registran PIB\n",
    "#### 2006"
   ]
  },
  {
   "cell_type": "code",
   "execution_count": 28,
   "metadata": {},
   "outputs": [
    {
     "data": {
      "text/plain": [
       "{'whiskers': [<matplotlib.lines.Line2D at 0x1c2d6340708>,\n",
       "  <matplotlib.lines.Line2D at 0x1c2d6340dc8>],\n",
       " 'caps': [<matplotlib.lines.Line2D at 0x1c2d632fb48>,\n",
       "  <matplotlib.lines.Line2D at 0x1c2d634d148>],\n",
       " 'boxes': [<matplotlib.lines.Line2D at 0x1c2d52da188>],\n",
       " 'medians': [<matplotlib.lines.Line2D at 0x1c2d6353188>],\n",
       " 'fliers': [<matplotlib.lines.Line2D at 0x1c2d634db48>],\n",
       " 'means': []}"
      ]
     },
     "execution_count": 28,
     "metadata": {},
     "output_type": "execute_result"
    },
    {
     "data": {
      "image/png": "[encoded data removed]",
      "text/plain": [
       "<Figure size 432x288 with 1 Axes>"
      ]
     },
     "metadata": {
      "needs_background": "light"
     },
     "output_type": "display_data"
    }
   ],
   "source": [
    "%matplotlib inline\n",
    "import matplotlib.pyplot as plt\n",
    "\n",
    "fig1, ax1 = plt.subplots()\n",
    "ax1.set_title('PIB para el año 2006')\n",
    "ax1.boxplot(np.array(pib.select('2006').collect()))"
   ]
  },
  {
   "cell_type": "markdown",
   "metadata": {},
   "source": [
    "Acá se logra apreciar que el 75% de los datos muestra un valor de PIB hasta el 0.8e7 y se registra un valor atípico de PIB superior a 1.4e7"
   ]
  },
  {
   "cell_type": "markdown",
   "metadata": {},
   "source": [
    "#### 2007"
   ]
  },
  {
   "cell_type": "code",
   "execution_count": 30,
   "metadata": {},
   "outputs": [
    {
     "data": {
      "text/plain": [
       "{'whiskers': [<matplotlib.lines.Line2D at 0x1c2d6459148>,\n",
       "  <matplotlib.lines.Line2D at 0x1c2d6459848>],\n",
       " 'caps': [<matplotlib.lines.Line2D at 0x1c2d6459948>,\n",
       "  <matplotlib.lines.Line2D at 0x1c2d6459908>],\n",
       " 'boxes': [<matplotlib.lines.Line2D at 0x1c2d6457808>],\n",
       " 'medians': [<matplotlib.lines.Line2D at 0x1c2d6460788>],\n",
       " 'fliers': [<matplotlib.lines.Line2D at 0x1c2d6460e48>],\n",
       " 'means': []}"
      ]
     },
     "execution_count": 30,
     "metadata": {},
     "output_type": "execute_result"
    },
    {
     "data": {
      "image/png": "[encoded data removed]",
      "text/plain": [
       "<Figure size 432x288 with 1 Axes>"
      ]
     },
     "metadata": {
      "needs_background": "light"
     },
     "output_type": "display_data"
    }
   ],
   "source": [
    "%matplotlib inline\n",
    "import matplotlib.pyplot as plt\n",
    "\n",
    "fig1, ax1 = plt.subplots()\n",
    "ax1.set_title('PIB para el año 2007')\n",
    "ax1.boxplot(np.array(pib.select('2007').collect()))"
   ]
  },
  {
   "cell_type": "markdown",
   "metadata": {},
   "source": [
    "Acá se logra apreciar que el 75% de los datos muestra un valor de PIB alrededor de el 0.9e7 y se registra un valor atípico de PIB superior a 1.6e7"
   ]
  },
  {
   "cell_type": "markdown",
   "metadata": {},
   "source": [
    "#### 2008"
   ]
  },
  {
   "cell_type": "code",
   "execution_count": 31,
   "metadata": {},
   "outputs": [
    {
     "data": {
      "text/plain": [
       "{'whiskers': [<matplotlib.lines.Line2D at 0x1c2d64dd208>,\n",
       "  <matplotlib.lines.Line2D at 0x1c2d64dd8c8>],\n",
       " 'caps': [<matplotlib.lines.Line2D at 0x1c2d64ddb08>,\n",
       "  <matplotlib.lines.Line2D at 0x1c2d64dd988>],\n",
       " 'boxes': [<matplotlib.lines.Line2D at 0x1c2d64da908>],\n",
       " 'medians': [<matplotlib.lines.Line2D at 0x1c2d64e6788>],\n",
       " 'fliers': [<matplotlib.lines.Line2D at 0x1c2d64e6e08>],\n",
       " 'means': []}"
      ]
     },
     "execution_count": 31,
     "metadata": {},
     "output_type": "execute_result"
    },
    {
     "data": {
      "image/png": "[encoded data removed]",
      "text/plain": [
       "<Figure size 432x288 with 1 Axes>"
      ]
     },
     "metadata": {
      "needs_background": "light"
     },
     "output_type": "display_data"
    }
   ],
   "source": [
    "%matplotlib inline\n",
    "import matplotlib.pyplot as plt\n",
    "\n",
    "fig1, ax1 = plt.subplots()\n",
    "ax1.set_title('PIB para el año 2008')\n",
    "ax1.boxplot(np.array(pib.select('2008').collect()))"
   ]
  },
  {
   "cell_type": "markdown",
   "metadata": {},
   "source": [
    "Acá se logra apreciar que el 75% de los datos muestra un valor de PIB alrededor de el 1.0e7 y se registra un valor atípico de PIB superior a 1.7e7"
   ]
  },
  {
   "cell_type": "markdown",
   "metadata": {},
   "source": [
    "#### 2010"
   ]
  },
  {
   "cell_type": "code",
   "execution_count": 32,
   "metadata": {},
   "outputs": [
    {
     "data": {
      "text/plain": [
       "{'whiskers': [<matplotlib.lines.Line2D at 0x1c2d7516b48>,\n",
       "  <matplotlib.lines.Line2D at 0x1c2d7530f08>],\n",
       " 'caps': [<matplotlib.lines.Line2D at 0x1c2d752aa88>,\n",
       "  <matplotlib.lines.Line2D at 0x1c2d7538288>],\n",
       " 'boxes': [<matplotlib.lines.Line2D at 0x1c2d7530508>],\n",
       " 'medians': [<matplotlib.lines.Line2D at 0x1c2d753d2c8>],\n",
       " 'fliers': [<matplotlib.lines.Line2D at 0x1c2d7538cc8>],\n",
       " 'means': []}"
      ]
     },
     "execution_count": 32,
     "metadata": {},
     "output_type": "execute_result"
    },
    {
     "data": {
      "image/png": "[encoded data removed]",
      "text/plain": [
       "<Figure size 432x288 with 1 Axes>"
      ]
     },
     "metadata": {
      "needs_background": "light"
     },
     "output_type": "display_data"
    }
   ],
   "source": [
    "%matplotlib inline\n",
    "import matplotlib.pyplot as plt\n",
    "\n",
    "fig1, ax1 = plt.subplots()\n",
    "ax1.set_title('PIB para el año 2010')\n",
    "ax1.boxplot(np.array(pib.select('2010').collect()))"
   ]
  },
  {
   "cell_type": "markdown",
   "metadata": {},
   "source": [
    "Acá se logra apreciar que el 75% de los datos muestra un valor de PIB alrededor de el 1.1e7 y se registra un valor atípico de PIB superior a 1.9e7"
   ]
  },
  {
   "cell_type": "markdown",
   "metadata": {},
   "source": [
    "#### 2011"
   ]
  },
  {
   "cell_type": "code",
   "execution_count": 33,
   "metadata": {},
   "outputs": [
    {
     "data": {
      "text/plain": [
       "{'whiskers': [<matplotlib.lines.Line2D at 0x1c2d75b43c8>,\n",
       "  <matplotlib.lines.Line2D at 0x1c2d75b88c8>],\n",
       " 'caps': [<matplotlib.lines.Line2D at 0x1c2d75b4fc8>,\n",
       "  <matplotlib.lines.Line2D at 0x1c2d759d648>],\n",
       " 'boxes': [<matplotlib.lines.Line2D at 0x1c2d75b4d88>],\n",
       " 'medians': [<matplotlib.lines.Line2D at 0x1c2d75bc7c8>],\n",
       " 'fliers': [<matplotlib.lines.Line2D at 0x1c2d75bce88>],\n",
       " 'means': []}"
      ]
     },
     "execution_count": 33,
     "metadata": {},
     "output_type": "execute_result"
    },
    {
     "data": {
      "image/png": "[encoded data removed]",
      "text/plain": [
       "<Figure size 432x288 with 1 Axes>"
      ]
     },
     "metadata": {
      "needs_background": "light"
     },
     "output_type": "display_data"
    }
   ],
   "source": [
    "%matplotlib inline\n",
    "import matplotlib.pyplot as plt\n",
    "\n",
    "fig1, ax1 = plt.subplots()\n",
    "ax1.set_title('PIB para el año 2011')\n",
    "ax1.boxplot(np.array(pib.select('2011').collect()))"
   ]
  },
  {
   "cell_type": "markdown",
   "metadata": {},
   "source": [
    "Acá se logra apreciar que el 75% de los datos muestra un valor de PIB alrededor de el 1.25e7 y se registra un valor atípico de PIB superior a 2.0e7"
   ]
  },
  {
   "cell_type": "markdown",
   "metadata": {},
   "source": [
    "#### 2012"
   ]
  },
  {
   "cell_type": "code",
   "execution_count": 34,
   "metadata": {},
   "outputs": [
    {
     "data": {
      "text/plain": [
       "{'whiskers': [<matplotlib.lines.Line2D at 0x1c2d762c648>,\n",
       "  <matplotlib.lines.Line2D at 0x1c2d7631a08>],\n",
       " 'caps': [<matplotlib.lines.Line2D at 0x1c2d7631cc8>,\n",
       "  <matplotlib.lines.Line2D at 0x1c2d7631ac8>],\n",
       " 'boxes': [<matplotlib.lines.Line2D at 0x1c2d762cf08>],\n",
       " 'medians': [<matplotlib.lines.Line2D at 0x1c2d7637908>],\n",
       " 'fliers': [<matplotlib.lines.Line2D at 0x1c2d7637fc8>],\n",
       " 'means': []}"
      ]
     },
     "execution_count": 34,
     "metadata": {},
     "output_type": "execute_result"
    },
    {
     "data": {
      "image/png": "[encoded data removed]",
      "text/plain": [
       "<Figure size 432x288 with 1 Axes>"
      ]
     },
     "metadata": {
      "needs_background": "light"
     },
     "output_type": "display_data"
    }
   ],
   "source": [
    "%matplotlib inline\n",
    "import matplotlib.pyplot as plt\n",
    "\n",
    "fig1, ax1 = plt.subplots()\n",
    "ax1.set_title('PIB para el año 2012')\n",
    "ax1.boxplot(np.array(pib.select('2012').collect()))"
   ]
  },
  {
   "cell_type": "markdown",
   "metadata": {},
   "source": [
    "Acá se logra apreciar que el 75% de los datos muestra un valor de PIB alrededor de el 1.3e7 y se registra un valor atípico de PIB superior a 2.25e7"
   ]
  },
  {
   "cell_type": "markdown",
   "metadata": {},
   "source": [
    "#### 2013"
   ]
  },
  {
   "cell_type": "code",
   "execution_count": 35,
   "metadata": {},
   "outputs": [
    {
     "data": {
      "text/plain": [
       "{'whiskers': [<matplotlib.lines.Line2D at 0x1c2d76aa548>,\n",
       "  <matplotlib.lines.Line2D at 0x1c2d76b0ac8>],\n",
       " 'caps': [<matplotlib.lines.Line2D at 0x1c2d76b0d88>,\n",
       "  <matplotlib.lines.Line2D at 0x1c2d7694808>],\n",
       " 'boxes': [<matplotlib.lines.Line2D at 0x1c2d76aafc8>],\n",
       " 'medians': [<matplotlib.lines.Line2D at 0x1c2d76b4988>],\n",
       " 'fliers': [<matplotlib.lines.Line2D at 0x1c2d76b4888>],\n",
       " 'means': []}"
      ]
     },
     "execution_count": 35,
     "metadata": {},
     "output_type": "execute_result"
    },
    {
     "data": {
      "image/png": "[encoded data removed]",
      "text/plain": [
       "<Figure size 432x288 with 1 Axes>"
      ]
     },
     "metadata": {
      "needs_background": "light"
     },
     "output_type": "display_data"
    }
   ],
   "source": [
    "%matplotlib inline\n",
    "import matplotlib.pyplot as plt\n",
    "\n",
    "fig1, ax1 = plt.subplots()\n",
    "ax1.set_title('PIB para el año 2013')\n",
    "ax1.boxplot(np.array(pib.select('2013').collect()))"
   ]
  },
  {
   "cell_type": "markdown",
   "metadata": {},
   "source": [
    "Acá se logra apreciar que el 75% de los datos muestra un valor de PIB alrededor de el 1.5e7 y se registra un valor atípico de PIB superior a 2.3e7"
   ]
  },
  {
   "cell_type": "markdown",
   "metadata": {},
   "source": [
    "#### 2014"
   ]
  },
  {
   "cell_type": "code",
   "execution_count": 36,
   "metadata": {},
   "outputs": [
    {
     "data": {
      "text/plain": [
       "{'whiskers': [<matplotlib.lines.Line2D at 0x1c2d772fa88>,\n",
       "  <matplotlib.lines.Line2D at 0x1c2d7734508>],\n",
       " 'caps': [<matplotlib.lines.Line2D at 0x1c2d7734608>,\n",
       "  <matplotlib.lines.Line2D at 0x1c2d7734e48>],\n",
       " 'boxes': [<matplotlib.lines.Line2D at 0x1c2d772f9c8>],\n",
       " 'medians': [<matplotlib.lines.Line2D at 0x1c2d7739408>],\n",
       " 'fliers': [<matplotlib.lines.Line2D at 0x1c2d7734dc8>],\n",
       " 'means': []}"
      ]
     },
     "execution_count": 36,
     "metadata": {},
     "output_type": "execute_result"
    },
    {
     "data": {
      "image/png": "[encoded data removed]",
      "text/plain": [
       "<Figure size 432x288 with 1 Axes>"
      ]
     },
     "metadata": {
      "needs_background": "light"
     },
     "output_type": "display_data"
    }
   ],
   "source": [
    "%matplotlib inline\n",
    "import matplotlib.pyplot as plt\n",
    "\n",
    "fig1, ax1 = plt.subplots()\n",
    "ax1.set_title('PIB para el año 2014')\n",
    "ax1.boxplot(np.array(pib.select('2014').collect()))"
   ]
  },
  {
   "cell_type": "markdown",
   "metadata": {},
   "source": [
    "Acá se logra apreciar que el 75% de los datos muestra un valor de PIB alrededor de el 1.5e7 y se registra un valor atípico de PIB superior a 2.5e7"
   ]
  },
  {
   "cell_type": "markdown",
   "metadata": {
    "id": "-axExLnhPn3g"
   },
   "source": [
    "### Análisis de calidad de datos"
   ]
  },
  {
   "cell_type": "markdown",
   "metadata": {
    "id": "-sUZP8wjPn3g"
   },
   "source": [
    "Para evaluar la calidad de los datos, se determinará la idoneidad de la dimensión de completitud, unicidad, consistencia y validez."
   ]
  },
  {
   "cell_type": "markdown",
   "metadata": {
    "tags": []
   },
   "source": [
    "#### Unicidad\n",
    "\n",
    "La unicidad se revisó en la regla de negocio <i>Hay informacion del PIB para los 32 departamentos desde 2005 hasta 2018</i> y en la regla de negocio <i>Hay información de 7879 centros poblados</i> en donde se hace énfasis en la duplicidad de información en los registros. La unicidad también se ve reflejada cuando se utiliza la herramienta Pandas Profiling en una sección posterior."
   ]
  },
  {
   "cell_type": "markdown",
   "metadata": {},
   "source": [
    "#### Completitud\n",
    "El código tomado a continuación es adaptado del tutorial y me pareció valiosa la implementación para evaluar la completitud y validez de la información ya que los métodos se adaptan a el dataframe que se pasa por parámetro sin tener que modificar los métodos."
   ]
  },
  {
   "cell_type": "code",
   "execution_count": 38,
   "metadata": {},
   "outputs": [],
   "source": [
    "def contar_vacios(df):\n",
    "    resultados = []\n",
    "    for c in df.columns:\n",
    "        vacios = df.filter(df[c].isNull()).count()\n",
    "        if vacios!=0:\n",
    "            print('número de vacíos para columna '+c+': '+str( vacios ))\n",
    "            resultados.append(vacios)\n",
    "    return resultados\n",
    "\n",
    "def cardinalidad(df):\n",
    "    resultado = {}\n",
    "    for c in df.columns:\n",
    "        cardinalidad = df.select(col(c)).distinct().count()\n",
    "        if cardinalidad>=df.count()*0.5:\n",
    "            resultado[c] = cardinalidad\n",
    "    return resultado"
   ]
  },
  {
   "cell_type": "code",
   "execution_count": 40,
   "metadata": {},
   "outputs": [
    {
     "data": {
      "text/plain": [
       "[]"
      ]
     },
     "execution_count": 40,
     "metadata": {},
     "output_type": "execute_result"
    }
   ],
   "source": [
    "contar_vacios(pib)"
   ]
  },
  {
   "cell_type": "code",
   "execution_count": 41,
   "metadata": {},
   "outputs": [
    {
     "data": {
      "text/plain": [
       "[]"
      ]
     },
     "execution_count": 41,
     "metadata": {},
     "output_type": "execute_result"
    }
   ],
   "source": [
    "contar_vacios(divipola)"
   ]
  },
  {
   "cell_type": "markdown",
   "metadata": {},
   "source": [
    "Como se ve en el resultado, a pesar de que todas las columnas en la tabla divipolaCopia pueden almacenar valores nulos, no hay ninguna columna que tenga como valor un null, pero esto no es precisamente algo bueno ya que si en la columna `Nombre Área Metropolitana` y en la columna `Nombre Distrito`  si bien no hay nulos, hay campos con cadenas vacías"
   ]
  },
  {
   "cell_type": "code",
   "execution_count": 45,
   "metadata": {},
   "outputs": [
    {
     "data": {
      "text/plain": [
       "9028"
      ]
     },
     "execution_count": 45,
     "metadata": {},
     "output_type": "execute_result"
    }
   ],
   "source": [
    "divipola.filter(col(\"Nombre Área Metropolitana\")=='').count()"
   ]
  },
  {
   "cell_type": "code",
   "execution_count": 46,
   "metadata": {},
   "outputs": [
    {
     "data": {
      "text/plain": [
       "9134"
      ]
     },
     "execution_count": 46,
     "metadata": {},
     "output_type": "execute_result"
    }
   ],
   "source": [
    "divipola.filter(col(\"Nombre Distrito\")=='').count()"
   ]
  },
  {
   "cell_type": "markdown",
   "metadata": {},
   "source": [
    "Como se puede observar, existen 9028 centros poblados con un nombre de área metropolitana vacío y 9134 centros poblados con Nombres de distrito vacíos, vale la pena recordar que el total de centros poblados son 9508, por lo que es una cantidad considerable de registros con información vacía que vale la pena preguntar a negocio sobre la importancia de estos."
   ]
  },
  {
   "cell_type": "code",
   "execution_count": 47,
   "metadata": {},
   "outputs": [
    {
     "data": {
      "text/plain": [
       "{'CodigoDepartamento(DIVIPOLA)': 17,\n",
       " 'DEPARTAMENTOS': 17,\n",
       " '2006': 17,\n",
       " '2007': 17,\n",
       " '2008': 17,\n",
       " '2010': 17,\n",
       " '2011': 17,\n",
       " '2012': 17,\n",
       " '2013': 17,\n",
       " '2014': 17}"
      ]
     },
     "execution_count": 47,
     "metadata": {},
     "output_type": "execute_result"
    }
   ],
   "source": [
    "cardinalidad(pib)"
   ]
  },
  {
   "cell_type": "code",
   "execution_count": 48,
   "metadata": {},
   "outputs": [
    {
     "data": {
      "text/plain": [
       "{'Código Centro Poblado': 7879,\n",
       " 'Nombre Centro Poblado': 5512,\n",
       " 'Longitud': 7078,\n",
       " 'Latitud': 7079}"
      ]
     },
     "execution_count": 48,
     "metadata": {},
     "output_type": "execute_result"
    }
   ],
   "source": [
    "cardinalidad(divipola)"
   ]
  },
  {
   "cell_type": "markdown",
   "metadata": {},
   "source": [
    "Para la tabla **PIBCopia**, todas las columnas tienen una cardinalidad superior al 50% con respecto del total de departamentos con registros de PIB.<br>\n",
    "Para la tabla **divipolaCopia** las columnas Código Centro Poblado, Nombre Centro Poblad, Longitud y Latitud tienen una cardinalidad superior al 50% con respecto del total de registros con centros poblados."
   ]
  },
  {
   "cell_type": "markdown",
   "metadata": {},
   "source": [
    "Por otra parte, como se mencionó en la regla de negocio 1 <i>Hay informacion del PIB para los 32 departamentos desde 2005 hasta 2018</i>, hacen falta departamentos y años para tener el PIB por departamento"
   ]
  },
  {
   "cell_type": "markdown",
   "metadata": {},
   "source": [
    "#### Consistencia\n",
    "Para determinar la consistencia de la tabla, se procede a evaluar la columna `Código Departamento`"
   ]
  },
  {
   "cell_type": "code",
   "execution_count": 49,
   "metadata": {},
   "outputs": [
    {
     "name": "stdout",
     "output_type": "stream",
     "text": [
      "+-------------------+\n",
      "|Código Departamento|\n",
      "+-------------------+\n",
      "|                 41|\n",
      "+-------------------+\n",
      "\n"
     ]
    }
   ],
   "source": [
    "divipola.select(col('Código Departamento')).distinct().show()"
   ]
  },
  {
   "cell_type": "markdown",
   "metadata": {},
   "source": [
    "Se puede observar que solo existe el código de departamento 41 para todos los centros poblados, esto daría a entender que solo hay registros para un departamento, sin embargo, esto no es correcto ya que el código de departamento 41 está representando a varios departamentos como se muestra a continuación"
   ]
  },
  {
   "cell_type": "code",
   "execution_count": 51,
   "metadata": {},
   "outputs": [
    {
     "name": "stdout",
     "output_type": "stream",
     "text": [
      "+-------------------+--------------------+-----+\n",
      "|Código Departamento| Nombre Departamento|count|\n",
      "+-------------------+--------------------+-----+\n",
      "|                 41|              caldas|   52|\n",
      "|                 41|              vaupes|    3|\n",
      "|                 41|archipielago de s...|   14|\n",
      "|                 41|                uila|  191|\n",
      "|                 41|           santander|   97|\n",
      "|                 41|           ATLANTICO|   81|\n",
      "|                 41|               amazX|   55|\n",
      "|                 41|           risaralda|   43|\n",
      "|                 41|           vaupeszsx|   14|\n",
      "|                 41|              GUANIA|   17|\n",
      "|                 41|             CAQUETA|   99|\n",
      "|                 41|                META|  178|\n",
      "|                 41|           antioquia|  192|\n",
      "|                 41|            VASANARE|   92|\n",
      "|                 41|              boyaca|   63|\n",
      "|                 41|        cundinamarca|  125|\n",
      "|                 41|               cauca|  118|\n",
      "|                 41|            el valle|  531|\n",
      "|                 41|             CORDOBA|  506|\n",
      "|                 41|            guaviare|   23|\n",
      "+-------------------+--------------------+-----+\n",
      "only showing top 20 rows\n",
      "\n"
     ]
    }
   ],
   "source": [
    "divipola.groupBy(\"Código Departamento\", \"Nombre Departamento\").count().show()"
   ]
  },
  {
   "cell_type": "markdown",
   "metadata": {},
   "source": [
    "Acá podemos ver que por ejemplo, el código de departamento 41 está representando al departamento caldas 52 veces y a vaupes lo está representando 3 veces, esto no guarda consistencia con la tabla PIBCopia, la cual tiene un nombre en específico para el código de departamento 41"
   ]
  },
  {
   "cell_type": "code",
   "execution_count": 58,
   "metadata": {},
   "outputs": [
    {
     "name": "stdout",
     "output_type": "stream",
     "text": [
      "+----------------------------+-------------+-------+-------+-----------------+----------------+--------+--------+--------------------+--------+\n",
      "|CodigoDepartamento(DIVIPOLA)|DEPARTAMENTOS|   2006|   2007|             2008|            2010|    2011|    2012|                2013|    2014|\n",
      "+----------------------------+-------------+-------+-------+-----------------+----------------+--------+--------+--------------------+--------+\n",
      "|                          41|         uila|6895658|7441987|8686536.103258422|9548624.85406653|11113741|11400169|1.1967750469189592E7|12755711|\n",
      "+----------------------------+-------------+-------+-------+-----------------+----------------+--------+--------+--------------------+--------+\n",
      "\n"
     ]
    }
   ],
   "source": [
    "pib.filter(col(\"CodigoDepartamento(DIVIPOLA)\") == 41).limit(1).show()"
   ]
  },
  {
   "cell_type": "markdown",
   "metadata": {},
   "source": [
    "En el resultado anterior se puede observar que para el código de departamento 41, el nombre del departamento que representa este código es uila (Está mal escrito)"
   ]
  },
  {
   "cell_type": "markdown",
   "metadata": {},
   "source": [
    "Como se mencionó en la sección que muestra los esquemas de las tablas, en divipolaCopia se puede observar que el tipo de dato del campo Código Departamento es IntegerType y para el campo de la tabla pibCopia es LongType, estos tipos de datos no son consistentes entre las dos tablas."
   ]
  },
  {
   "cell_type": "markdown",
   "metadata": {},
   "source": [
    "Es importante resaltar que los nombres de las columnas provistos en el diccionario de datos para la tabla divipolaCopia no son acordes a los que están en la fuente de datos provista, en la fuente de datos los nombres de las columnas contienen espacios y tíldes, en el diccionario no."
   ]
  },
  {
   "cell_type": "markdown",
   "metadata": {},
   "source": [
    "#### Validez\n",
    "Se procede a verificar si los datos proporcionados son válidos.\n",
    "\n",
    "Se analizará la información almacenada en la columna DEPARTAMENTOS de la tabla PIBCopia  "
   ]
  },
  {
   "cell_type": "code",
   "execution_count": 60,
   "metadata": {},
   "outputs": [
    {
     "name": "stdout",
     "output_type": "stream",
     "text": [
      "+--------------------+\n",
      "|       DEPARTAMENTOS|\n",
      "+--------------------+\n",
      "|            CaquetÃ¡|\n",
      "|          AtlÃ¡ntico|\n",
      "|             VICHADA|\n",
      "|            guaviare|\n",
      "|             cordoba|\n",
      "|           ANTIOQUIA|\n",
      "|            norte de|\n",
      "|            QuindiÃ³|\n",
      "|                uila|\n",
      "|              GUANIA|\n",
      "|            el valle|\n",
      "|Republica de Colo...|\n",
      "|boyacaaaaaaaaaaaa...|\n",
      "|             NARIÃ‘O|\n",
      "|            El Cesar|\n",
      "|            PUTUMAYO|\n",
      "|Bogota distrito c...|\n",
      "+--------------------+\n",
      "\n"
     ]
    }
   ],
   "source": [
    "pib.select(\"DEPARTAMENTOS\").distinct().show()"
   ]
  },
  {
   "cell_type": "markdown",
   "metadata": {},
   "source": [
    "Como se puede ver, hay nombres mal escritos para los departamentos de colombia, como boyacaaaaaaaaaaaaaaaaaaaa, norte de, uila y el valle, además, se puso como departamento a Republica de Colombia, estos datos son incorrectos"
   ]
  },
  {
   "cell_type": "markdown",
   "metadata": {},
   "source": [
    "## Herramientas para facilitar el entendimiento de datos"
   ]
  },
  {
   "cell_type": "markdown",
   "metadata": {},
   "source": [
    "Se hará uso de la herramienta Pandas Profiling para mostrar gráficos y estadísticos relacionados a la tabla divipolaCopia"
   ]
  },
  {
   "cell_type": "code",
   "execution_count": 61,
   "metadata": {},
   "outputs": [
    {
     "name": "stderr",
     "output_type": "stream",
     "text": [
      "Summarize dataset: 100%|██████████| 41/41 [00:07<00:00,  5.21it/s, Completed]                                                \n",
      "Generate report structure: 100%|██████████| 1/1 [00:04<00:00,  4.50s/it]\n",
      "Render HTML: 100%|██████████| 1/1 [00:01<00:00,  1.33s/it]\n",
      "Export report to file: 100%|██████████| 1/1 [00:00<00:00, 59.75it/s]\n"
     ]
    }
   ],
   "source": [
    "reporte = ProfileReport(divipola.toPandas())\n",
    "reporte.to_file(PATH+\"reporte_prefilamiento.html\")"
   ]
  },
  {
   "cell_type": "markdown",
   "metadata": {},
   "source": [
    "El reporte nos muestra varias secciones las cuales se detallarán a continuación.\n",
    "\n",
    "**Seccion general del reporte:**\n",
    "1. Tenemos 12 variables y 9508 registros de centros poblados, 4 variables son numéricas y 8 categóricas\n",
    "2. En total la herramienta muestra que hay 0% de datos faltantes, sin embargo, como se mencionó anteriormente, si bien no hay valores nulos, las columnas Área Metropolitana o Nombre Distrito al ser de tipo String almacenan cadenas vacías.\n",
    "3. El archivo ocupa en memoria 780KB\n",
    "4. Se muestra que existe un 0% de registros duplicados, esto es porque las filas tienen valores diferentes en las columnas, pero como anteriormente se mencionó, el campo de Código Centro Poblado que es el identificador de la tabla si tiene duplicados.\n",
    "\n",
    "**Sección de variables del reporte:**\n",
    "\n",
    "5. La variable Código Municipio tiene 1121 registros distintos, lo que equivale al 11.8% de registros, se tiene un código mínimo de 5001 y uno máximo de 99773.\n",
    "\n",
    "6. Para la variable Código Departamento se puede ver que hay menos del 0.1% de valores distintos, esto es porque el único código de departamento que aparece es el 41 y este está para los 9508 centros poblados.\n",
    "7. Para la variable Código Centro Poblado se puede observar que existen 7879 datos diferentes, lo cual equivale al 82.9% de registros, el valor mínimo es de 5001000 y el máximo es de 99773027\n",
    "8. La variable Nombre Departamento refleja información importante, en donde la mayoría de centros poblados están en el departamento de ANTIOQUIA, con una cantidad de 734, existen 64 valores distintos para el campo, lo cual es extraño ya que en Colombia hay 32 departamentos.\n",
    "9. Se puede apreciar que la variable Nombre Municipio solo tiene un valor distinto, lo cual indica que solo se consideró el nombre de un municipio para los centros poblados, este municipio es NEIVA y se debería mencionar este descubriiento a negocio dado que existen nombres de departamentos, como ANTIOQUIA que no se corresponden con el municipio.\n",
    "10. En la variable Nombre Centro Poblado existen 5512 valores diferentes, esto significa que el 58% de los centros poblados son diferentes, además, PUEBLO NUEVO es el valor que está más presente en el campo con 51 registros.\n",
    "11. En la variable Tipo Centro Poblado solo hay dos valores diferentes, que corresponden a los valores CENTRO POBLADO el cual aparece en 8169 registros y CABECERA MUNICIPAL.\n",
    "12. En la variable Longitud existen 7078 valores diferentes, el valor mínimo es -81.7300009 y el máximo es 0.\n",
    "13. En la variable Latitud existen 7079 valores diferentes, el valor mínimo es -4.194698789 y el máximo es 13.38396922.\n",
    "14. En la variable Nombre Distrito solo existen 10 valores diferentes, y se puede apreciar que 9134 valores están vacíos, como ya se había mencionado previamente\n",
    "15. En la variable Municipio/Áreas No Municipalizadas (ANM) solo existen 3 valores diferentes, el valor MUNICIPIO es el que están en mayor cantidad de centros poblados, con un total de 9476 registros.\n",
    "16. En la variable Nombre Área Metropolitana solo existen 7 valores diferentes, acá se puede observar que la mayoría de registros contienen campos vacíos, con un total de 9028.\n",
    "\n",
    "**Sección de interacciones y correlaciones:**\n",
    "\n",
    "En la tabla divipolaCopia no hay columnas con correlaciones iguales a 1, por lo que no hay columnas que representen la misma información, las columnas que guardan mayor relación son Longitud y Latitud, pero esto puede ser normal dado la naturaleza de los valores que almacenan."
   ]
  },
  {
   "cell_type": "markdown",
   "metadata": {
    "id": "YfSMeXZQPn3g"
   },
   "source": [
    "### Conclusiones"
   ]
  },
  {
   "cell_type": "markdown",
   "metadata": {
    "id": "iLIyH36rPn3g"
   },
   "source": [
    "**Conclusiones generales:**\n",
    "\n",
    "1. En la tabla de PIBCopia, se puede observar que en los registros tenemos información relacionada al **código del departamento** (que guarda relación con la tabla divipolaCopia), **departamentos**, y el **PIB para los años 2006, 2007, 2008, 2010, 2011, 2012, 2013 y 2014**.\n",
    "2. En la tabla de divipolaCopia, se puede evidenciar que el identificador de la tabla es  **Código Centro Poblado**, también se presenta información asociada al municipio en las columas **Código Municipio y Nombre Municipio**, se muestra información más específica para la localización como la **Longitud y la Latitud**, el **tipo de centro poblado**, el **nombre del distrito** y el **área metropolitana**.\n",
    "3. Una fila de la tabla PIBCopia corresponde al PIB por departamento en un año en específico.\n",
    "4. Una fila de la tabla divipolaCopia corresponde a la información de centros poblados que están relacionados con un departamento y ciudad, además, relaciona información de ubicación más específica como la longitud y latitud.\n",
    "\n",
    "**Conclusiones de reglas de negocio:**\n",
    "\n",
    "1. Existe registro del PIB por departamento solo para 17 departamentos, que corresponde a casi la mitad de lo que indica la regla de negocio, por lo que es necesario pedirle una aclaración al negocio sobre la falta de departamentos\n",
    "2. No existe información del PIB para el año 2005, 2009, 2015, 2016, 2017 y 2018, lo cual corresponde a casi el 43% de años faltantes, es una cantidad considerable así que es indispensable corroborar la información con negocio\n",
    "3. Se tienen 1629 registros que representan el mismo centro poblado pero con valores diferentes\n",
    "\n",
    "**Conclusiones de calidad:**\n",
    "\n",
    "1. Existen 9028 centros poblados con un nombre de área metropolitana vacío y 9134 centros poblados con Nombres de distrito vacíos, son cifras bastante altas, por lo que es importante preguntar al negocio sobre la importancia de estos campos.\n",
    "2. Para la tabla **PIBCopia**, todas las columnas tienen una cardinalidad superior al 50% con respecto del total de departamentos con registros de PIB.\n",
    "3. Para la tabla **divipolaCopia** las columnas Código Centro Poblado, Nombre Centro Poblad, Longitud y Latitud tienen una cardinalidad superior al 50% con respecto del total de registros con centros poblados.\n",
    "4. En la tabla divipolaCopia solo existe el código de departamento 41, este debería representar a un departamento en particular, pero está representando a muchos departamentos, lo cual no parece correcto y es importante recibir aclaraciones por parte del negocio.\n",
    "5. En la tabla divipolaCopia se puede observar que el tipo de dato del campo Código Departamento es IntegerType y para el campo de la tabla PIBCopia es LongType, estos tipos de datos no son consistentes entre las dos tablas.\n",
    "6. Los nombres de las columnas provistos en el diccionario de datos para la tabla divipolaCopia no son acordes a los que están en la fuente de datos provista, en la fuente de datos los nombres de las columnas contienen espacios y tíldes, en el diccionario no. ¿Se deben cambiar los nombres de las columnas para la tabla divipolaCopia?\n",
    "7. Hay nombres mal escritos para los departamentos de colombia, como boyacaaaaaaaaaaaaaaaaaaaa, norte de, uila y el valle, además, se puso como departamento a Republica de Colombia, estos datos son incorrectos.\n",
    "\n",
    "**Usando herramientas:**\n",
    "\n",
    "Seccion general del reporte:\n",
    "1. Tenemos 12 variables y 9508 registros de centros poblados, 4 variables son numéricas y 8 categóricas\n",
    "2. En total la herramienta muestra que hay 0% de datos faltantes, sin embargo, como se mencionó anteriormente, si bien no hay valores nulos, las columnas Área Metropolitana o Nombre Distrito al ser de tipo String almacenan cadenas vacías.\n",
    "3. El archivo ocupa en memoria 780KB\n",
    "4. Se muestra que existe un 0% de registros duplicados, esto es porque las filas tienen valores diferentes en las columnas, pero como anteriormente se mencionó, el campo de Código Centro Poblado que es el identificador de la tabla si tiene duplicados.\n",
    "\n",
    "Sección de variables del reporte:\n",
    "\n",
    "5. La variable Código Municipio tiene 1121 registros distintos, lo que equivale al 11.8% de registros, se tiene un código mínimo de 5001 y uno máximo de 99773.\n",
    "\n",
    "6. Para la variable Código Departamento se puede ver que hay menos del 0.1% de valores distintos, esto es porque el único código de departamento que aparece es el 41 y este está para los 9508 centros poblados.\n",
    "7. Para la variable Código Centro Poblado se puede observar que existen 7879 datos diferentes, lo cual equivale al 82.9% de registros, el valor mínimo es de 5001000 y el máximo es de 99773027\n",
    "8. La variable Nombre Departamento refleja información importante, en donde la mayoría de centros poblados están en el departamento de ANTIOQUIA, con una cantidad de 734, existen 64 valores distintos para el campo, lo cual es extraño ya que en Colombia hay 32 departamentos.\n",
    "9. Se puede apreciar que la variable Nombre Municipio solo tiene un valor distinto, lo cual indica que solo se consideró el nombre de un municipio para los centros poblados, este municipio es NEIVA y se debería mencionar este descubriiento a negocio dado que existen nombres de departamentos, como ANTIOQUIA que no se corresponden con el municipio.\n",
    "10. En la variable Nombre Centro Poblado existen 5512 valores diferentes, esto significa que el 58% de los centros poblados son diferentes, además, PUEBLO NUEVO es el valor que está más presente en el campo con 51 registros.\n",
    "11. En la variable Tipo Centro Poblado solo hay dos valores diferentes, que corresponden a los valores CENTRO POBLADO el cual aparece en 8169 registros y CABECERA MUNICIPAL.\n",
    "12. En la variable Longitud existen 7078 valores diferentes, el valor mínimo es -81.7300009 y el máximo es 0.\n",
    "13. En la variable Latitud existen 7079 valores diferentes, el valor mínimo es -4.194698789 y el máximo es 13.38396922.\n",
    "14. En la variable Nombre Distrito solo existen 10 valores diferentes, y se puede apreciar que 9134 valores están vacíos, como ya se había mencionado previamente\n",
    "15. En la variable Municipio/Áreas No Municipalizadas (ANM) solo existen 3 valores diferentes, el valor MUNICIPIO es el que están en mayor cantidad de centros poblados, con un total de 9476 registros.\n",
    "16. En la variable Nombre Área Metropolitana solo existen 7 valores diferentes, acá se puede observar que la mayoría de registros contienen campos vacíos, con un total de 9028.\n",
    "\n",
    "Sección de interacciones y correlaciones:\n",
    "\n",
    "17. En la tabla divipolaCopia no hay columnas con correlaciones iguales a 1, por lo que no hay columnas que representen la misma información, las columnas que guardan mayor relación son Longitud y Latitud, pero esto puede ser normal dado la naturaleza de los valores que almacenan.\n",
    "\n",
    "**Conclusiones de consultoria**\n",
    "\n",
    "![Requerimiento](./requerimiento_proyecto.png)\n",
    "<br>**NOTA**: La imagen del requerimiento se encuentra dentro de la carpeta <i>Trabajo Semana 4</i> con el nombre requerimiento_proyecto.png\n",
    "\n",
    "Teniendo en cuenta el requerimiento de WWI, la diferencia con respecto a la cantidad de departamentos y años donde se registra el PIB para cada departamente es considerable, además el código del departamente en la tabla divipolaCopia siempre es el mismo, aún así, asignar el código del departamento puede no tomar mucho tiempo, sin embargo, resulta de vital importancia tener la completitud de los departamentos y hacer los respectivos ajustes a sus nombres para poder distinguir bien la información y filtrarla y dado que en el requerimiento en el análisis 5 y 6 se hace mención del PIB y de los centros poblados, el PIB se obtendría de forma incompleta por departamento, además, en el análisis 5 el departamento con mayor promedio podría no estar relacionado con algún departamento de la tabla PIBCopia, lo cual no se podría obtener el PIB para un año en particular, por lo que como están los datos, no sería viable cumplir con el requerimiento."
   ]
  },
  {
   "cell_type": "markdown",
   "metadata": {},
   "source": [
    "### Lista de preguntas o comentarios realizados a la organización\n",
    "En las conclusiones y a lo largo del notebook se han hecho preguntas y comentarios a la organización, pero en este apartado se sintetizarán:\n",
    "1. ¿Por qué existen solo 17 registros de departamentos con la información de PIB? ¿Esta información será completada?\n",
    "2. No existe información del PIB para el año 2005, 2009, 2015, 2016, 2017 y 2018 ¿Se agregará la información de PIB para estos años?\n",
    "3. Existen 9028 centros poblados con un nombre de área metropolitana vacío y 9134 centros poblados con Nombres de distrito vacíos ¿La información de estos campos se puede eliminar?\n",
    "4. En la tabla divipolaCopia solo existe el código de departamento 41, ¿Por qué solo existe este código? ¿Cada departamento debería tener un código único? el código 41 se está relacionando con varios nombres de departamentos diferentes.\n",
    "5. ¿Se deben cambiar los nombres de las columnas para la tabla divipolaCopia para que queden igual al de diccionario de datos suministrado?\n",
    "6. Hay nombres mal escritos para los departamentos de colombia, como boyacaaaaaaaaaaaaaaaaaaaa, norte de, uila y el valle, esta información se debería corregir para facilitar los análisis.\n",
    "7. El nombre de nunicipio en la tabla divipolaCopia siempre es NEIVA ¿Esto está bien?"
   ]
  },
  {
   "cell_type": "code",
   "execution_count": null,
   "metadata": {},
   "outputs": [],
   "source": []
  }
 ],
 "metadata": {
  "colab": {
   "collapsed_sections": [
    "qxN27II0Pn3T",
    "GnAScmClPn3W",
    "UuZspay3Pn3Z",
    "ZHLs1H0hPn3b",
    "QgkzeSm4Pn3b",
    "LZyQcqCvPn3c",
    "eDf54JyKPn3d",
    "ltTluhtIPn3e",
    "IPhtXcD1Pn3g",
    "-axExLnhPn3g",
    "YfSMeXZQPn3g"
   ],
   "name": "MISW-ETL-Entendimiento.ipynb",
   "provenance": []
  },
  "kernelspec": {
   "display_name": "Python 3 (ipykernel)",
   "language": "python",
   "name": "python3"
  },
  "language_info": {
   "codemirror_mode": {
    "name": "ipython",
    "version": 3
   },
   "file_extension": ".py",
   "mimetype": "text/x-python",
   "name": "python",
   "nbconvert_exporter": "python",
   "pygments_lexer": "ipython3",
   "version": "3.7.13"
  },
  "toc-autonumbering": true,
  "toc-showcode": true
 },
 "nbformat": 4,
 "nbformat_minor": 4
}
