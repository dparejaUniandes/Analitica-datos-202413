{
 "cells": [
  {
   "cell_type": "markdown",
   "metadata": {
    "id": "cpWpho0CPn3f"
   },
   "source": [
    "# Solución Tarea\n",
    "Espacio para desarrollar la tarea propuesta sobre la fase de entendimiento de datos"
   ]
  },
  {
   "cell_type": "markdown",
   "metadata": {
    "id": "IPhtXcD1Pn3g"
   },
   "source": [
    "### Perfilamiento de datos"
   ]
  },
  {
   "cell_type": "markdown",
   "metadata": {
    "id": "0JCXGvj0Pn3g",
    "tags": []
   },
   "source": [
    "## Introducción\n",
    "    \n",
    "    Al desarrollar esta tarea, se busca comprender la fase de entendimiento de datos de la metodología ASUM-DM para la empresa WWImporters, para esto, se realizará un perfilamiento general, análisis de reglas de negocio, estadísticos y análisis de calidad de datos.\n",
    "    \n",
    "    La fase de entendimiento de datos es fundamental ya que nos permite familiarizarnos con los datos de la organización, sus relaciones, determinar en primera medida la viabilidad de realizar un proyecto de analítica dada la información suministrada, determinar si los datos son suficientes y las acciones de mejora que se pueden realizar para obtener resultados confiables, además, nos permite identificar nuevas oportunidades de analítica."
   ]
  },
  {
   "cell_type": "markdown",
   "metadata": {
    "tags": []
   },
   "source": [
    "### Configuración e importe de paquetes"
   ]
  },
  {
   "cell_type": "code",
   "execution_count": 1,
   "metadata": {},
   "outputs": [
    {
     "name": "stderr",
     "output_type": "stream",
     "text": [
      "C:\\Users\\estudiante\\anaconda3\\envs\\Tutoriales\\lib\\site-packages\\tqdm\\auto.py:22: TqdmWarning: IProgress not found. Please update jupyter and ipywidgets. See https://ipywidgets.readthedocs.io/en/stable/user_install.html\n",
      "  from .autonotebook import tqdm as notebook_tqdm\n"
     ]
    }
   ],
   "source": [
    "from pyspark.sql import SparkSession\n",
    "from pyspark.sql import functions\n",
    "from pyspark.sql.types import StructType\n",
    "from pyspark import SparkContext, SparkConf, SQLContext\n",
    "from pyspark.sql.types import FloatType, StringType, IntegerType, DateType\n",
    "from pyspark.sql.functions import udf, col, length, isnan, when, count\n",
    "import pyspark.sql.functions as f\n",
    "import os \n",
    "from datetime import datetime\n",
    "from pyspark.sql import types as t\n",
    "from pandas_profiling import ProfileReport\n",
    "import matplotlib.pyplot as plt\n",
    "import numpy as np"
   ]
  },
  {
   "cell_type": "markdown",
   "metadata": {},
   "source": [
    "Configuración del controlador e inicio de sesion Spark"
   ]
  },
  {
   "cell_type": "code",
   "execution_count": 2,
   "metadata": {},
   "outputs": [],
   "source": [
    "path_jar_driver = 'C:\\Program Files (x86)\\MySQL\\Connector J 8.0\\mysql-connector-java-8.0.28.jar'"
   ]
  },
  {
   "cell_type": "code",
   "execution_count": 3,
   "metadata": {},
   "outputs": [
    {
     "name": "stderr",
     "output_type": "stream",
     "text": [
      "C:\\Users\\estudiante\\anaconda3\\envs\\Tutoriales\\lib\\site-packages\\pyspark\\sql\\context.py:79: FutureWarning: Deprecated in 3.0.0. Use SparkSession.builder.getOrCreate() instead.\n",
      "  FutureWarning\n"
     ]
    }
   ],
   "source": [
    "#Configuración de la sesión\n",
    "conf=SparkConf() \\\n",
    "    .set('spark.driver.extraClassPath', path_jar_driver)\n",
    "\n",
    "spark_context = SparkContext(conf=conf)\n",
    "sql_context = SQLContext(spark_context)\n",
    "spark = sql_context.sparkSession"
   ]
  },
  {
   "cell_type": "code",
   "execution_count": 4,
   "metadata": {},
   "outputs": [],
   "source": [
    "# Conexion con el servidor de base de datos:\n",
    "db_connection_string = 'jdbc:mysql://157.253.236.116:8080/WWImportersTransactional'\n",
    "db_user = 'Estudiante_81_202413'\n",
    "db_psswd = 'aabb1122'\n",
    "\n",
    "PATH='./'"
   ]
  },
  {
   "cell_type": "markdown",
   "metadata": {
    "id": "IPhtXcD1Pn3g"
   },
   "source": [
    "### Perfilamiento de datos\n",
    "Esta primera sección de perfilamiento de datos se centrará en tres aspectos fundamentales que son  **entendimiento general** que hace referencia a tener una comprensiòn global antes de entrar en los detalles de los datos compartidos, validación de **reglas de negocio** que corresponden a especificaciones dadas por el negocio en relación con los datos y **análisis descriptivo** en donde se revisan estadísticas como mínimo, máximo, media, mediana, distribuciones de los datos, valores nulos, cardinalidad con el fin de comprender en mayor nivel de profundidad los datos compartidos y diagramas para la visualización de los datos. El **análisis de calidad** se abordará en una sección posterior."
   ]
  },
  {
   "cell_type": "markdown",
   "metadata": {},
   "source": [
    "### Información dada por la organización relacionada con los datos\n",
    "\n",
    "Para este estudio y entendimiento de datos, el enfoque estará sobre el análisis de los datos de movimientos de inventarios, la información será tomada de la tabla movimientosCopia que registra el movimiento en inventario de un producto. Un movimiento se refiere a cualquier caso, ya sea ingreso (cantidades positivas) o retiro (cantidades negativas), la cantidad máxima se refiere a que la cantidad del movimiento en valor absoluto no supere los 50 millones\n",
    "\n",
    "En relación a los datos Wide World Importers menciona:\n",
    "\n",
    "- La cantidad máxima de productos movidos es 50 millones por transacción\n",
    "- Existen 236.668 movimientos de producto realizados desde 2013\n",
    "- Los movimientos están relacionados con 228.265 clientes\n",
    "- El formato de fechas manejado es YYYY-MM-DD HH:MM:SS\n",
    "- Actualmente tenemos 13 proveedores"
   ]
  },
  {
   "cell_type": "markdown",
   "metadata": {},
   "source": [
    "### Conexión a fuente de datos y acceso a los datos"
   ]
  },
  {
   "cell_type": "markdown",
   "metadata": {},
   "source": [
    "#### Conexión a fuente de datos\n",
    "A continuación se define una función que permite establecer la conexión a la base de datos, para el esquema WWImportersTransactional con el fin de analizar la información contenida especialmente en la tabla **movimientosCopia**"
   ]
  },
  {
   "cell_type": "code",
   "execution_count": 5,
   "metadata": {},
   "outputs": [],
   "source": [
    "def obtener_dataframe_de_bd(db_connection_string, sql, db_user, db_psswd):\n",
    "    df_bd = spark.read.format('jdbc')\\\n",
    "        .option('url', db_connection_string) \\\n",
    "        .option('dbtable', sql) \\\n",
    "        .option('user', db_user) \\\n",
    "        .option('password', db_psswd) \\\n",
    "        .option('driver', 'com.mysql.cj.jdbc.Driver') \\\n",
    "        .load()\n",
    "    return df_bd"
   ]
  },
  {
   "cell_type": "markdown",
   "metadata": {},
   "source": [
    "#### Cargue de datos\n",
    "Para consultar desde la base de datos se va a acceder directamente a la tabla dado su nombre WWImportersTransactional.movimientosCopia"
   ]
  },
  {
   "cell_type": "code",
   "execution_count": 6,
   "metadata": {},
   "outputs": [],
   "source": [
    "sql_movimientos = 'WWImportersTransactional.movimientosCopia'"
   ]
  },
  {
   "cell_type": "code",
   "execution_count": 7,
   "metadata": {},
   "outputs": [],
   "source": [
    "movimientos = obtener_dataframe_de_bd(db_connection_string, sql_movimientos, db_user, db_psswd)"
   ]
  },
  {
   "cell_type": "markdown",
   "metadata": {},
   "source": [
    "### Entendimiento general de datos"
   ]
  },
  {
   "cell_type": "markdown",
   "metadata": {},
   "source": [
    "Se mostrarán las primeras 10 filas que están presentes en la tabla movimientosCopia para ver la información y estructura."
   ]
  },
  {
   "cell_type": "code",
   "execution_count": 8,
   "metadata": {},
   "outputs": [
    {
     "name": "stdout",
     "output_type": "stream",
     "text": [
      "+---------------------+----------+-----------------+---------+---------+-----------+---------------+----------------+--------+\n",
      "|TransaccionProductoID|ProductoID|TipoTransaccionID|ClienteID|InvoiceID|ProveedorID|OrdenDeCompraID|FechaTransaccion|Cantidad|\n",
      "+---------------------+----------+-----------------+---------+---------+-----------+---------------+----------------+--------+\n",
      "|               118903|       217|               10|    476.0|  24904.0|           |               |     Apr 25,2014|   -40.0|\n",
      "|               286890|       135|               10|     33.0|  60117.0|           |               |     Dec 10,2015|    -7.0|\n",
      "|               285233|       111|               10|    180.0|  59768.0|           |               |     Dec 04,2015|    -2.0|\n",
      "|               290145|       213|               10|     33.0|  60795.0|           |               |     Dec 23,2015|    -3.0|\n",
      "|               247492|        90|               10|     55.0|  51851.0|           |               |     Jul 27,2015|   -24.0|\n",
      "|               157714|       212|               10|    146.0|  33043.0|           |               |     Sep 15,2014|   -20.0|\n",
      "|               250024|       218|               10|    585.0|  52377.0|           |               |     Aug 04,2015|   -60.0|\n",
      "|               200801|       120|               10|     30.0|  42049.0|           |               |     Feb 23,2015|    -3.0|\n",
      "|               221525|       129|               10|    596.0|  46388.0|           |               |     May 01,2015|    -7.0|\n",
      "|               295331|       197|               10|   1037.0|  61886.0|           |               |     Jan 08,2016|  -216.0|\n",
      "+---------------------+----------+-----------------+---------+---------+-----------+---------------+----------------+--------+\n",
      "only showing top 10 rows\n",
      "\n"
     ]
    }
   ],
   "source": [
    "movimientos.show(10)"
   ]
  },
  {
   "cell_type": "markdown",
   "metadata": {},
   "source": [
    "Según la información que se presenta en la tabla, se puede observar que en los movimientos tenemos información relacionada al **producto**, **clientes**, **facturas**, **proveedores** y a los **movimientos**. Se puede observar que el producto se puede obtener a partir del ProductoID, el cliente se puede obtener a través del atributo ClienteID,  la factura está identificada por el atributo InvoiceID, el proveedor se puede obtener a partir del ProveedorID, la orden de compra relacionada al movimiento se obtiene del atributo OrdenDeCompraID y los atributos que permiten ver obtener la información específica del movimiento son la FechaTransaccion que corresponde a la fecha en que se dio el movimiento en el inventario, la Cantidad que corresponde a la cantidad de productos que se retiraron o ingresaron al inventario, el TransaccionProductoID es la llave primaria de la tabla, que en teoría debería identificar de manera única a cada movimiento."
   ]
  },
  {
   "cell_type": "code",
   "execution_count": 9,
   "metadata": {},
   "outputs": [
    {
     "data": {
      "text/plain": [
       "StructType(List(StructField(TransaccionProductoID,IntegerType,true),StructField(ProductoID,IntegerType,true),StructField(TipoTransaccionID,IntegerType,true),StructField(ClienteID,DoubleType,true),StructField(InvoiceID,DoubleType,true),StructField(ProveedorID,StringType,true),StructField(OrdenDeCompraID,StringType,true),StructField(FechaTransaccion,StringType,true),StructField(Cantidad,DoubleType,true)))"
      ]
     },
     "execution_count": 9,
     "metadata": {},
     "output_type": "execute_result"
    }
   ],
   "source": [
    "movimientos.schema"
   ]
  },
  {
   "cell_type": "markdown",
   "metadata": {},
   "source": [
    "Con la ejecución del esquema para la tabla movimientosCopia se puede observar que hay tipos de datos que no corresponden, por ejemplo, el identificador OrdenDeCompraID es de tipo cadena, esto no se corresponde con el atributo ID_de_pedido de la tabla ordenesCopia, que según el diccionario de datos es la llave primaria de la tabla y que en la tabla está definido de tipo int, también resulta extraño que ProveedorID esté definido como tipo cadena ya que muestra números como si fueran doubles y que ClienteID e InvoiceID estén como tipos double, por lo general, los identificadores primarios que son numéricos se definen como int."
   ]
  },
  {
   "cell_type": "markdown",
   "metadata": {},
   "source": [
    "**¿Qué es una fila de la fuente compartida?**\n",
    "Con los análisis antes mencionados, se puede concluir que una fila de la tabla movimientosCopia es la cantidad en la que se ha extraido o agregado un producto del inventario en una fecha determinada."
   ]
  },
  {
   "cell_type": "markdown",
   "metadata": {},
   "source": [
    "Una vez entendida en términos generales la estructura de los datos, es necesario conocer la cantidad de datos disponibles, esto se hace con count() y con columns, que retornan el número de filas y número de columnas respectivamente."
   ]
  },
  {
   "cell_type": "code",
   "execution_count": 10,
   "metadata": {},
   "outputs": [
    {
     "name": "stdout",
     "output_type": "stream",
     "text": [
      "(204292, 9)\n"
     ]
    }
   ],
   "source": [
    "print((movimientos.count(), len(movimientos.columns)))"
   ]
  },
  {
   "cell_type": "markdown",
   "metadata": {},
   "source": [
    "**¿Cuantos datos nos compartieron para el proyecto?**\n",
    "En total tenemos 204.292 movimientos y tenemos en total 9 variables a revisar asociadas a los movimientos de las cuales 6 son nùmericas y 3 son de tipo cadena de caracteres, cabe mencionar que la variable FechaTransaccion no se toma como tipo fecha ya que esta está definida como tipo cadena."
   ]
  },
  {
   "cell_type": "markdown",
   "metadata": {},
   "source": [
    "### Revisión de reglas de negocio \n",
    "Se confirmarán las reglas de negocio que se han suministrado, como primera medida, Wide World Importers menciona que la cantidad máxima de productos movidos es 50 millones por transacción, vemos que esta regla no se cumple dado que al agrupar por la columna TipoTransaccionID y contar el número de productos movidos por transacción, aparece que el tipo de transacción con id 11 posee 154.702.496 productos movidos, esto supera en más del triple a lo 50 millones que Wide World Importers mencionó, por lo que es necesario pedir aclaraciones al negocio en relación a este descubrimiento."
   ]
  },
  {
   "cell_type": "code",
   "execution_count": 11,
   "metadata": {},
   "outputs": [
    {
     "name": "stdout",
     "output_type": "stream",
     "text": [
      "+-----------------+-------------+\n",
      "|TipoTransaccionID|sum(Cantidad)|\n",
      "+-----------------+-------------+\n",
      "|               12|        -24.0|\n",
      "|               10|   -7714426.0|\n",
      "|               11| 1.54702496E8|\n",
      "+-----------------+-------------+\n",
      "\n"
     ]
    }
   ],
   "source": [
    "movimientos.groupBy(\"TipoTransaccionID\").sum(\"Cantidad\").show()"
   ]
  },
  {
   "cell_type": "markdown",
   "metadata": {},
   "source": [
    "Al examinar la segunda regla de negocio mencionada, se especifica que existen 236.668 movimientos de producto realizados desde 2013, como primera instancia, \n",
    "se procede a evaluar si existen registros cuya fecha sea inferior al año 2013."
   ]
  },
  {
   "cell_type": "code",
   "execution_count": 12,
   "metadata": {},
   "outputs": [
    {
     "name": "stdout",
     "output_type": "stream",
     "text": [
      "+---------------------+\n",
      "|min(FechaTransaccion)|\n",
      "+---------------------+\n",
      "| 2013-12-31 07:00:...|\n",
      "+---------------------+\n",
      "\n"
     ]
    }
   ],
   "source": [
    "movimientos.agg({\"FechaTransaccion\": \"min\"}).show()"
   ]
  },
  {
   "cell_type": "code",
   "execution_count": 13,
   "metadata": {},
   "outputs": [
    {
     "data": {
      "text/plain": [
       "0"
      ]
     },
     "execution_count": 13,
     "metadata": {},
     "output_type": "execute_result"
    }
   ],
   "source": [
    "regex = \"[1-2][0-9][0-9][0-2]\"\n",
    "movimientos.filter(movimientos[\"FechaTransaccion\"].rlike(regex)).count()"
   ]
  },
  {
   "cell_type": "markdown",
   "metadata": {},
   "source": [
    "Se puede observar que en la columna FechaTransaccion no existen fechas con año inferior a 2013, por lo que se asume que todos los movimientos almacenados son iguales o superiores al años 2013, de esta manera, se consultará el total de movimientos registrados."
   ]
  },
  {
   "cell_type": "code",
   "execution_count": 14,
   "metadata": {},
   "outputs": [
    {
     "data": {
      "text/plain": [
       "204292"
      ]
     },
     "execution_count": 14,
     "metadata": {},
     "output_type": "execute_result"
    }
   ],
   "source": [
    "movimientos.count()"
   ]
  },
  {
   "cell_type": "markdown",
   "metadata": {},
   "source": [
    "Se puede observar que la totalidad de movimientos no logra alcanzar la totalidad de movimientos que el negocio menciona ya que la totalidad de movimientos es 204.292. Los registros faltantes son 32.376.\n",
    "La situación de datos faltantes podría aún ser peor, ya que pueden existir registros duplicados y si existen hay que reportarlos y eliminarlos en la fase de preparación de los datos. Esta es la primera **conclusión** del análisis de entendimiento de datos."
   ]
  },
  {
   "cell_type": "code",
   "execution_count": 15,
   "metadata": {},
   "outputs": [
    {
     "data": {
      "text/plain": [
       "173659"
      ]
     },
     "execution_count": 15,
     "metadata": {},
     "output_type": "execute_result"
    }
   ],
   "source": [
    "movimientos.distinct().count() "
   ]
  },
  {
   "cell_type": "markdown",
   "metadata": {},
   "source": [
    "Como se puede apreciar, existen 173.659 movimientos únicos, es decir que hay 30.633 movimientos repetidos, por lo que en la base de datos en realidad tendríamos 173.659 movimientos únicos, de esta manera, se puede concluir que faltan 63.009 registros. Esta información debe ser reportada a negocio."
   ]
  },
  {
   "cell_type": "markdown",
   "metadata": {},
   "source": [
    "La siguiente regla de negocio a analizar es que los movimientos están relacionados con 228.265 clientes, se ejecutará la siguiente consulta con el fin de determinar cuántos clientes estuvieron relacionados con los movimientos."
   ]
  },
  {
   "cell_type": "code",
   "execution_count": 16,
   "metadata": {},
   "outputs": [
    {
     "data": {
      "text/plain": [
       "664"
      ]
     },
     "execution_count": 16,
     "metadata": {},
     "output_type": "execute_result"
    }
   ],
   "source": [
    "movimientos.select(col('ClienteID')).distinct().count()"
   ]
  },
  {
   "cell_type": "markdown",
   "metadata": {},
   "source": [
    "Esto se debe a que un cliente puete estar relacionado en varios movimientos, como se puede apreciar en la siguiente consulta"
   ]
  },
  {
   "cell_type": "code",
   "execution_count": 17,
   "metadata": {},
   "outputs": [
    {
     "name": "stdout",
     "output_type": "stream",
     "text": [
      "+---------+-----+\n",
      "|ClienteID|count|\n",
      "+---------+-----+\n",
      "|    596.0|  315|\n",
      "|    496.0|  316|\n",
      "|    934.0|  307|\n",
      "|    558.0|  385|\n",
      "|   1051.0|   88|\n",
      "|    170.0|  338|\n",
      "|    184.0|  315|\n",
      "|    810.0|  401|\n",
      "|    147.0|  277|\n",
      "|    576.0|  275|\n",
      "|    160.0|  236|\n",
      "|    169.0|  333|\n",
      "|    994.0|  306|\n",
      "|    486.0|  277|\n",
      "|     70.0|  376|\n",
      "|    571.0|  289|\n",
      "|     67.0|  358|\n",
      "|      8.0|  234|\n",
      "|    878.0|  280|\n",
      "|    818.0|  253|\n",
      "+---------+-----+\n",
      "only showing top 20 rows\n",
      "\n"
     ]
    }
   ],
   "source": [
    "movimientos.groupby(\"ClienteID\").count().show()"
   ]
  },
  {
   "cell_type": "markdown",
   "metadata": {},
   "source": [
    "Algo que se puede evidenciar de la consulta anterior, es que ClientID es de tipo double, algo que no suele ser común en llaves primarias de una tabla. Ante el gran desfase de información referente a los clientes relacionados con los movimientos, se puede concluir que faltan más de 227.601 clientes para estar relacionados con los movimientos y esto se le debe comunicar al negocio ya que esta falta podría generar gran incertidumbre en el análisis de información."
   ]
  },
  {
   "cell_type": "markdown",
   "metadata": {},
   "source": [
    "La siguiente regla de negocio a evaluar es que el formato de fechas manejado es YYYY-MM-DD HH:MM:SS, para verificar la correctitud de la regla, en la tabla movimientosCopia existe el campo FechaTransaccion, este campo es de tipo cadena, por lo que podría estar aceptando fechas en diversos formatos, es más, sin las validaciones pertinentes podría estar aceptando cualquier cadena, por esto se hará uso de una expresión regular que permita obtener las fechas en el formato brindado por el negocio"
   ]
  },
  {
   "cell_type": "code",
   "execution_count": 18,
   "metadata": {},
   "outputs": [
    {
     "name": "stdout",
     "output_type": "stream",
     "text": [
      "Número total de movimientos: 204292, número de movimientos con formato correcto: 140038\n"
     ]
    }
   ],
   "source": [
    "regex = \"[0-2]\\d{3}-(0[1-9]|1[0-2])-(0[1-9]|[1-2][0-9]|3[0-1])\"\n",
    "cumplenFormato = movimientos.filter(movimientos[\"FechaTransaccion\"].rlike(regex))\n",
    "print(\"Número total de movimientos: \"+str(movimientos.count())+\", número de movimientos con formato correcto: \"+str(cumplenFormato.count()))"
   ]
  },
  {
   "cell_type": "markdown",
   "metadata": {},
   "source": [
    "Podemos ver cómo están viniendo aquellos registros con formato inválido"
   ]
  },
  {
   "cell_type": "code",
   "execution_count": 19,
   "metadata": {},
   "outputs": [
    {
     "name": "stdout",
     "output_type": "stream",
     "text": [
      "+----------------+\n",
      "|FechaTransaccion|\n",
      "+----------------+\n",
      "|     Apr 25,2014|\n",
      "|     Dec 10,2015|\n",
      "|     Dec 04,2015|\n",
      "|     Dec 23,2015|\n",
      "|     Jul 27,2015|\n",
      "|     Sep 15,2014|\n",
      "|     Aug 04,2015|\n",
      "|     Feb 23,2015|\n",
      "|     May 01,2015|\n",
      "|     Jan 08,2016|\n",
      "|     Mar 26,2014|\n",
      "|     Jul 31,2015|\n",
      "|     Sep 02,2014|\n",
      "|     Mar 15,2016|\n",
      "|     May 28,2016|\n",
      "|     Sep 09,2015|\n",
      "|     May 23,2014|\n",
      "|     Aug 20,2014|\n",
      "|     Jan 21,2015|\n",
      "|     Dec 29,2015|\n",
      "+----------------+\n",
      "only showing top 20 rows\n",
      "\n"
     ]
    },
    {
     "data": {
      "text/plain": [
       "(64254, None)"
      ]
     },
     "execution_count": 19,
     "metadata": {},
     "output_type": "execute_result"
    }
   ],
   "source": [
    "noCumplenFormato = movimientos.filter(~movimientos[\"FechaTransaccion\"].rlike(regex))\n",
    "noCumplenFormato.count(), noCumplenFormato.select(col(\"FechaTransaccion\")).show()"
   ]
  },
  {
   "cell_type": "markdown",
   "metadata": {},
   "source": [
    "Esto nos da a entender que 64.254 registros no cumplen con el formato indicado por el negocio, sin embargo, esto tal vez no requiera de una aclaración por parte de negocio si no más bien podría ser notificado al negocio para que sea de su conocimiento."
   ]
  },
  {
   "cell_type": "markdown",
   "metadata": {},
   "source": [
    "La última regla de negocio es \"Actualmente tenemos 13 proveedores\", como la empresa no compartió información de las tablas de clientes ni proveedores, se procede a exáminar cuántos proveedores existen relacionados con los movimientos."
   ]
  },
  {
   "cell_type": "code",
   "execution_count": 20,
   "metadata": {},
   "outputs": [
    {
     "data": {
      "text/plain": [
       "4"
      ]
     },
     "execution_count": 20,
     "metadata": {},
     "output_type": "execute_result"
    }
   ],
   "source": [
    "movimientos.select(col('ProveedorID')).distinct().count()"
   ]
  },
  {
   "cell_type": "markdown",
   "metadata": {},
   "source": [
    "Se puede apreciar que desde la información proporcionada por la empresa, existen 4 proveedores, lo cuál muestra una diferencia considerable de 9 proveedores que aún no tienen relación con los movimientos, es importante pedir una aclaranción al negocio con respecto a este descubrimiento."
   ]
  },
  {
   "cell_type": "markdown",
   "metadata": {},
   "source": [
    "### Análisis descriptivo\n",
    "Una vez cubierto lo básico de reglas de negocio, se realizará el perfilamiento estadístico. Para ver estadisticos generales como conteo, mínimo, máximo, desviación estandar y percentiles utilice summary()ordenes.summary().show()"
   ]
  },
  {
   "cell_type": "code",
   "execution_count": 21,
   "metadata": {},
   "outputs": [
    {
     "name": "stdout",
     "output_type": "stream",
     "text": [
      "+-------+---------------------+------------------+-------------------+------------------+-----------------+-----------------+------------------+--------------------+-----------------+\n",
      "|summary|TransaccionProductoID|        ProductoID|  TipoTransaccionID|         ClienteID|        InvoiceID|      ProveedorID|   OrdenDeCompraID|    FechaTransaccion|         Cantidad|\n",
      "+-------+---------------------+------------------+-------------------+------------------+-----------------+-----------------+------------------+--------------------+-----------------+\n",
      "|  count|               204292|            204292|             204292|            204292|           204292|           204292|            204292|              204292|           204292|\n",
      "|   mean|   212458.04047637695|110.70090850351458| 10.035253460732676| 517.3252941867523|42957.26929590978|4.951898734177215|1345.9973277074544|                null|719.4997650421946|\n",
      "| stddev|    71352.37579752573| 63.49014746219581|0.18563716955046372|353.50136995999276| 16826.9772221931|1.406311225432683|420.37740964792835|                null| 4729.36659747762|\n",
      "|    min|                89146|                 1|                 10|               0.0|              0.0|                 |                  |2013-12-31 07:00:...|           -360.0|\n",
      "|    25%|               150639|                56|                 10|             145.0|          30120.0|              4.0|             986.0|                null|            -60.0|\n",
      "|    50%|               212323|               110|                 10|             511.0|          43546.0|              4.0|            1347.0|                null|             -9.0|\n",
      "|    75%|               274216|               166|                 10|             877.0|          56983.0|              7.0|            1710.0|                null|             -5.0|\n",
      "|    max|               336251|               227|                 12|            1061.0|          70510.0|              7.0|             999.0|         Sep 30,2015|          67368.0|\n",
      "+-------+---------------------+------------------+-------------------+------------------+-----------------+-----------------+------------------+--------------------+-----------------+\n",
      "\n"
     ]
    }
   ],
   "source": [
    "movimientos.summary().show()"
   ]
  },
  {
   "cell_type": "markdown",
   "metadata": {
    "tags": []
   },
   "source": [
    "En el conteo vemos que ninguna columna da como resultado 0, por el contrario, todas dan como resultado 204.292, esto resulta interesante, ya que todas las columnas podrían contener valores nulos, sin embargo, acá se evidencia que todas las filas tienen asignado un valor a cada columna. También se puede apreciar que para los identificadores y claves foráneas se calcula la media, sin embargo, esta información carece de sentido para estos campos, por otra parte, se puede evidenciar que para la columna Cantidad se pueden estar ingresando o extrayendo 719.49 productos en promedio, también se puede evidenciar que para las columnas ClienteID e InvoiceID el identificador mínimo es 0.0, esto puede deberse a que posiblemente no se están asociando un cliente o factura al movimiento y se opta por poner 0.0, además, se hace evidente que son valores doubles, por otra parte, acá se resalta más la idea de que no existen fechas de transacciones por debajo del año 2013, ya que la fecha mínima se muestra del 2013-12-31. Por último, el 75% de los datos para Cantidad no superan el -5.0, esto puede dar a entender que muchos de los movimientos se dan por extracciones. "
   ]
  },
  {
   "cell_type": "markdown",
   "metadata": {},
   "source": [
    "A continuación se mostrará un diagrama de caja con el fin de detectar valores atípicos en la columna Cantidad"
   ]
  },
  {
   "cell_type": "code",
   "execution_count": 22,
   "metadata": {},
   "outputs": [
    {
     "data": {
      "text/plain": [
       "{'whiskers': [<matplotlib.lines.Line2D at 0x248cc51b488>,\n",
       "  <matplotlib.lines.Line2D at 0x248cc316388>],\n",
       " 'caps': [<matplotlib.lines.Line2D at 0x248cc316608>,\n",
       "  <matplotlib.lines.Line2D at 0x248c5b1d988>],\n",
       " 'boxes': [<matplotlib.lines.Line2D at 0x248ccc320c8>],\n",
       " 'medians': [<matplotlib.lines.Line2D at 0x248d124a0c8>],\n",
       " 'fliers': [<matplotlib.lines.Line2D at 0x248d124ac48>],\n",
       " 'means': []}"
      ]
     },
     "execution_count": 22,
     "metadata": {},
     "output_type": "execute_result"
    },
    {
     "data": {
      "image/png": "[encoded data removed]",
      "text/plain": [
       "<Figure size 432x288 with 1 Axes>"
      ]
     },
     "metadata": {
      "needs_background": "light"
     },
     "output_type": "display_data"
    }
   ],
   "source": [
    "%matplotlib inline\n",
    "import matplotlib.pyplot as plt\n",
    "\n",
    "fig1, ax1 = plt.subplots()\n",
    "ax1.set_title('Cantidad de productos Ingresos/Retiro')\n",
    "ax1.boxplot(np.array(movimientos.select('Cantidad').collect()))"
   ]
  },
  {
   "cell_type": "markdown",
   "metadata": {},
   "source": [
    "Lastimosamente en el diagrama de caja, dada la gran dispersión que existe entre valores de cantidad negativos(retiro) y positivos(ingresos), no se evidencia muy bien los valores, sin embargo, acá se logra apreciar lo que anteriormente se mencionó, el 75% de los datos muestra movientos con cantidad de hasta -5"
   ]
  },
  {
   "cell_type": "code",
   "execution_count": 23,
   "metadata": {},
   "outputs": [
    {
     "data": {
      "text/plain": [
       "153728"
      ]
     },
     "execution_count": 23,
     "metadata": {},
     "output_type": "execute_result"
    }
   ],
   "source": [
    "movimientos.select(col('Cantidad')).where(col('Cantidad')<=-5).count()"
   ]
  },
  {
   "cell_type": "markdown",
   "metadata": {},
   "source": [
    "Acá se puede apreciar que más de 153 mil movimientos se debena a retiros de hasta 5 productos, lo cual equivale al 75%."
   ]
  },
  {
   "cell_type": "markdown",
   "metadata": {
    "id": "-axExLnhPn3g"
   },
   "source": [
    "### Análisis de calidad de datos"
   ]
  },
  {
   "cell_type": "markdown",
   "metadata": {
    "id": "-sUZP8wjPn3g"
   },
   "source": [
    "Para evaluar la calidad de los datos, se determinará la idoneidad de la dimensión de completitud, unicidad, consistencia y validez."
   ]
  },
  {
   "cell_type": "markdown",
   "metadata": {
    "tags": []
   },
   "source": [
    "#### Unicidad y validez\n",
    "\n",
    "La unicidad se revisó en la segunda regla de negocio que menciona \"Existen 236.668 movimientos de producto realizados desde 2013\" en donde se encontraron movimientos duplicados y la validez se revisó en la regla de negocio 4 que menciona \"El formato de fechas manejado es YYYY-MM-DD HH:MM:SS\" en donde se envidenció existen fechas para la columna FechaTransaccion que no cumplen con el formato indicado."
   ]
  },
  {
   "cell_type": "markdown",
   "metadata": {},
   "source": [
    "#### Completitud y validez\n",
    "El código tomado a continuación es adaptado del tutorial y me pareció valiosa la implementación para evaluar la completitud y validez de la información ya que los métodos se adaptan a el dataframe que se pasa por parámetro sin tener que modificar los métodos."
   ]
  },
  {
   "cell_type": "code",
   "execution_count": 24,
   "metadata": {},
   "outputs": [],
   "source": [
    "def contar_vacios(df):\n",
    "    resultados = []\n",
    "    for c in df.columns:\n",
    "        vacios = df.filter(df[c].isNull()).count()\n",
    "        if vacios!=0:\n",
    "            print('número de vacíos para columna '+c+': '+str( vacios ))\n",
    "            resultados.append(vacios)\n",
    "    return resultados\n",
    "\n",
    "def cardinalidad(df):\n",
    "    resultado = {}\n",
    "    for c in df.columns:\n",
    "        cardinalidad = df.select(col(c)).distinct().count()\n",
    "        if cardinalidad>=df.count()*0.5:\n",
    "            resultado[c] = cardinalidad\n",
    "    return resultado"
   ]
  },
  {
   "cell_type": "code",
   "execution_count": 25,
   "metadata": {},
   "outputs": [
    {
     "data": {
      "text/plain": [
       "[]"
      ]
     },
     "execution_count": 25,
     "metadata": {},
     "output_type": "execute_result"
    }
   ],
   "source": [
    "contar_vacios(movimientos)"
   ]
  },
  {
   "cell_type": "markdown",
   "metadata": {},
   "source": [
    "Como se ve en el resultado, a pesar de que todas las columnas en la tabla movimientosCopia pueden almacenar valores nulos, no hay ninguna columna que tenga como valor un null, pero esto no es precisamente algo bueno ya que si en la columna ProveedorID si bien no hay nulos, hay campos con cadenas vacías"
   ]
  },
  {
   "cell_type": "code",
   "execution_count": 26,
   "metadata": {},
   "outputs": [
    {
     "data": {
      "text/plain": [
       "197182"
      ]
     },
     "execution_count": 26,
     "metadata": {},
     "output_type": "execute_result"
    }
   ],
   "source": [
    "movimientos.filter(movimientos.ProveedorID=='').count()"
   ]
  },
  {
   "cell_type": "markdown",
   "metadata": {},
   "source": [
    "Como se puede observar, más de 197 mil movimientos tienen proveedores con un string vacío, por lo que esta columna no tiene más del 90% de información, el mismo resultado también se puede ver reflejado en la columan OrdenDeCompraID."
   ]
  },
  {
   "cell_type": "code",
   "execution_count": 27,
   "metadata": {},
   "outputs": [
    {
     "data": {
      "text/plain": [
       "197182"
      ]
     },
     "execution_count": 27,
     "metadata": {},
     "output_type": "execute_result"
    }
   ],
   "source": [
    "movimientos.filter(movimientos.OrdenDeCompraID=='').count()"
   ]
  },
  {
   "cell_type": "code",
   "execution_count": 28,
   "metadata": {},
   "outputs": [
    {
     "data": {
      "text/plain": [
       "{'TransaccionProductoID': 173659}"
      ]
     },
     "execution_count": 28,
     "metadata": {},
     "output_type": "execute_result"
    }
   ],
   "source": [
    "cardinalidad(movimientos)"
   ]
  },
  {
   "cell_type": "markdown",
   "metadata": {},
   "source": [
    "Solo la columna TransaccionProductoID tiene una cardinalidad superior al 50% con respecto del total de movimientos"
   ]
  },
  {
   "cell_type": "markdown",
   "metadata": {},
   "source": [
    "#### Consistencia\n",
    "Para determinar la consistencia de la tabla, se procede a evaluar la columna cantidad, dado que los movimientos tienen sentido si se agrega o retira un producto, se procede a evaluar si la cantidad de productos retirados o agregados es cero"
   ]
  },
  {
   "cell_type": "code",
   "execution_count": 29,
   "metadata": {},
   "outputs": [
    {
     "name": "stdout",
     "output_type": "stream",
     "text": [
      "+---------------------+----------+-----------------+---------+---------+-----------+---------------+--------------------+--------+\n",
      "|TransaccionProductoID|ProductoID|TipoTransaccionID|ClienteID|InvoiceID|ProveedorID|OrdenDeCompraID|    FechaTransaccion|Cantidad|\n",
      "+---------------------+----------+-----------------+---------+---------+-----------+---------------+--------------------+--------+\n",
      "|                97776|        81|               12|      0.0|      0.0|           |               |2014-01-31 14:00:...|     0.0|\n",
      "|                97778|        75|               12|      0.0|      0.0|           |               |2014-01-31 14:00:...|     0.0|\n",
      "|               194927|       150|               12|      0.0|      0.0|           |               |2015-01-31 14:00:...|     0.0|\n",
      "|               221188|        34|               12|      0.0|      0.0|           |               |2015-04-30 14:00:...|     0.0|\n",
      "|                97778|        75|               12|      0.0|      0.0|           |               |2014-01-31 14:00:...|     0.0|\n",
      "+---------------------+----------+-----------------+---------+---------+-----------+---------------+--------------------+--------+\n",
      "\n"
     ]
    }
   ],
   "source": [
    "movimientos.select(col('*')).where(col('Cantidad')==0).show()"
   ]
  },
  {
   "cell_type": "markdown",
   "metadata": {},
   "source": [
    "Se puede observar que existen 5 filas cuya cantidad es 0, esto es extraño ya que se interpretaría como si no se hubiese hecho movimiento, por lo que resulta relevante solicitar información al negocio sobre este hallazgo"
   ]
  },
  {
   "cell_type": "markdown",
   "metadata": {},
   "source": [
    "## Herramientas para facilitar el entendimiento de datos"
   ]
  },
  {
   "cell_type": "markdown",
   "metadata": {},
   "source": [
    "Se hará uso de la herramienta Pandas Profiling para mostrar gráficos y estadísticos relacionados a la tabla movimientosCopia"
   ]
  },
  {
   "cell_type": "code",
   "execution_count": 30,
   "metadata": {},
   "outputs": [
    {
     "name": "stderr",
     "output_type": "stream",
     "text": [
      "Summarize dataset:  60%|██████    | 12/20 [00:02<00:01,  6.46it/s, Calculate kendall correlation]         C:\\Users\\estudiante\\anaconda3\\envs\\Tutoriales\\lib\\site-packages\\scipy\\stats\\stats.py:4812: RuntimeWarning: overflow encountered in longlong_scalars\n",
      "  (2 * xtie * ytie) / m + x0 * y0 / (9 * m * (size - 2)))\n",
      "Summarize dataset: 100%|██████████| 47/47 [00:14<00:00,  3.14it/s, Completed]                                           \n",
      "Generate report structure: 100%|██████████| 1/1 [00:03<00:00,  3.25s/it]\n",
      "Render HTML: 100%|██████████| 1/1 [00:01<00:00,  1.36s/it]\n",
      "Export report to file: 100%|██████████| 1/1 [00:00<00:00, 77.63it/s]\n"
     ]
    }
   ],
   "source": [
    "reporte = ProfileReport(movimientos.toPandas())\n",
    "reporte.to_file(PATH+\"reporte_prefilamiento.html\")"
   ]
  },
  {
   "cell_type": "markdown",
   "metadata": {},
   "source": [
    "El reporte nos muestra varias secciones las cuales se detallarán a continuación.\n",
    "\n",
    "**Seccion general del reporte:**\n",
    "1. Tenemos 9 variables y 204.292 registros de movimientos, 5 variables son numéricas y 4 categóricas\n",
    "2. En total la herramienta muestra que hay 0% de datos vacíos, sin embargo, como se mencionó anteriormente, si bien no hay valores nulos, las columnas ProveedorID o ClienteID al ser de tipo String almacenan cadenas vacías.\n",
    "3. El archivo ocupa en memoria 11.7 MB\n",
    "4. Existen 30.633 registros duplicados, lo que corresponde a un 15%.\n",
    "\n",
    "**Sección de variables del reporte:**\n",
    "\n",
    "5. La variable TransaccionProductoID tiene 173.659 registros distintos, lo cuál permite ver que al ser la llave primaria de la tabla, se pueden estar duplicando 30.633 registros, lo cuál equivale a los duplicados en la sección general, esto equivale al 85% de valores diferentes.\n",
    "\n",
    "6. Para la variable ProductoID se puede ver que hay 227 valores distintos, entonces en los movimientos registrados solo se hizo uso de 227 tipos de productos, ya sea para ingresarlos o retirarlos\n",
    "7. Para la variable TipoTransaccionID se puede observar que solo se utilizaron 3 tipos de transacciones, la 10, 11 y 12 y en memoria esta variable ocupó 1.6MB\n",
    "8. La variable ClienteID refleja información importante, en donde solo ubieron 664 clientes relacionados en todos los registros de movimientos\n",
    "9. Se puede apreciar que la variable ProveedorID tiene 4 valores diferentes, lo cual indica que a lo largo de todos los movimientos registrados solo ubieron 4 proveedores relacionados.\n",
    "10. En la variable FechaTransaccion solo existen 2155 valores diferentes, esto significa que el 98.9% de los movimientos se hicieron en las fechas pertenecientes a los 2155 registros, es decir que muchos movimientos se hicieron en las mismas fechas.\n",
    "11. En la variable Cantidad se puede apreciar que existe una media de 719.499765, si bien, hubieron más movimientos de retiros que ingresos (esto se puede apreciar en el diagrama de caja Cantidad de productos Ingresos/Retiro), la media tiende a un valor positivo dado que hubieron movimientos con valores hasta 67.368, mientras que los mínimos valores en Cantidad de movimiento fueron hasta -360.\n",
    "\n",
    "**Sección de interacciones y correlaciones:**\n",
    "\n",
    "En la tabla movimientosCopia parecen haber columnas con correlaciones iguales a 1, esto puede significar que ambas columnas representan la misma información, sin embargo, las columnas TransaccionProductoID e InvoiceID por el nombre que poseen, parecen tener propósitos diferentes, por lo que sería mejor preguntar a negocio si se dejan ambas columnas o qué representan realmente."
   ]
  },
  {
   "cell_type": "markdown",
   "metadata": {
    "id": "YfSMeXZQPn3g"
   },
   "source": [
    "### Conclusiones"
   ]
  },
  {
   "cell_type": "markdown",
   "metadata": {
    "id": "iLIyH36rPn3g"
   },
   "source": [
    "**Conclusiones generales:**\n",
    "\n",
    "1. En la tabla de movimientosCopia hay información relacionada al **producto**, **clientes**, **facturas**, **proveedores** y a los **movimientos**.\n",
    "2. Una fila de la tabla movimientosCopia es la cantidad en la que se ha extraido o agregado un producto del inventario en una fecha determinada.\n",
    "\n",
    "**Conclusiones de reglas de negocio:**\n",
    "\n",
    "1. La regla 1 no es completamente cierta, esta regla indica que la cantidad máxima de productos movidos es 50 millones por transacción, ya que  aparece que el tipo de transacción con id 11 posee 154.702.496 productos movidos,  por lo que es necesario pedir aclaraciones al negocio en relación a este descubrimiento.\n",
    "2. La regla 2 no es cierta dado que el número de registros de movimientos no coincide con el número dado por el negocio, el negocio menciona que hay 236.668 movimientos desde el 2013, pero en realidad existen 204.292 movimientos en la tabla, sin embargo, pueden existir muchos menos ya que hay 30.633 registros duplicados, ante esta falta de información es necesario pedirle una aclaración al negocio o preguntar ¿En realidad son 236.668 movimientos? y si es así ¿de dónde se pueden extraer los demás registros que hacen falta de movimientos?.\n",
    "3. La siguiente regla de negocio la cual indica que los movimientos están relacionados con 228.265 cliente dista bastante de la realidad, ya que se encontró que solo hay 664 clientes relacionados en los movimientos, es necesario preguntar a negocio si ¿Es un error la estimación de clientes brindada? o si faltan datos ¿de qué fuente se pueden obtener los clientes faltantes relacionados a movimientos?\n",
    "4. Algunos formatos de fecha no coinciden con el dado en la regla 4 el cual es YYYY-MM-DD HH:MM:SS, esto se puede evidenciar en la columna  FechaTransaccion en donde hay 140.038 movimientos con fecha en el formato indicado de 204.292 movimientos, además, esta columna es de tipo texto. Por lo que se podría cambiar el tipo de la columan a fecha y cambiar los formatos por los indicados desde negocio, ¿estan de acuerdo?\n",
    "5. La regla 5 menciona \"Actualmente tenemos 13 proveedores\", como la empresa no compartió información de las tablas de clientes ni proveedores, se pudo apreciar que desde la tabla de movimientos solo hay 4 proveedores relacionados, lo cual dista de los 13 que el negocio informó, ¿Hacen falta proveedores? si es así ¿De dónde se puede obtener la información de los 9 proveedores faltantes?\n",
    "\n",
    "**Conclusiones de calidad:**\n",
    "\n",
    "1. Se puede apreciar que las columnas ClienteID e InvoiceID son de tipo cadena y que cada una tiene 197.182 valores vacíos, esto representa un 96% de registros que contienen estos identificadores vacíos, lo cual es un porcentaje bastante alto, de esta manera, es importante preguntar a negocio sobre la relevancia de estas columnas en la tabla de movimientos para determinar si se pueden eliminar.\n",
    "2. Vemos por ejemplo que el valor máximo de Cantidad indica valores anómalos o extremos, pues en su percentil 75% el valor máximo era -5 retiros, es decir, para el 75% de los datos, el valor de Cantidad no superaba el -5, pero el valor máximo es de 67368 ingresos, esta cantidad de ingresos corresponde al producto con identificador 193, lo cuál podría llevar a formular la pregunta a negocio ¿es normal que este producto tenga esa cantidad de ingresos?\n",
    "3. Observamos que existen registros en la tabla de movimientos cuya cantidad es 0 y estos movimientos tienen productos relacionados, es importante preguntar a negocio ¿bajo cuáles circunstancias un movimiento puede tener como cantidad 0?, con esto se puede identificar si estos registros son relevantes o si se pueden eliminar.\n",
    "4. Se determinó que el formato de fecha indicado YYYY-MM-DD HH:MM:SS no es cumplido en 64.254 movimientos con respecto a la columna FechaTransaccion.\n",
    "5. Respecto a cardinalidad, solo la columna TransaccionProductoID tiene una cardinalidad superior al 50%. \n",
    "\n",
    "**Usando herramientas:**\n",
    "\n",
    "Seccion general del reporte:\n",
    "1. Tenemos 9 variables y 204.292 registros de movimientos, 5 variables son numéricas y 4 categóricas\n",
    "2. En total la herramienta muestra que hay 0% de datos vacíos, sin embargo, como se mencionó anteriormente, si bien no hay valores nulos, las columnas ProveedorID o ClienteID al ser de tipo String almacenan cadenas vacías.\n",
    "3. El archivo ocupa en memoria 11.7 MB\n",
    "4. Existen 30.633 registros duplicados, lo que corresponde a un 15%.\n",
    "\n",
    "Sección de variables del reporte:\n",
    "\n",
    "5. La variable TransaccionProductoID tiene 173.659 registros distintos, lo cuál permite ver que al ser la llave primaria de la tabla, se pueden estar duplicando 30.633 registros, lo cuál equivale a los duplicados en la sección general, esto equivale al 85% de valores diferentes.\n",
    "\n",
    "6. Para la variable ProductoID se puede ver que hay 227 valores distintos, entonces en los movimientos registrados solo se hizo uso de 227 tipos de productos, ya sea para ingresarlos o retirarlos\n",
    "7. Para la variable TipoTransaccionID se puede observar que solo se utilizaron 3 tipos de transacciones, la 10, 11 y 12 y en memoria esta variable ocupó 1.6MB\n",
    "8. La variable ClienteID refleja información importante, en donde solo ubieron 664 clientes relacionados en todos los registros de movimientos\n",
    "9. Se puede apreciar que la variable ProveedorID tiene 4 valores diferentes, lo cual indica que a lo largo de todos los movimientos registrados solo ubieron 4 proveedores relacionados.\n",
    "10. En la variable FechaTransaccion solo existen 2155 valores diferentes, esto significa que el 98.9% de los movimientos se hicieron en las fechas pertenecientes a los 2155 registros, es decir que muchos movimientos se hicieron en las mismas fechas.\n",
    "11. En la variable Cantidad se puede apreciar que existe una media de 719.499765, si bien, hubieron más movimientos de retiros que ingresos (esto se puede apreciar en el diagrama de caja Cantidad de productos Ingresos/Retiro), la media tiende a un valor positivo dado que hubieron movimientos con valores hasta 67.368, mientras que los mínimos valores en Cantidad de movimiento fueron hasta -360.\n",
    "\n",
    "Sección de interacciones y correlaciones:\n",
    "\n",
    "12. En la tabla movimientosCopia parecen haber columnas con correlaciones iguales a 1, esto puede significar que ambas columnas representan la misma información, sin embargo, las columnas TransaccionProductoID e InvoiceID por el nombre que poseen, parecen tener propósitos diferentes, por lo que sería mejor preguntar a negocio si se dejan ambas columnas o qué representan realmente.\n",
    "\n",
    "**Conclusiones de consultoria**\n",
    "\n",
    "![Requerimiento](./Requerimiento.PNG)\n",
    "\n",
    "Teniendo en cuenta el requerimiento de WWI, la diferencia con respecto a la cantidad de movimientos que el negocio mencionó que existían es considerable, sin embargo, también es cosiderable la cantidad de movimientos que actualmente están almacenados en el sistema, por lo que es viable realizar el requerimiento con la información suministrada, es importante también tener claridad con las preguntas antes mencionadas y realizar las correcciones a los datos para poder llevar a cabo un análisis más confiable."
   ]
  }
 ],
 "metadata": {
  "colab": {
   "collapsed_sections": [
    "qxN27II0Pn3T",
    "GnAScmClPn3W",
    "UuZspay3Pn3Z",
    "ZHLs1H0hPn3b",
    "QgkzeSm4Pn3b",
    "LZyQcqCvPn3c",
    "eDf54JyKPn3d",
    "ltTluhtIPn3e",
    "IPhtXcD1Pn3g",
    "-axExLnhPn3g",
    "YfSMeXZQPn3g"
   ],
   "name": "MISW-ETL-Entendimiento.ipynb",
   "provenance": []
  },
  "kernelspec": {
   "display_name": "Python 3 (ipykernel)",
   "language": "python",
   "name": "python3"
  },
  "language_info": {
   "codemirror_mode": {
    "name": "ipython",
    "version": 3
   },
   "file_extension": ".py",
   "mimetype": "text/x-python",
   "name": "python",
   "nbconvert_exporter": "python",
   "pygments_lexer": "ipython3",
   "version": "3.7.13"
  },
  "toc-autonumbering": true,
  "toc-showcode": true
 },
 "nbformat": 4,
 "nbformat_minor": 4
}
