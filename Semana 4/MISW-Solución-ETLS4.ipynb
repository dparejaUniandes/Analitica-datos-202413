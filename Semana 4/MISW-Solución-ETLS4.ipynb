{
 "cells": [
  {
   "cell_type": "markdown",
   "metadata": {
    "id": "IcY9y56n86vn"
   },
   "source": [
    "# Solución tarea semana 4"
   ]
  },
  {
   "cell_type": "markdown",
   "metadata": {
    "id": "gcg5UCbU86vp"
   },
   "source": [
    "## 1. Introducción\t\n",
    "    En esta tarea se dará solución para llevar a cabo los diferentes procesos de ETL para las diferentes dimensiones y la tabla de hechos movimiento, se partirá de un diseño que permite orientar la implementación y tener en cuenta las consideraciones del proceso ETL como los campos a tener en cuenta y las transformaciones sobre las reglas o necesidades de negocio que permitan obtener análisis de una forma más fiable y entendible.\n",
    "\t"
   ]
  },
  {
   "cell_type": "markdown",
   "metadata": {
    "id": "LqQVz5s686vq"
   },
   "source": [
    "## 2. Proceso de ETL."
   ]
  },
  {
   "cell_type": "markdown",
   "metadata": {
    "id": "A2UT2Ia586vr"
   },
   "source": [
    "En este proceso de ETL, se extraen los datos de los **movimientos** de una base de datos transaccional y se almacenan en otra base de datos que corresponde a la bodega de datos, siguiendo una aproximación ROLAP. A continuación, se presenta el modelo multidimensional que es el modelo conceptual que representa el proceso de registro de movimientos de prodcutos. Este modelo se utilizará para crear las tablas en la bodega de datos que representan el proceso de negocio y que serán cargadas como resultado del proceso ETL. \n",
    "\n",
    "Para cada dimensión (excepto la dimensión fecha), se tendrán dos llaves las cuales están relacionadas con la bodega de datos (terminadas en DWH) y con las llaves de la base de datos transaccional (terminadas en T).\n"
   ]
  },
  {
   "cell_type": "markdown",
   "metadata": {
    "id": "UpOSEfhX86vs"
   },
   "source": [
    "![Modelo movimientos](./WWI_modelo_movimiento.png)",
    "<br>**NOTA**: La imagen corresponde a la que está ubicada en esta misma carpeta con el nombre WWI_modelo_movimiento.png"
   ]
  },
  {
   "cell_type": "markdown",
   "metadata": {
    "id": "rg1M_rdU86vs"
   },
   "source": [
    "Para el proceso de ETL se realizó el siguiente diseño general. A partir de la información obtenida de la fase de entendimiento de datos, se pudieron identificar las fuentes a utilizar y las relaciones entre estas, también la organización ha dado respuesta a algunas inquietudes, lo que permite conocer la mejor forma de proceder para manipular los datos. En el proceso de ETL se plantean 3 secciones o bloques para cada dimensión y la tabla de hechos del modelo anterior, la dimensión fecha no se considera ya que se genera de forma independiente.\n",
    "![ETL](./Diseno_general_ETL.png)",
    "<br>**NOTA**: La imagen corresponde a la que está ubicada en esta misma carpeta con el nombre Diseno_general_ETL.png"
   ]
  },
  {
   "cell_type": "markdown",
   "metadata": {},
   "source": [
    "### Configuración inicial para la sesión y base de datos"
   ]
  },
  {
   "cell_type": "code",
   "execution_count": 8,
   "metadata": {
    "id": "os1iJYmu86vt"
   },
   "outputs": [],
   "source": [
    "# Configuración servidor base de datos transaccional\n",
    "db_user = 'Estudiante_81_202413'\n",
    "db_psswd = 'MISO_aabb1122'\n",
    "source_db_connection_string = 'jdbc:mysql://157.253.236.116:8080/WWImportersTransactional'\n",
    "\n",
    "dest_db_connection_string = 'jdbc:mysql://157.253.236.116:8080/Estudiante_81_202413'\n",
    "\n",
    "# Driver de conexion\n",
    "path_jar_driver = 'C:\\Program Files (x86)\\MySQL\\Connector J 8.0\\mysql-connector-java-8.0.28.jar'"
   ]
  },
  {
   "cell_type": "code",
   "execution_count": 141,
   "metadata": {
    "id": "HAGk_V1986vu"
   },
   "outputs": [],
   "source": [
    "import os \n",
    "from pyspark.sql import functions as f, SparkSession, types as t\n",
    "from pyspark import SparkContext, SparkConf, SQLContext\n",
    "from pyspark.sql.functions import udf, col, length, isnan, when, count, regexp_replace, to_timestamp\n",
    "from datetime import datetime"
   ]
  },
  {
   "cell_type": "code",
   "execution_count": 13,
   "metadata": {
    "id": "TQ3DM_Xf86vv",
    "outputId": "f2cdb157-a92d-4edc-a174-6f3bd09b9885"
   },
   "outputs": [],
   "source": [
    "#Configuración de la sesión\n",
    "conf=SparkConf() \\\n",
    "    .set('spark.driver.extraClassPath', path_jar_driver)\n",
    "spark_context = SparkContext(conf=conf)\n",
    "sql_context = SQLContext(spark_context)\n",
    "spark = sql_context.sparkSession"
   ]
  },
  {
   "cell_type": "markdown",
   "metadata": {
    "id": "buA7s-vL86vw"
   },
   "source": [
    "### Conexión y carga de datos"
   ]
  },
  {
   "cell_type": "markdown",
   "metadata": {
    "id": "r_QZ-j9q86vw"
   },
   "source": [
    "Se define la función para conexión y cargue de dataframes desde la base de datos origen y luego la función para guardar un dataframe en una tabla de la base de datos destino."
   ]
  },
  {
   "cell_type": "code",
   "execution_count": 14,
   "metadata": {
    "id": "Mhy0jbh_86vw"
   },
   "outputs": [],
   "source": [
    "def obterner_dataframe_desde_csv(_PATH, _sep):\n",
    "    return spark.read.load(_PATH, format=\"csv\", sep=_sep, inferSchema=\"true\", header='true')\n",
    "\n",
    "def obtener_dataframe_de_bd(db_connection_string, sql, db_user, db_psswd):\n",
    "    df_bd = spark.read.format('jdbc')\\\n",
    "        .option('url', db_connection_string) \\\n",
    "        .option('dbtable', sql) \\\n",
    "        .option('user', db_user) \\\n",
    "        .option('password', db_psswd) \\\n",
    "        .option('driver', 'com.mysql.cj.jdbc.Driver') \\\n",
    "        .load()\n",
    "    return df_bd\n",
    "\n",
    "def guardar_db(db_connection_string, df, tabla, db_user, db_psswd):\n",
    "    df.select('*').write.format('jdbc') \\\n",
    "      .mode('append') \\\n",
    "      .option('url', db_connection_string) \\\n",
    "      .option('dbtable', tabla) \\\n",
    "      .option('user', db_user) \\\n",
    "      .option('password', db_psswd) \\\n",
    "      .option('driver', 'com.mysql.cj.jdbc.Driver') \\\n",
    "      .save()"
   ]
  },
  {
   "cell_type": "markdown",
   "metadata": {
    "id": "ZhFsv4ba86vw"
   },
   "source": [
    "### BLOQUE 1\n",
    "Empezamos con el bloque 1: la dimensión <i>Proveedor</i>, su fuente de datos viene de la tabla transaccional <i>proveedores</i>. Dado que la dimensión Proveedor requiere de la categoría y del contacto principal, se realiza un join entre las tablas transaccionales <i>CategoriasProveedores</i> y <i>Personas</i> "
   ]
  },
  {
   "cell_type": "markdown",
   "metadata": {
    "id": "XNKxFA-f86vx"
   },
   "source": [
    "#### Extracción\n",
    "Se toman la información de las 3 tablas mencionadas anteriormente del modelo transaccional y se almacenan como dataframes."
   ]
  },
  {
   "cell_type": "code",
   "execution_count": 447,
   "metadata": {
    "id": "IopBNYuc86vx",
    "outputId": "0589f8a9-527e-4b28-d096-a176efd48e97"
   },
   "outputs": [
    {
     "name": "stdout",
     "output_type": "stream",
     "text": [
      "['ProveedorID', 'NombreProveedor', 'ID_persona', 'CategoriaProveedorID', 'DiasPago', 'CodigoPostal'] ['ID_persona', 'NombreCompleto'] ['CategoriaProveedorID', 'CategoriaProveedor']\n"
     ]
    }
   ],
   "source": [
    "sql_proveedores = '''(SELECT DISTINCT ProveedorID, NombreProveedor, PersonaContactoAlternoID as ID_persona, CategoriaProveedorID, DiasPago, CodigoPostal FROM WWImportersTransactional.proveedores) AS Temp_proveedores'''\n",
    "sql_personas = '''(SELECT DISTINCT ID_persona, NombreCompleto FROM WWImportersTransactional.Personas) AS Temp_personas'''\n",
    "sql_categorias = '''(SELECT DISTINCT CategoriaProveedorID, CategoriaProveedor FROM WWImportersTransactional.CategoriasProveedores) AS Temp_categorias'''\n",
    "\n",
    "proveedores = obtener_dataframe_de_bd(source_db_connection_string, sql_proveedores, db_user, db_psswd)\n",
    "personas = obtener_dataframe_de_bd(source_db_connection_string, sql_personas, db_user, db_psswd)\n",
    "categorias = obtener_dataframe_de_bd(source_db_connection_string, sql_categorias, db_user, db_psswd)\n",
    "print(proveedores.columns, personas.columns, categorias.columns)"
   ]
  },
  {
   "cell_type": "markdown",
   "metadata": {
    "id": "vtE61qk986vx"
   },
   "source": [
    "#### Transformación\n",
    "Como parte del proceso de transformación, se procede a realizar lo siguiente:\n",
    "1. Consolidar la información de proveedores a través de left joins entre la tabla Personas y CategoriasProveedores con el objetivo de no perder información de proveedores, además, se cambian los nombres de las columnas para que aparezcan igual al modelo.  \n",
    "2. Wide World Importers mencionó \"**Los días de pago no pueden ser negativos no tiene sentido para nuestro negocio. Por favor corregir multiplicando los datos negativos por -1.**\", esto da pie a analizar los días de pago de los proveedores y convertir los negativos a valores positivos.\n"
   ]
  },
  {
   "cell_type": "code",
   "execution_count": 448,
   "metadata": {},
   "outputs": [
    {
     "name": "stdout",
     "output_type": "stream",
     "text": [
      "+----------------+--------------+--------------------+--------------------+------------------+---------+-------------+\n",
      "|ID_Proveedor_DWH|ID_Proveedor_T|              Nombre|           Categoria|Contacto_principal|Dias_pago|Codigo_postal|\n",
      "+----------------+--------------+--------------------+--------------------+------------------+---------+-------------+\n",
      "|               1|            12|   The Phone Company| productos novedosos|        Thanh Dinh|       30|        56732|\n",
      "|               2|             1| A Datum Corporation| productos novedosos|       Oliver Kivi|       14|        46077|\n",
      "|               3|             9|      Nod Publishers| productos novedosos|  Matheus Oliveira|        7|        27906|\n",
      "|               4|             2|       Contoso, Ltd.| productos novedosos|    Paulus Lippmaa|        7|        98253|\n",
      "|               5|             5|Graphic Design In...| productos novedosos|       Donna Smith|       14|        64847|\n",
      "|               6|             8|  Lucerne Publishing| productos novedosos|     Sunita Jadhav|       30|        37659|\n",
      "|               7|            10|Northwind Electri...|            juguetes|     Sara Karlsson|       30|         7860|\n",
      "|               8|             4|      Fabrikam, Inc.|                ropa|       Helen Moore|       30|        40351|\n",
      "|               9|             7|       Litware, Inc.|            embalaje|        Vilma Niva|       30|        95245|\n",
      "|              10|             3|Consolidated Mess...|servicios de mens...|       Helen Ahven|       30|        94101|\n",
      "+----------------+--------------+--------------------+--------------------+------------------+---------+-------------+\n",
      "only showing top 10 rows\n",
      "\n"
     ]
    }
   ],
   "source": [
    "# TRANSFORMACION\n",
    "# Unión entre tablas y cambio de nombres a las columnas para que coincidan con el modelo\n",
    "proveedores = proveedores.join(personas, how = 'left', on = 'ID_persona')\n",
    "proveedores = proveedores.join(categorias, how = 'left', on = 'CategoriaProveedorID')\n",
    "proveedores = proveedores.coalesce(1).withColumn('ID_Proveedor_DWH', f.monotonically_increasing_id() + 1)\n",
    "proveedores = proveedores.select('ID_Proveedor_DWH','ProveedorID','NombreProveedor','CategoriaProveedor','NombreCompleto',\n",
    "                                 'DiasPago', 'CodigoPostal') \\\n",
    "                    .withColumnRenamed('ProveedorID','ID_Proveedor_T') \\\n",
    "                    .withColumnRenamed('NombreProveedor','Nombre') \\\n",
    "                    .withColumnRenamed('CategoriaProveedor','Categoria') \\\n",
    "                    .withColumnRenamed('NombreCompleto','Contacto_principal') \\\n",
    "                    .withColumnRenamed('DiasPago','Dias_pago') \\\n",
    "                    .withColumnRenamed('CodigoPostal','Codigo_postal')\n",
    "# Se ponen todos los días de pago en positivo\n",
    "proveedores = proveedores.withColumn('Dias_pago', f.abs('Dias_pago'))\n",
    "\n",
    "proveedores.show(10)"
   ]
  },
  {
   "cell_type": "markdown",
   "metadata": {},
   "source": [
    "En la tabla movimientos_v2 existen bastantes campos de ProductoID con valor nulo, por esta razón, se procede a crear un registro en la dimensión proveedores con identificador cero que permita relacionar a los valores nulos."
   ]
  },
  {
   "cell_type": "code",
   "execution_count": 449,
   "metadata": {},
   "outputs": [
    {
     "name": "stdout",
     "output_type": "stream",
     "text": [
      "+----------------+--------------+-------+---------+------------------+---------+-------------+\n",
      "|ID_Proveedor_DWH|ID_Proveedor_T| Nombre|Categoria|Contacto_principal|Dias_pago|Codigo_postal|\n",
      "+----------------+--------------+-------+---------+------------------+---------+-------------+\n",
      "|               0|              |Missing|  Missing|           Missing|        0|            0|\n",
      "+----------------+--------------+-------+---------+------------------+---------+-------------+\n",
      "\n"
     ]
    }
   ],
   "source": [
    "# Crea el registro para el id = 0\n",
    "proveedores_0 = [(0,'','Missing','Missing','Missing','0','0')]\n",
    "columns = ['ID_Proveedor_DWH','ID_Proveedor_T','Nombre','Categoria','Contacto_principal','Dias_pago','Codigo_postal']\n",
    "proveedores_0 = spark.createDataFrame(data=proveedores_0,schema=columns)\n",
    "proveedores_0.show()"
   ]
  },
  {
   "cell_type": "code",
   "execution_count": 450,
   "metadata": {},
   "outputs": [
    {
     "name": "stdout",
     "output_type": "stream",
     "text": [
      "+----------------+--------------+--------------------+--------------------+------------------+---------+-------------+\n",
      "|ID_Proveedor_DWH|ID_Proveedor_T|              Nombre|           Categoria|Contacto_principal|Dias_pago|Codigo_postal|\n",
      "+----------------+--------------+--------------------+--------------------+------------------+---------+-------------+\n",
      "|               0|              |             Missing|             Missing|           Missing|        0|            0|\n",
      "|               1|             3|Consolidated Mess...|servicios de mens...|       Helen Ahven|       30|        94101|\n",
      "|               2|            10|Northwind Electri...|            juguetes|     Sara Karlsson|       30|         7860|\n",
      "|               3|             7|       Litware, Inc.|            embalaje|        Vilma Niva|       30|        95245|\n",
      "|               4|             6| Humongous Insurance|servicios de seguros|     Annette Talon|       14|        37770|\n",
      "+----------------+--------------+--------------------+--------------------+------------------+---------+-------------+\n",
      "only showing top 5 rows\n",
      "\n"
     ]
    }
   ],
   "source": [
    "proveedores = proveedores.union(proveedores_0)\n",
    "proveedores.orderBy(col(\"ID_Proveedor_DWH\").asc()).show(5)"
   ]
  },
  {
   "cell_type": "markdown",
   "metadata": {},
   "source": [
    "Se puede apreciar que el registro con identificador para el DWH con valor cero quedó insertado."
   ]
  },
  {
   "cell_type": "markdown",
   "metadata": {
    "id": "X9Oou0g986vy"
   },
   "source": [
    "#### Carga\n",
    "Una vez realizado el proceso de carga y transformación, se guardan los resultados en la base de datos destino\n"
   ]
  },
  {
   "cell_type": "code",
   "execution_count": 451,
   "metadata": {
    "id": "qICUWYCa86vy"
   },
   "outputs": [],
   "source": [
    "# CARGUE\n",
    "guardar_db(dest_db_connection_string, proveedores,'Estudiante_81_202413.ProveedorS4', db_user, db_psswd)"
   ]
  },
  {
   "cell_type": "markdown",
   "metadata": {},
   "source": [
    "### Bloque 2\n",
    "En el bloque 2 se determina la información para la dimensión **TipoTransaccion**, su fuente de datos corresponde a la tabla TiposTransaccion del modelo transaccional, la dimensión a analizar contendrá dos identificadores, uno para el identificador de la tabla transaccional y otro propio de la bodega de datos."
   ]
  },
  {
   "cell_type": "markdown",
   "metadata": {},
   "source": [
    "#### Extracción\n",
    "Se procede a realizar la extracción de información desde la fuente de datos TiposTransaccion"
   ]
  },
  {
   "cell_type": "code",
   "execution_count": 454,
   "metadata": {},
   "outputs": [
    {
     "name": "stdout",
     "output_type": "stream",
     "text": [
      "+-----------------+---------------------+\n",
      "|TipoTransaccionID|TipoTransaccionNombre|\n",
      "+-----------------+---------------------+\n",
      "|                2| Customer Credit Note|\n",
      "|                3| Customer Payment ...|\n",
      "|                4|      Customer Refund|\n",
      "|                5|     Supplier Invoice|\n",
      "|                6| Supplier Credit Note|\n",
      "|                7| Supplier Payment ...|\n",
      "|                8|      Supplier Refund|\n",
      "|                9|       Stock Transfer|\n",
      "|               10|          Stock Issue|\n",
      "|               11|        Stock Receipt|\n",
      "|               12| Stock Adjustment ...|\n",
      "|               13|      Customer Contra|\n",
      "+-----------------+---------------------+\n",
      "\n"
     ]
    }
   ],
   "source": [
    "# Extracción\n",
    "sqlTiposTrasaccion = '''(SELECT DISTINCT TipoTransaccionID,TipoTransaccionNombre FROM WWImportersTransactional.TiposTransaccion) AS Temp_timpos_transaccion'''\n",
    "tiposTransaccion = obtener_dataframe_de_bd(source_db_connection_string, sqlTiposTrasaccion, db_user, db_psswd)\n",
    "tiposTransaccion.show()"
   ]
  },
  {
   "cell_type": "markdown",
   "metadata": {},
   "source": [
    "#### Transformación\n",
    "Se cambian los nombres de las columnas de la fuente de datos original por las indicadas en el modelo y se agrega la columna ID_Tipo_transaccion_DWH para que sea el identificador de la tabla."
   ]
  },
  {
   "cell_type": "code",
   "execution_count": 455,
   "metadata": {},
   "outputs": [
    {
     "name": "stdout",
     "output_type": "stream",
     "text": [
      "+-----------------------+---------------------+--------------------+\n",
      "|ID_Tipo_transaccion_DWH|ID_Tipo_transaccion_T|                Tipo|\n",
      "+-----------------------+---------------------+--------------------+\n",
      "|                      1|                    2|Customer Credit Note|\n",
      "|                      2|                    3|Customer Payment ...|\n",
      "|                      3|                    4|     Customer Refund|\n",
      "|                      4|                    5|    Supplier Invoice|\n",
      "|                      5|                    6|Supplier Credit Note|\n",
      "+-----------------------+---------------------+--------------------+\n",
      "only showing top 5 rows\n",
      "\n"
     ]
    }
   ],
   "source": [
    "# TRANSFORMACION\n",
    "tiposTransaccion = tiposTransaccion.selectExpr('TipoTransaccionID as ID_Tipo_transaccion_T', 'TipoTransaccionNombre as Tipo')\n",
    "tiposTransaccion = tiposTransaccion.coalesce(1).withColumn('ID_Tipo_transaccion_DWH', f.monotonically_increasing_id() + 1)\n",
    "tiposTransaccion = tiposTransaccion.select('ID_Tipo_transaccion_DWH','ID_Tipo_transaccion_T','Tipo')\n",
    "tiposTransaccion.show(5)"
   ]
  },
  {
   "cell_type": "markdown",
   "metadata": {},
   "source": [
    "Actualmente los movimientos tienen asociado un tipo de transacción, sin embargo, dado que todos los campos en movimiento_v2 puenden ser nulos, se procede a agregar un nuevo registro con identificar 0 en la dimención de tipo de transacción con el fin de relacionar los nulos con este valor"
   ]
  },
  {
   "cell_type": "code",
   "execution_count": 456,
   "metadata": {},
   "outputs": [
    {
     "name": "stdout",
     "output_type": "stream",
     "text": [
      "+-----------------------+---------------------+-------+\n",
      "|ID_Tipo_transaccion_DWH|ID_Tipo_transaccion_T|   Tipo|\n",
      "+-----------------------+---------------------+-------+\n",
      "|                      0|                     |Missing|\n",
      "+-----------------------+---------------------+-------+\n",
      "\n"
     ]
    }
   ],
   "source": [
    "# Crea el registro para el id = 0\n",
    "tipoTransaccion_0 = [(0,'','Missing')]\n",
    "columns = ['ID_Tipo_transaccion_DWH','ID_Tipo_transaccion_T','Tipo']\n",
    "tipoTransaccion_0 = spark.createDataFrame(data=tipoTransaccion_0,schema=columns)\n",
    "tipoTransaccion_0.show()"
   ]
  },
  {
   "cell_type": "code",
   "execution_count": 459,
   "metadata": {},
   "outputs": [
    {
     "name": "stdout",
     "output_type": "stream",
     "text": [
      "+-----------------------+---------------------+--------------------+\n",
      "|ID_Tipo_transaccion_DWH|ID_Tipo_transaccion_T|                Tipo|\n",
      "+-----------------------+---------------------+--------------------+\n",
      "|                      0|                     |             Missing|\n",
      "|                      1|                    2|Customer Credit Note|\n",
      "|                      2|                    3|Customer Payment ...|\n",
      "|                      3|                    4|     Customer Refund|\n",
      "|                      4|                    5|    Supplier Invoice|\n",
      "+-----------------------+---------------------+--------------------+\n",
      "only showing top 5 rows\n",
      "\n"
     ]
    }
   ],
   "source": [
    "tiposTransaccion = tiposTransaccion.union(tipoTransaccion_0)\n",
    "tiposTransaccion.orderBy(col(\"ID_Tipo_transaccion_DWH\").asc()).show(5)"
   ]
  },
  {
   "cell_type": "markdown",
   "metadata": {},
   "source": [
    "#### Carga\n",
    "Una vez realizado el proceso de extracción y transformación, se guardan los resultados en la base de datos destino"
   ]
  },
  {
   "cell_type": "code",
   "execution_count": 460,
   "metadata": {},
   "outputs": [],
   "source": [
    "# CARGUE\n",
    "guardar_db(dest_db_connection_string, tiposTransaccion,'Estudiante_81_202413.TipoTransaccionS4', db_user, db_psswd)"
   ]
  },
  {
   "cell_type": "markdown",
   "metadata": {},
   "source": [
    "### BLOQUE 3\n",
    "Bloque 3: Hecho movimiento, su fuente de datos corresponde a la tabla movimientos del modelo transaccional, en todo este bloque también se incluye la creación de la dimensión Fecha que es necesario para el hecho de movimientos"
   ]
  },
  {
   "cell_type": "markdown",
   "metadata": {},
   "source": [
    "#### Extracción"
   ]
  },
  {
   "cell_type": "code",
   "execution_count": 417,
   "metadata": {},
   "outputs": [],
   "source": [
    "sql_movimientos = '''(SELECT DISTINCT * FROM WWImportersTransactional.movimientos_v2) AS Temp_movimientos'''\n",
    "movimientos = obtener_dataframe_de_bd(source_db_connection_string, sql_movimientos, db_user, db_psswd)"
   ]
  },
  {
   "cell_type": "markdown",
   "metadata": {},
   "source": [
    "#### Transformación\n",
    "\n",
    "Sobre los resultados del entendimiento de datos, Wide World Importers les comenta lo siguiente:\n",
    "\n",
    "* Cada fila representa una transacción o movimiento de productos en el inventario\n",
    "* Los días de pago no pueden ser negativos no tiene sentido para nuestro negocio. Por favor corregir multiplicando los datos negativos por -1.\n",
    "* Sobre la regla de negocio dada para la actividad de entendimiento de datos “La cantidad máxima de productos movidos es 50 millones por transaccion”, el negocio revisó y encontró que efectivamente gracias a los avances en su operación, ya puede mover más que la cantidad de 50 millones por transacción, por lo cual elimina esa regla de negocio.\n",
    "* La falta de datos antes del 2014 es un error de extracción de datos. Los nuevos datos incluyen este año.\n",
    "* Nuestro análisis concluye que la información que se ha duplicado totalmente no es útil. Por favor no tenerlos en cuenta.\n",
    "* “El formato de fechas manejado es YYYY-MM-DD HH:MM:SS si tienen hora, minutos y segundos. De lo contrario el formato es YYYY-MM-DD”: En cuanto a formatos de fechas estamos de acuerdo con que los estandarizemos y el formato sea el especificado en la regla de negocio.\n",
    "* Existen proveedores que tienen 2 filas una con un nombre y otra con el mismo nombre mas un “Inc” o “Ltd”. Unimos estos a un solo proveedor dado que se trató de un error de digitación.\n",
    "* El código postal igual para todos nuestros proveedores es un error que también fue corregido.\n",
    "* Cantidades negativas significan salidas de productos del inventario\n",
    "* El negocio indica que las tablas de categoriasProveedores y TiposTransaccion fueron analizadas previamente, por su grupo de consultores."
   ]
  },
  {
   "cell_type": "markdown",
   "metadata": {},
   "source": [
    "Se verifica que se incluyan datos antes del año 2014, para validar el comentario \"La falta de datos antes del 2014 es un error de extracción de datos. Los nuevos datos incluyen este año.\" La fecha inicial es desde el primero de enero del 2013"
   ]
  },
  {
   "cell_type": "code",
   "execution_count": 499,
   "metadata": {},
   "outputs": [
    {
     "name": "stdout",
     "output_type": "stream",
     "text": [
      "+---------------------+----------+-----------------+---------+---------+-----------+---------------+--------------------+--------+\n",
      "|TransaccionProductoID|ProductoID|TipoTransaccionID|ClienteID|InvoiceID|ProveedorID|OrdenDeCompraID|    FechaTransaccion|Cantidad|\n",
      "+---------------------+----------+-----------------+---------+---------+-----------+---------------+--------------------+--------+\n",
      "|                    1|        67|               10|    832.0|      1.0|       null|           null|2013-01-01 12:00:...|   -10.0|\n",
      "|                   41|        73|               10|    473.0|     13.0|       null|           null|2013-01-01 12:00:...|    -8.0|\n",
      "|                   40|       156|               10|    473.0|     13.0|       null|           null|2013-01-01 12:00:...|   -10.0|\n",
      "|                   44|       163|               10|    870.0|     14.0|       null|           null|2013-01-01 12:00:...|   -10.0|\n",
      "|                   48|       210|               10|    991.0|     15.0|       null|           null|2013-01-01 12:00:...|   -10.0|\n",
      "|                   52|       133|               10|    910.0|     17.0|       null|           null|2013-01-01 12:00:...|   -10.0|\n",
      "|                  100|       125|               10|    811.0|     32.0|       null|           null|2013-01-01 12:00:...|   -10.0|\n",
      "|                  104|       168|               11|      0.0|      0.0|        4.0|          686.0|2013-01-01 12:00:...|    10.0|\n",
      "|                  113|        35|               10|    908.0|     36.0|       null|           null|2013-01-01 12:00:...|   -10.0|\n",
      "|                  117|        35|               10|    995.0|     37.0|       null|           null|2013-01-01 12:00:...|   -10.0|\n",
      "+---------------------+----------+-----------------+---------+---------+-----------+---------------+--------------------+--------+\n",
      "only showing top 10 rows\n",
      "\n"
     ]
    }
   ],
   "source": [
    "movimientos.orderBy(col(\"FechaTransaccion\").asc()).show(10)"
   ]
  },
  {
   "cell_type": "markdown",
   "metadata": {},
   "source": [
    "Se puede evidenciar que hay movimientos para antes del 2014"
   ]
  },
  {
   "cell_type": "markdown",
   "metadata": {},
   "source": [
    "Se verifica la afirmación \"El código postal igual para todos nuestros proveedores es un error que también fue corregido.\""
   ]
  },
  {
   "cell_type": "code",
   "execution_count": 504,
   "metadata": {},
   "outputs": [
    {
     "name": "stdout",
     "output_type": "stream",
     "text": [
      "+-------------+\n",
      "|Codigo_Postal|\n",
      "+-------------+\n",
      "|        57543|\n",
      "|        40351|\n",
      "|        64847|\n",
      "|        37659|\n",
      "|        37770|\n",
      "+-------------+\n",
      "only showing top 5 rows\n",
      "\n"
     ]
    }
   ],
   "source": [
    " proveedores.select(\"Codigo_Postal\").distinct().show(5)"
   ]
  },
  {
   "cell_type": "markdown",
   "metadata": {},
   "source": [
    "Se puede apreciar que efectivamente existen códigos postales diferentes para los proveedores."
   ]
  },
  {
   "cell_type": "markdown",
   "metadata": {},
   "source": [
    "Se verifica que se hayan unificado los duplicados en los nombres de los proveedores, en caso de que el nombre del proveedor ya existiera en un registro y en otro también pero con “Inc” o “Ltd”."
   ]
  },
  {
   "cell_type": "code",
   "execution_count": 418,
   "metadata": {},
   "outputs": [
    {
     "name": "stdout",
     "output_type": "stream",
     "text": [
      "Se unificaron satisfactoriamente los nombres duplicados de los proveedores\n"
     ]
    }
   ],
   "source": [
    "# No se tienen en cuenta los nombres con Inc o Ltd\n",
    "words = [\"Inc\", \"Ltd\"]\n",
    "toMatch = \"|\".join(words)\n",
    "proveedoresNamesWithoutIncLtd = proveedores.select(\"Nombre\").where(~proveedores.Nombre.rlike(toMatch)).rdd.flatMap(lambda x: x).collect()\n",
    "\n",
    "proveedoresNamesWithIncLtd = proveedores.select(\"Nombre\").where(proveedores.Nombre.rlike(toMatch)).rdd.flatMap(lambda x: x).collect()\n",
    "\n",
    "stringOfAllNames = \",\".join(proveedoresNamesWithIncLtd)\n",
    "\n",
    "duplicatesExists = False\n",
    "for name in proveedoresNamesWithoutIncLtd:\n",
    "    if name in stringOfAllNames:\n",
    "        duplicatesExists = True\n",
    "        print(\"Siguen existiendo proveedores con “Inc” o “Ltd” en el nombre duplicados\")\n",
    "if not duplicatesExists:\n",
    "    print(\"Se unificaron satisfactoriamente los nombres duplicados de los proveedores\")"
   ]
  },
  {
   "cell_type": "markdown",
   "metadata": {},
   "source": [
    "Como se puede apreciar, el negocio si realizó correctamente la unificación de los nombres repetidos de los proveedores"
   ]
  },
  {
   "cell_type": "markdown",
   "metadata": {},
   "source": [
    "En el siguiente código para el manejo de fechas, pasamos del formato MM dd,YYYY al formato establecido en la regla de negocio, el cual corresponde a YYYY-MM-DD HH:MM:SS si tienen hora, minutos y segundos. De lo contrario el formato es YYYY-MM-DD"
   ]
  },
  {
   "cell_type": "code",
   "execution_count": 419,
   "metadata": {},
   "outputs": [
    {
     "name": "stdout",
     "output_type": "stream",
     "text": [
      "64254 172413\n",
      "+---------------------+----------+-----------------+---------+---------+-----------+---------------+----------------+--------+\n",
      "|TransaccionProductoID|ProductoID|TipoTransaccionID|ClienteID|InvoiceID|ProveedorID|OrdenDeCompraID|FechaTransaccion|Cantidad|\n",
      "+---------------------+----------+-----------------+---------+---------+-----------+---------------+----------------+--------+\n",
      "|                94344|       108|               10|    185.0|  19763.0|       null|           null|     Jan 20,2014|   -10.0|\n",
      "|                96548|       162|               11|      0.0|      0.0|        4.0|          228.0|     Jan 28,2014|    10.0|\n",
      "|                96560|       216|               10|    474.0|  20224.0|       null|           null|     Jan 28,2014|   -10.0|\n",
      "|                96568|        22|               11|      0.0|      0.0|        7.0|          193.0|     Jan 28,2014|    10.0|\n",
      "|                96648|        25|               11|      0.0|      0.0|        7.0|          408.0|     Jan 28,2014|    10.0|\n",
      "+---------------------+----------+-----------------+---------+---------+-----------+---------------+----------------+--------+\n",
      "only showing top 5 rows\n",
      "\n",
      "None\n"
     ]
    },
    {
     "data": {
      "text/plain": [
       "(64254, 236667)"
      ]
     },
     "execution_count": 419,
     "metadata": {},
     "output_type": "execute_result"
    }
   ],
   "source": [
    "# TRANSFORMACION\n",
    "regex = \"([0-2]\\d{3}-(0[1-9]|1[0-2])-(0[1-9]|[1-2][0-9]|3[0-1]))\"\n",
    "cumplenFormato = movimientos.filter(movimientos[\"FechaTransaccion\"].rlike(regex))\n",
    "noCumplenFormato = movimientos.filter(~movimientos[\"FechaTransaccion\"].rlike(regex))\n",
    "print(noCumplenFormato.count(), cumplenFormato.count())\n",
    "print(noCumplenFormato.show(5))\n",
    "noCumplenFormato = noCumplenFormato.withColumn('FechaTransaccion', f.udf(lambda d: datetime.strptime(d, '%b %d,%Y').strftime('%Y-%m-%d'), t.StringType())(f.col('FechaTransaccion')))\n",
    "movimientos = noCumplenFormato.union(cumplenFormato)\n",
    "noCumplenFormato.count(), movimientos.count()"
   ]
  },
  {
   "cell_type": "markdown",
   "metadata": {},
   "source": [
    "Se valida que efectivamente ya todas las fechas cumplan con el formato."
   ]
  },
  {
   "cell_type": "code",
   "execution_count": 420,
   "metadata": {},
   "outputs": [
    {
     "data": {
      "text/plain": [
       "0"
      ]
     },
     "execution_count": 420,
     "metadata": {},
     "output_type": "execute_result"
    }
   ],
   "source": [
    "movimientos.filter(~movimientos[\"FechaTransaccion\"].rlike(regex)).count()"
   ]
  },
  {
   "cell_type": "markdown",
   "metadata": {},
   "source": [
    "Como se puede observar, de las fechas almacenadas, 0 fechas no cumplen con el formato, es decir que todas ya lo están cumpliendo."
   ]
  },
  {
   "cell_type": "markdown",
   "metadata": {},
   "source": [
    "#### Creación de la dimensión Fecha\n",
    "Dado que la tabla Hecho_Movimiento tiene una relación con la dimensicón fecha, en esta sección se muestra el proceso para su creación. <br>\n",
    "Como primera medida, se procede a seleccionar todas las fechas distintas almacenadas en el atabla movimientos, en la columna FechaTransaccion, además, se convierten a tipo fecha.\n",
    "Como las fechas son de tipo string, estas almacenan el formato timestamp y el formato date, por lo tanto, si trato de hacer el casteo de una fecha string con formato timestamp a una fecha que quede con formato date, va a aparecer este valor en nulo, es por esto que se definen dos variables, **fechaTimeStamp** y **fechaDate**, una permite convertir las fechas en formato timestamp y la otra en formato date, luego se unen los resultados de estas dos variables y se eliminan los valores nulos. "
   ]
  },
  {
   "cell_type": "code",
   "execution_count": 422,
   "metadata": {},
   "outputs": [
    {
     "data": {
      "text/plain": [
       "3042"
      ]
     },
     "execution_count": 422,
     "metadata": {},
     "output_type": "execute_result"
    }
   ],
   "source": [
    "spark.sql(\"set spark.sql.legacy.timeParserPolicy=LEGACY\")\n",
    "fecha = movimientos.withColumn(\"Date\", f.to_timestamp(col(\"FechaTransaccion\"), \"yyyy-MM-dd HH:mm:ss\")).select(\"Date\").distinct()\n",
    "fechaDate = movimientos.withColumn(\"Date\", f.to_date(col(\"FechaTransaccion\"), \"yyyy-MM-dd\")).select( \"Date\").distinct()\n",
    "fecha = fechaDate.union(fechaTimeStamp)\n",
    "fecha = fecha.filter(fecha.Date.isNotNull())\n",
    "fecha.count()"
   ]
  },
  {
   "cell_type": "markdown",
   "metadata": {},
   "source": [
    "A continuación, se puede observar que el campo Date quedó de tipo Timestamp"
   ]
  },
  {
   "cell_type": "code",
   "execution_count": 423,
   "metadata": {},
   "outputs": [
    {
     "data": {
      "text/plain": [
       "StructType(List(StructField(Date,TimestampType,true)))"
      ]
     },
     "execution_count": 423,
     "metadata": {},
     "output_type": "execute_result"
    }
   ],
   "source": [
    "fecha.schema"
   ]
  },
  {
   "cell_type": "markdown",
   "metadata": {},
   "source": [
    "Como ya todas las fechas están en tipo timestamp, se vuelve más fácil convertir todas las fechas en tipo date ya que en el modelo dimensional no se precisan las horas, minutos y segundos, además, es más fácil extraer las fechas que son diferentes "
   ]
  },
  {
   "cell_type": "code",
   "execution_count": 424,
   "metadata": {},
   "outputs": [],
   "source": [
    "fecha = fecha.withColumn(\"convertedToDate\", f.to_date(col(\"Date\"), \"yyyy-MM-dd\")).select(\"Date\", \"convertedToDate\")"
   ]
  },
  {
   "cell_type": "code",
   "execution_count": 425,
   "metadata": {},
   "outputs": [
    {
     "data": {
      "text/plain": [
       "StructType(List(StructField(Date,TimestampType,true),StructField(convertedToDate,DateType,true)))"
      ]
     },
     "execution_count": 425,
     "metadata": {},
     "output_type": "execute_result"
    }
   ],
   "source": [
    "fecha.schema"
   ]
  },
  {
   "cell_type": "markdown",
   "metadata": {},
   "source": [
    "Como se puede ver, ya existe la columna de tipo Timestamp y de tipo Date."
   ]
  },
  {
   "cell_type": "code",
   "execution_count": 426,
   "metadata": {},
   "outputs": [
    {
     "name": "stdout",
     "output_type": "stream",
     "text": [
      "+-------------------+---------------+\n",
      "|               Date|convertedToDate|\n",
      "+-------------------+---------------+\n",
      "|2016-05-31 12:00:00|     2016-05-31|\n",
      "|2016-05-31 07:00:00|     2016-05-31|\n",
      "|2016-05-31 00:00:00|     2016-05-31|\n",
      "|2016-05-30 12:00:00|     2016-05-30|\n",
      "|2016-05-30 07:00:00|     2016-05-30|\n",
      "|2016-05-30 00:00:00|     2016-05-30|\n",
      "|2016-05-28 12:00:00|     2016-05-28|\n",
      "|2016-05-28 00:00:00|     2016-05-28|\n",
      "|2016-05-27 12:00:00|     2016-05-27|\n",
      "|2016-05-27 07:00:00|     2016-05-27|\n",
      "+-------------------+---------------+\n",
      "only showing top 10 rows\n",
      "\n"
     ]
    }
   ],
   "source": [
    "fecha.orderBy(col(\"Date\").desc()).show(10)"
   ]
  },
  {
   "cell_type": "markdown",
   "metadata": {},
   "source": [
    "Ahora se procede a dejar la columna tipo Date y solo tendrá valores distintos, esta columna se renombrará a Fecha"
   ]
  },
  {
   "cell_type": "code",
   "execution_count": 427,
   "metadata": {},
   "outputs": [
    {
     "name": "stdout",
     "output_type": "stream",
     "text": [
      "+----------+\n",
      "|     Fecha|\n",
      "+----------+\n",
      "|2013-01-01|\n",
      "|2013-01-02|\n",
      "|2013-01-03|\n",
      "|2013-01-04|\n",
      "|2013-01-05|\n",
      "|2013-01-07|\n",
      "|2013-01-08|\n",
      "|2013-01-09|\n",
      "|2013-01-10|\n",
      "|2013-01-11|\n",
      "+----------+\n",
      "only showing top 10 rows\n",
      "\n"
     ]
    }
   ],
   "source": [
    "fecha = fecha.select(\"convertedToDate\").distinct().withColumnRenamed(\"convertedToDate\", \"Fecha\").orderBy(col(\"Fecha\").asc())\n",
    "fecha.show(10)"
   ]
  },
  {
   "cell_type": "markdown",
   "metadata": {},
   "source": [
    "A cada fecha se le agrega un identificador único, en el formato YYYYMMDD, además, se crean las columnas con sus valores para el día, mes, año y el número de semana ISO"
   ]
  },
  {
   "cell_type": "code",
   "execution_count": 428,
   "metadata": {},
   "outputs": [
    {
     "name": "stdout",
     "output_type": "stream",
     "text": [
      "+----------+---+---+----+-----------------+--------+\n",
      "|     Fecha|Dia|Mes|Anio|Numero_semana_ISO|ID_Fecha|\n",
      "+----------+---+---+----+-----------------+--------+\n",
      "|2013-01-01|  1|  1|2013|                1|20130101|\n",
      "|2013-01-02|  2|  1|2013|                1|20130102|\n",
      "|2013-01-03|  3|  1|2013|                1|20130103|\n",
      "|2013-01-04|  4|  1|2013|                1|20130104|\n",
      "|2013-01-05|  5|  1|2013|                1|20130105|\n",
      "|2013-01-07|  7|  1|2013|                2|20130107|\n",
      "|2013-01-08|  8|  1|2013|                2|20130108|\n",
      "|2013-01-09|  9|  1|2013|                2|20130109|\n",
      "|2013-01-10| 10|  1|2013|                2|20130110|\n",
      "|2013-01-11| 11|  1|2013|                2|20130111|\n",
      "+----------+---+---+----+-----------------+--------+\n",
      "only showing top 10 rows\n",
      "\n"
     ]
    }
   ],
   "source": [
    "fecha = fecha.select(\"Fecha\", f.dayofmonth(\"Fecha\").alias(\"Dia\"), f.month(\"Fecha\").alias(\"Mes\"), f.year(\"Fecha\").alias(\"Anio\"), f.weekofyear(\"Fecha\").alias(\"Numero_semana_ISO\"))\n",
    "fecha = fecha.coalesce(1).withColumn('ID_Fecha', \n",
    "                                     f.concat(\n",
    "                                         col(\"Anio\").cast(\"string\"), \n",
    "                                         f.when(col(\"Mes\") < 10, f.concat(f.lit(\"0\"), col(\"Mes\").cast(\"string\"))).otherwise(col(\"Mes\").cast(\"string\")), \n",
    "                                         f.when(col(\"Dia\") < 10, f.concat(f.lit(\"0\"), col(\"Dia\").cast(\"string\"))).otherwise(col(\"Dia\").cast(\"string\"))\n",
    "                                     ))\n",
    "fecha.show(10)"
   ]
  },
  {
   "cell_type": "markdown",
   "metadata": {},
   "source": [
    "Se muestra el esquma para la tabla fecha"
   ]
  },
  {
   "cell_type": "code",
   "execution_count": 429,
   "metadata": {},
   "outputs": [
    {
     "data": {
      "text/plain": [
       "StructType(List(StructField(Fecha,DateType,true),StructField(Dia,IntegerType,true),StructField(Mes,IntegerType,true),StructField(Anio,IntegerType,true),StructField(Numero_semana_ISO,IntegerType,true),StructField(ID_Fecha,StringType,true)))"
      ]
     },
     "execution_count": 429,
     "metadata": {},
     "output_type": "execute_result"
    }
   ],
   "source": [
    "fecha.schema"
   ]
  },
  {
   "cell_type": "code",
   "execution_count": 480,
   "metadata": {},
   "outputs": [
    {
     "data": {
      "text/plain": [
       "1070"
      ]
     },
     "execution_count": 480,
     "metadata": {},
     "output_type": "execute_result"
    }
   ],
   "source": [
    "fecha.count()"
   ]
  },
  {
   "cell_type": "markdown",
   "metadata": {},
   "source": [
    "Existen 1070 fechas diferentes en formato YYYYMMDD"
   ]
  },
  {
   "cell_type": "markdown",
   "metadata": {},
   "source": [
    "#### Carga\n",
    "Una vez realizado el proceso de extracción y transformación, se guardan los resultados en la base de datos destino"
   ]
  },
  {
   "cell_type": "code",
   "execution_count": 481,
   "metadata": {},
   "outputs": [],
   "source": [
    "# CARGUE\n",
    "guardar_db(dest_db_connection_string, fecha,'Estudiante_81_202413.FechaS4', db_user, db_psswd)"
   ]
  },
  {
   "cell_type": "markdown",
   "metadata": {},
   "source": [
    "#### Creación de la tabla de hechos\n",
    "\n",
    "A continuación se realizan los joins entre las dimensiones para consolidar toda la información, también se muestra la manera de vincular el hecho con la dimensión fecha."
   ]
  },
  {
   "cell_type": "code",
   "execution_count": 431,
   "metadata": {},
   "outputs": [
    {
     "name": "stdout",
     "output_type": "stream",
     "text": [
      "236667 236667\n",
      "1070\n",
      "+---------------------+----------+-----------------+---------+---------+-----------+---------------+----------------+--------+\n",
      "|TransaccionProductoID|ProductoID|TipoTransaccionID|ClienteID|InvoiceID|ProveedorID|OrdenDeCompraID|FechaTransaccion|Cantidad|\n",
      "+---------------------+----------+-----------------+---------+---------+-----------+---------------+----------------+--------+\n",
      "|                94344|       108|               10|    185.0|  19763.0|       null|           null|      2014-01-20|   -10.0|\n",
      "|                96548|       162|               11|      0.0|      0.0|        4.0|          228.0|      2014-01-28|    10.0|\n",
      "|                96560|       216|               10|    474.0|  20224.0|       null|           null|      2014-01-28|   -10.0|\n",
      "|                96568|        22|               11|      0.0|      0.0|        7.0|          193.0|      2014-01-28|    10.0|\n",
      "|                96648|        25|               11|      0.0|      0.0|        7.0|          408.0|      2014-01-28|    10.0|\n",
      "|                97822|        14|               10|    444.0|  20489.0|       null|           null|      2014-02-01|   -10.0|\n",
      "|                97832|        75|               11|      0.0|      0.0|        7.0|          288.0|      2014-02-01|    10.0|\n",
      "|               110483|        20|               10|    802.0|  23127.0|       null|           null|      2014-03-25|   -10.0|\n",
      "|               110500|        65|               11|      0.0|      0.0|        4.0|         1716.0|      2014-03-25|    10.0|\n",
      "|               110506|       130|               10|    487.0|  23132.0|       null|           null|      2014-03-25|   -10.0|\n",
      "+---------------------+----------+-----------------+---------+---------+-----------+---------------+----------------+--------+\n",
      "only showing top 10 rows\n",
      "\n"
     ]
    }
   ],
   "source": [
    "movimientosWithDateType = movimientos.withColumn(\"FechaTransaccion\", f.to_date(col(\"FechaTransaccion\"), \"yyyy-MM-dd\"))\n",
    "movimientosWithDateType = movimientosWithDateType.filter(movimientosWithDateType.FechaTransaccion.isNotNull())\n",
    "print(movimientosWithDateType.count(), movimientos.count())\n",
    "print(movimientosWithDateType.select(\"FechaTransaccion\").distinct().count())\n",
    "movimientosWithDateType.show(10)"
   ]
  },
  {
   "cell_type": "markdown",
   "metadata": {},
   "source": [
    "Como se puede apreciar, se transforman todas las fechas en la tabla de movimientos al formato yyyy-mm-dd, se hace un conteo para que no hayan filas faltantes y se muestra la cantidad de fechas diferentes con este formato.\n",
    "Esto se hace para poder relacionar correctamente la tabla de movimientos con la tabla de fecha y obtener su identificador."
   ]
  },
  {
   "cell_type": "code",
   "execution_count": 471,
   "metadata": {},
   "outputs": [],
   "source": [
    "sql_productos = '''(SELECT ID_Producto_DWH, ID_Producto_T FROM Estudiante_81_202413.ProductoS4) AS Temp_productos'''\n",
    "sql_clientes = '''(SELECT ID_Cliente_DWH, ID_Cliente_T FROM Estudiante_81_202413.ClienteS4) AS Temp_productos'''\n",
    "\n",
    "productosTmp = obtener_dataframe_de_bd(source_db_connection_string, sql_productos, db_user, db_psswd)\n",
    "clientesTmp = obtener_dataframe_de_bd(source_db_connection_string, sql_clientes, db_user, db_psswd)"
   ]
  },
  {
   "cell_type": "code",
   "execution_count": 505,
   "metadata": {},
   "outputs": [
    {
     "name": "stdout",
     "output_type": "stream",
     "text": [
      "+--------+---------------+----------------+--------------+-----------------------+--------+\n",
      "|ID_Fecha|ID_Producto_DWH|ID_Proveedor_DWH|ID_Cliente_DWH|ID_Tipo_transaccion_DWH|Cantidad|\n",
      "+--------+---------------+----------------+--------------+-----------------------+--------+\n",
      "|20140128|             88|               0|           380|                      9|   -10.0|\n",
      "|20140120|            154|               0|           290|                      9|   -10.0|\n",
      "|20140325|            194|               0|           618|                      9|   -10.0|\n",
      "|20140325|            146|               0|           393|                      9|   -10.0|\n",
      "|20140201|             12|               0|           350|                      9|   -10.0|\n",
      "|20140128|             46|               5|             0|                     10|    10.0|\n",
      "|20140325|            123|               5|             0|                     10|    10.0|\n",
      "|20140128|            105|               3|             0|                     10|    10.0|\n",
      "|20140325|            170|               3|             0|                     10|    10.0|\n",
      "|20140201|            127|               3|             0|                     10|    10.0|\n",
      "+--------+---------------+----------------+--------------+-----------------------+--------+\n",
      "only showing top 10 rows\n",
      "\n"
     ]
    }
   ],
   "source": [
    "movimientos_tmp = movimientosWithDateType\n",
    "movimientosHecho = movimientos_tmp.alias('m').join(fecha.alias('f'), movimientos_tmp.FechaTransaccion == fecha.Fecha,'left')\\\n",
    "                    .join(productosTmp.alias('prod'), movimientos_tmp.ProductoID == productosTmp.ID_Producto_T,'left')\\\n",
    "                    .join(proveedores.alias('prov'), movimientos_tmp.ProveedorID == proveedores.ID_Proveedor_T,'left')\\\n",
    "                    .join(clientesTmp.alias('cli'), movimientos_tmp.ClienteID == clientesTmp.ID_Cliente_T,'left')\\\n",
    "                    .join(tiposTransaccion.alias('tt'), movimientos_tmp.TipoTransaccionID == tiposTransaccion.ID_Tipo_transaccion_T,'left')\\\n",
    "                    .select([col('f.ID_Fecha'), col('prod.ID_Producto_DWH'), col('prov.ID_Proveedor_DWH'), \n",
    "                             col('cli.ID_Cliente_DWH'), col('tt.ID_Tipo_transaccion_DWH'), col('m.Cantidad')])\\\n",
    "                    .fillna({'ID_Producto_DWH': 0, 'ID_Proveedor_DWH': 0, 'ID_Cliente_DWH': 0, 'ID_Tipo_transaccion_DWH': 0})\n",
    "movimientosHecho.show(10)"
   ]
  },
  {
   "cell_type": "markdown",
   "metadata": {
    "id": "N9f10qpB86v9"
   },
   "source": [
    "#### Carga"
   ]
  },
  {
   "cell_type": "code",
   "execution_count": 506,
   "metadata": {},
   "outputs": [],
   "source": [
    "guardar_db(dest_db_connection_string, movimientosHecho,'Estudiante_81_202413.Hecho_MovimientoS4', db_user, db_psswd)"
   ]
  },
  {
   "cell_type": "markdown",
   "metadata": {},
   "source": [
    "# Resultado de consultas\n",
    "Corresponde a las consultas realizadas sobre las tablas, para mostrar el estado final de las tablas pobladas como resultado del proceso de ETL.\n",
    "\n",
    "## Consulta para ver algunos registros de la dimensión Fecha"
   ]
  },
  {
   "cell_type": "code",
   "execution_count": 483,
   "metadata": {},
   "outputs": [
    {
     "name": "stdout",
     "output_type": "stream",
     "text": [
      "+----------+---+---+----+-----------------+--------+\n",
      "|     Fecha|Dia|Mes|Anio|Numero_semana_ISO|ID_Fecha|\n",
      "+----------+---+---+----+-----------------+--------+\n",
      "|2013-01-01|  1|  1|2013|                1|20130101|\n",
      "|2013-01-02|  2|  1|2013|                1|20130102|\n",
      "|2013-01-03|  3|  1|2013|                1|20130103|\n",
      "|2013-01-04|  4|  1|2013|                1|20130104|\n",
      "|2013-01-05|  5|  1|2013|                1|20130105|\n",
      "|2013-01-07|  7|  1|2013|                2|20130107|\n",
      "|2013-01-08|  8|  1|2013|                2|20130108|\n",
      "|2013-01-09|  9|  1|2013|                2|20130109|\n",
      "|2013-01-10| 10|  1|2013|                2|20130110|\n",
      "|2013-01-11| 11|  1|2013|                2|20130111|\n",
      "+----------+---+---+----+-----------------+--------+\n",
      "only showing top 10 rows\n",
      "\n"
     ]
    }
   ],
   "source": [
    "sql_fechas = '''(SELECT * FROM Estudiante_81_202413.FechaS4) AS Temp_fechas'''\n",
    "fechasS4 = obtener_dataframe_de_bd(source_db_connection_string, sql_fechas, db_user, db_psswd)\n",
    "fechasS4.show(10)"
   ]
  },
  {
   "cell_type": "code",
   "execution_count": 484,
   "metadata": {},
   "outputs": [
    {
     "data": {
      "text/plain": [
       "1070"
      ]
     },
     "execution_count": 484,
     "metadata": {},
     "output_type": "execute_result"
    }
   ],
   "source": [
    "fechasS4.count()"
   ]
  },
  {
   "cell_type": "markdown",
   "metadata": {},
   "source": [
    "## Consulta para ver algunos registros de la dimensión Producto\n",
    "Vale la pena resaltar que está tabla se crea a partir de la interacción con el tutorial, ya que el enunciado no hace explícito que se deba hacer el proceso de ETL para esta dimensión."
   ]
  },
  {
   "cell_type": "code",
   "execution_count": 485,
   "metadata": {},
   "outputs": [
    {
     "name": "stdout",
     "output_type": "stream",
     "text": [
      "+---------------+-------------+--------------------+-----+-------+----------------------+-------------------+-----------------+--------+--------------+\n",
      "|ID_Producto_DWH|ID_Producto_T|      NombreProducto|Marca|  Color|Necesita_refrigeracion|Dias_tiempo_entrega|PrecioRecomendado|Impuesto|PrecioUnitario|\n",
      "+---------------+-------------+--------------------+-----+-------+----------------------+-------------------+-----------------+--------+--------------+\n",
      "|              1|            1|USB missile launc...| null|Missing|                     0|                 14|               37|      15|            25|\n",
      "|              2|            4|USB food flash dr...| null|Missing|                     0|                 14|               48|      15|            32|\n",
      "|              3|            5|USB food flash dr...| null|Missing|                     0|                 14|               48|      15|            32|\n",
      "|              4|            6|USB food flash dr...| null|Missing|                     0|                 14|               48|      15|            32|\n",
      "|              5|            7|USB food flash dr...| null|Missing|                     0|                 14|               48|      15|            32|\n",
      "|              6|            8|USB food flash dr...| null|Missing|                     0|                 14|              359|      15|           240|\n",
      "|              7|            9|USB food flash dr...| null|Missing|                     0|                 14|               48|      15|            32|\n",
      "|              8|           10|USB food flash dr...| null|Missing|                     0|                 14|               48|      15|            32|\n",
      "|              9|           11|USB food flash dr...| null|Missing|                     0|                 14|               48|      15|            32|\n",
      "|             10|           12|USB food flash dr...| null|Missing|                     0|                 14|               48|      15|            32|\n",
      "+---------------+-------------+--------------------+-----+-------+----------------------+-------------------+-----------------+--------+--------------+\n",
      "only showing top 10 rows\n",
      "\n"
     ]
    }
   ],
   "source": [
    "sql_productosS4 = '''(SELECT * FROM Estudiante_81_202413.ProductoS4) AS Temp_productos'''\n",
    "productosS4 = obtener_dataframe_de_bd(source_db_connection_string, sql_productosS4, db_user, db_psswd)\n",
    "productosS4.show(10)"
   ]
  },
  {
   "cell_type": "code",
   "execution_count": 486,
   "metadata": {},
   "outputs": [
    {
     "data": {
      "text/plain": [
       "227"
      ]
     },
     "execution_count": 486,
     "metadata": {},
     "output_type": "execute_result"
    }
   ],
   "source": [
    "productosS4.count()"
   ]
  },
  {
   "cell_type": "markdown",
   "metadata": {},
   "source": [
    "## Consulta para ver algunos registros de la dimensión Proveedor"
   ]
  },
  {
   "cell_type": "code",
   "execution_count": 487,
   "metadata": {},
   "outputs": [
    {
     "name": "stdout",
     "output_type": "stream",
     "text": [
      "+----------------+--------------+--------------------+--------------------+------------------+---------+-------------+\n",
      "|ID_Proveedor_DWH|ID_Proveedor_T|              Nombre|           Categoria|Contacto_principal|Dias_pago|Codigo_postal|\n",
      "+----------------+--------------+--------------------+--------------------+------------------+---------+-------------+\n",
      "|               1|             3|Consolidated Mess...|servicios de mens...|       Helen Ahven|       30|        94101|\n",
      "|               2|            10|Northwind Electri...|            juguetes|     Sara Karlsson|       30|         7860|\n",
      "|               3|             7|       Litware, Inc.|            embalaje|        Vilma Niva|       30|        95245|\n",
      "|               4|             6| Humongous Insurance|servicios de seguros|     Annette Talon|       14|        37770|\n",
      "|               5|             4|      Fabrikam, Inc.|                ropa|       Helen Moore|       30|        40351|\n",
      "|               6|            11|       Trey Research|servicios de mark...|     Sharon Graham|        7|        57543|\n",
      "|               7|            13|      Woodgrove Bank|servicios financi...|      Donald Small|        7|        94101|\n",
      "|               8|            12|   The Phone Company| productos novedosos|        Thanh Dinh|       30|        56732|\n",
      "|               9|             1| A Datum Corporation| productos novedosos|       Oliver Kivi|       14|        46077|\n",
      "|              10|             9|      Nod Publishers| productos novedosos|  Matheus Oliveira|        7|        27906|\n",
      "+----------------+--------------+--------------------+--------------------+------------------+---------+-------------+\n",
      "only showing top 10 rows\n",
      "\n"
     ]
    }
   ],
   "source": [
    "sql_proveedoresS4 = '''(SELECT * FROM Estudiante_81_202413.ProveedorS4) AS Temp_proveedores'''\n",
    "proveedoresS4 = obtener_dataframe_de_bd(source_db_connection_string, sql_proveedoresS4, db_user, db_psswd)\n",
    "proveedoresS4.show(10)"
   ]
  },
  {
   "cell_type": "code",
   "execution_count": 488,
   "metadata": {},
   "outputs": [
    {
     "data": {
      "text/plain": [
       "14"
      ]
     },
     "execution_count": 488,
     "metadata": {},
     "output_type": "execute_result"
    }
   ],
   "source": [
    "proveedoresS4.count()"
   ]
  },
  {
   "cell_type": "markdown",
   "metadata": {},
   "source": [
    "## Consulta para ver algunos registros de la dimensión Cliente\n",
    "Vale la pena resaltar que está tabla se crea a partir de la interacción con el tutorial, ya que el enunciado no hace explícito que se deba hacer el proceso de ETL para esta dimensión."
   ]
  },
  {
   "cell_type": "code",
   "execution_count": 489,
   "metadata": {},
   "outputs": [
    {
     "name": "stdout",
     "output_type": "stream",
     "text": [
      "+--------------+------------+------------------+---------------+-----------------+--------------+----------------+-------------+-------------------+--------+\n",
      "|ID_Cliente_DWH|ID_Cliente_T|            Nombre|NombreCategoria|NombreGrupoCompra|ClienteFactura|ID_CiudadEntrega|LimiteCredito|FechaAperturaCuenta|DiasPago|\n",
      "+--------------+------------+------------------+---------------+-----------------+--------------+----------------+-------------+-------------------+--------+\n",
      "|             0|            |           Missing|        Missing|          Missing|             0|               0|             |                   |        |\n",
      "|             0|            |           Missing|        Missing|          Missing|             0|               0|             |                   |        |\n",
      "|             1|         807|     Gunnar Lohmus|     Gift Store|          Missing|           807|           35810|         3100|2013-01-01 00:00:00|       7|\n",
      "|             2|         816|        Harsha Huq|     Gift Store|          Missing|           816|            8892|         2400|2013-01-01 00:00:00|       7|\n",
      "|             3|         823|Francisca Laureano|     Gift Store|          Missing|           823|           17142|         3500|2013-01-01 00:00:00|       7|\n",
      "|             4|         825|    Jayanta Thakur|     Gift Store|          Missing|           825|           28367|         3000|2013-01-01 00:00:00|       7|\n",
      "|             5|         828|      Sercan Celik|     Gift Store|          Missing|           828|           34193|         1785|2013-01-01 00:00:00|       7|\n",
      "|             6|         834|          Cong Hoa|     Gift Store|          Missing|           834|           25971|         1500|2013-01-01 00:00:00|       7|\n",
      "|             7|         841|   Camille Authier|     Gift Store|          Missing|           841|              15|         2100|2013-01-01 00:00:00|       7|\n",
      "|             8|         842|          Biju Deb|     Gift Store|          Missing|           842|            8730|         2600|2013-01-01 00:00:00|       7|\n",
      "+--------------+------------+------------------+---------------+-----------------+--------------+----------------+-------------+-------------------+--------+\n",
      "only showing top 10 rows\n",
      "\n"
     ]
    }
   ],
   "source": [
    "sql_clientesS4 = '''(SELECT * FROM Estudiante_81_202413.ClienteS4) AS Temp_clientes'''\n",
    "clientesS4 = obtener_dataframe_de_bd(source_db_connection_string, sql_clientesS4, db_user, db_psswd)\n",
    "clientesS4.show(10)"
   ]
  },
  {
   "cell_type": "code",
   "execution_count": 490,
   "metadata": {},
   "outputs": [
    {
     "data": {
      "text/plain": [
       "665"
      ]
     },
     "execution_count": 490,
     "metadata": {},
     "output_type": "execute_result"
    }
   ],
   "source": [
    "clientesS4.count()"
   ]
  },
  {
   "cell_type": "markdown",
   "metadata": {},
   "source": [
    "## Consulta para ver algunos registros de la dimensión TipoTransaccion"
   ]
  },
  {
   "cell_type": "code",
   "execution_count": 491,
   "metadata": {},
   "outputs": [
    {
     "name": "stdout",
     "output_type": "stream",
     "text": [
      "+-----------------------+---------------------+--------------------+\n",
      "|ID_Tipo_transaccion_DWH|ID_Tipo_transaccion_T|                Tipo|\n",
      "+-----------------------+---------------------+--------------------+\n",
      "|                      1|                    2|Customer Credit Note|\n",
      "|                      2|                    3|Customer Payment ...|\n",
      "|                      3|                    4|     Customer Refund|\n",
      "|                      4|                    5|    Supplier Invoice|\n",
      "|                      5|                    6|Supplier Credit Note|\n",
      "|                      6|                    7|Supplier Payment ...|\n",
      "|                      7|                    8|     Supplier Refund|\n",
      "|                      8|                    9|      Stock Transfer|\n",
      "|                      9|                   10|         Stock Issue|\n",
      "|                     10|                   11|       Stock Receipt|\n",
      "+-----------------------+---------------------+--------------------+\n",
      "only showing top 10 rows\n",
      "\n"
     ]
    }
   ],
   "source": [
    "sql_tiposTransaccionS4 = '''(SELECT * FROM Estudiante_81_202413.TipoTransaccionS4) AS Temp_tiposTransaccion'''\n",
    "tiposTransaccionS4 = obtener_dataframe_de_bd(source_db_connection_string, sql_tiposTransaccionS4, db_user, db_psswd)\n",
    "tiposTransaccionS4.show(10)"
   ]
  },
  {
   "cell_type": "code",
   "execution_count": 492,
   "metadata": {},
   "outputs": [
    {
     "data": {
      "text/plain": [
       "13"
      ]
     },
     "execution_count": 492,
     "metadata": {},
     "output_type": "execute_result"
    }
   ],
   "source": [
    "tiposTransaccionS4.count()"
   ]
  },
  {
   "cell_type": "markdown",
   "metadata": {},
   "source": [
    "## Consulta para ver algunos registros de la dimensión Hecho_Movimiento"
   ]
  },
  {
   "cell_type": "code",
   "execution_count": 507,
   "metadata": {},
   "outputs": [
    {
     "name": "stdout",
     "output_type": "stream",
     "text": [
      "+--------+---------------+----------------+--------------+-----------------------+--------+\n",
      "|ID_Fecha|ID_Producto_DWH|ID_Proveedor_DWH|ID_Cliente_DWH|ID_Tipo_transaccion_DWH|Cantidad|\n",
      "+--------+---------------+----------------+--------------+-----------------------+--------+\n",
      "|20151231|             77|               9|             0|                     10|    50.0|\n",
      "|20150519|            159|               0|           520|                      9|   -10.0|\n",
      "|20140723|            184|               9|             0|                     10|    84.0|\n",
      "|20150519|            203|               0|            60|                      9|   -10.0|\n",
      "|20150824|             14|               9|             0|                     10|     3.0|\n",
      "|20150519|            167|               0|           433|                      9|   -10.0|\n",
      "|20140918|            119|               9|             0|                     10|     1.0|\n",
      "|20160301|             16|               0|           183|                      9|   -10.0|\n",
      "|20140925|            202|               9|             0|                     10|     1.0|\n",
      "|20160301|            154|               0|           214|                      9|   -10.0|\n",
      "+--------+---------------+----------------+--------------+-----------------------+--------+\n",
      "only showing top 10 rows\n",
      "\n"
     ]
    }
   ],
   "source": [
    "sql_hechoMovimientosS4 = '''(SELECT * FROM Estudiante_81_202413.Hecho_MovimientoS4) AS Temp_hechoMovimiento'''\n",
    "hechoMovimientosS4 = obtener_dataframe_de_bd(source_db_connection_string, sql_hechoMovimientosS4, db_user, db_psswd)\n",
    "hechoMovimientosS4.show(10)"
   ]
  },
  {
   "cell_type": "code",
   "execution_count": 508,
   "metadata": {},
   "outputs": [
    {
     "data": {
      "text/plain": [
       "236667"
      ]
     },
     "execution_count": 508,
     "metadata": {},
     "output_type": "execute_result"
    }
   ],
   "source": [
    "hechoMovimientosS4.count()"
   ]
  },
  {
   "cell_type": "code",
   "execution_count": null,
   "metadata": {},
   "outputs": [],
   "source": []
  }
 ],
 "metadata": {
  "colab": {
   "collapsed_sections": [
    "vtE61qk986vx",
    "X9Oou0g986vy",
    "B5kFkHTD86vz",
    "ddFhEOmL86vz",
    "MuvVgJ4R86v0",
    "BZjDeVYd86v1",
    "_7xbgfCk86v1",
    "Rh_102Yy86v1",
    "HogvCqW_86v2",
    "9rKmT9jd86v2",
    "R9SnkMUH86v3",
    "k8O1GvOd86v3",
    "Mo633Vpg86v3",
    "i36NawhX86v4",
    "LvgnsPfK86v4",
    "dTv_CIOT86v5",
    "N9f10qpB86v9"
   ],
   "name": "MISW-ETL-TutorialETL.ipynb",
   "provenance": []
  },
  "kernelspec": {
   "display_name": "Python 3 (ipykernel)",
   "language": "python",
   "name": "python3"
  },
  "language_info": {
   "codemirror_mode": {
    "name": "ipython",
    "version": 3
   },
   "file_extension": ".py",
   "mimetype": "text/x-python",
   "name": "python",
   "nbconvert_exporter": "python",
   "pygments_lexer": "ipython3",
   "version": "3.7.13"
  }
 },
 "nbformat": 4,
 "nbformat_minor": 4
}
