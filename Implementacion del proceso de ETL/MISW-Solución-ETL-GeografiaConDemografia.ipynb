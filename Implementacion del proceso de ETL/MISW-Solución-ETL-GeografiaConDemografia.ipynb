{
 "cells": [
  {
   "cell_type": "markdown",
   "metadata": {
    "id": "IcY9y56n86vn"
   },
   "source": [
    "# Solución tarea semana 4"
   ]
  },
  {
   "cell_type": "markdown",
   "metadata": {
    "id": "gcg5UCbU86vp"
   },
   "source": [
    "## 1. Introducción\t\n",
    "    En esta tarea se dará solución para llevar a cabo los diferentes procesos de ETL para la dimensión GeografiaConDemografia, se partirá de un diseño que permite orientar la implementación y tener en cuenta las consideraciones del proceso ETL como los campos a tener en cuenta y las transformaciones sobre las reglas o necesidades de negocio que permitan obtener análisis de una forma más fiable y entendible.\n",
    "\t"
   ]
  },
  {
   "cell_type": "markdown",
   "metadata": {
    "id": "LqQVz5s686vq"
   },
   "source": [
    "## 2. Proceso de ETL."
   ]
  },
  {
   "cell_type": "markdown",
   "metadata": {
    "id": "A2UT2Ia586vr"
   },
   "source": [
    "En este proceso de ETL, se extraen los datos de los **pib, divipola y proyecciones** de una base de datos transaccional y se almacenan en otra base de datos que corresponde a la bodega de datos, siguiendo una aproximación ROLAP. A continuación, se presenta el modelo multidimensional que es el modelo conceptual que representa el proceso de registro de vuelos en un mes para la demografía y la geografía. Este modelo se utilizará para crear la dimensión GeografiaConDemografia en la bodega de datos que representan el proceso de negocio y que será cargada como resultado del proceso ETL. \n",
    "\n",
    "Se tendrán dos llaves las cuales están relacionadas con la bodega de datos (terminadas en DWH) y con las llaves de la base de datos transaccional (terminadas en T).\n"
   ]
  },
  {
   "attachments": {},
   "cell_type": "markdown",
   "metadata": {
    "id": "UpOSEfhX86vs"
   },
   "source": [
    "![Modelo](./modelo.png)"
   ]
  },
  {
   "cell_type": "markdown",
   "metadata": {
    "id": "rg1M_rdU86vs"
   },
   "source": [
    "Para el proceso de ETL se realizó el siguiente diseño general. A partir de la información obtenida del diseño ETL, se pudieron identificar las fuentes a utilizar y las relaciones entre estas, también la organización ha dado respuesta a algunas inquietudes, lo que permite conocer la mejor forma de proceder para manipular los datos. En el proceso de ETL se plantea un bloque para la dimensión nombrada anteriormente.\n",
    "![ETL](./Diseno-ETL.png)"
   ]
  },
  {
   "cell_type": "markdown",
   "metadata": {},
   "source": [
    "### Configuración inicial para la sesión y base de datos"
   ]
  },
  {
   "cell_type": "code",
   "execution_count": 1,
   "metadata": {
    "id": "os1iJYmu86vt"
   },
   "outputs": [],
   "source": [
    "# Configuración servidor base de datos transaccional\n",
    "db_user = ''\n",
    "db_psswd = ''\n",
    "source_db_connection_string = 'jdbc:mysql://157.253.236.116:8080/ProyectoTransaccional'\n",
    "\n",
    "dest_db_connection_string = 'jdbc:mysql://157.253.236.116:8080/Estudiante_81_202413'\n",
    "\n",
    "# Driver de conexion\n",
    "path_jar_driver = 'C:\\Program Files (x86)\\MySQL\\Connector J 8.0\\mysql-connector-java-8.0.28.jar'"
   ]
  },
  {
   "cell_type": "code",
   "execution_count": 2,
   "metadata": {
    "id": "HAGk_V1986vu"
   },
   "outputs": [],
   "source": [
    "import os \n",
    "from pyspark.sql import functions as f, SparkSession, types as t\n",
    "from pyspark import SparkContext, SparkConf, SQLContext\n",
    "from pyspark.sql.functions import udf, col, length, isnan, when, count, regexp_replace, to_timestamp\n",
    "from datetime import datetime"
   ]
  },
  {
   "cell_type": "code",
   "execution_count": 3,
   "metadata": {
    "id": "TQ3DM_Xf86vv",
    "outputId": "f2cdb157-a92d-4edc-a174-6f3bd09b9885"
   },
   "outputs": [
    {
     "name": "stderr",
     "output_type": "stream",
     "text": [
      "C:\\Users\\estudiante\\anaconda3\\envs\\Tutoriales\\lib\\site-packages\\pyspark\\sql\\context.py:79: FutureWarning: Deprecated in 3.0.0. Use SparkSession.builder.getOrCreate() instead.\n",
      "  FutureWarning\n"
     ]
    }
   ],
   "source": [
    "#Configuración de la sesión\n",
    "conf=SparkConf() \\\n",
    "    .set('spark.driver.extraClassPath', path_jar_driver)\n",
    "spark_context = SparkContext(conf=conf)\n",
    "sql_context = SQLContext(spark_context)\n",
    "spark = sql_context.sparkSession"
   ]
  },
  {
   "cell_type": "markdown",
   "metadata": {
    "id": "buA7s-vL86vw"
   },
   "source": [
    "### Conexión y carga de datos"
   ]
  },
  {
   "cell_type": "markdown",
   "metadata": {
    "id": "r_QZ-j9q86vw"
   },
   "source": [
    "Se define la función para conexión y cargue de dataframes desde la base de datos origen y luego la función para guardar un dataframe en una tabla de la base de datos destino."
   ]
  },
  {
   "cell_type": "code",
   "execution_count": 4,
   "metadata": {
    "id": "Mhy0jbh_86vw"
   },
   "outputs": [],
   "source": [
    "def obterner_dataframe_desde_csv(_PATH, _sep):\n",
    "    return spark.read.load(_PATH, format=\"csv\", sep=_sep, inferSchema=\"true\", header='true')\n",
    "\n",
    "def obtener_dataframe_de_bd(db_connection_string, sql, db_user, db_psswd):\n",
    "    df_bd = spark.read.format('jdbc')\\\n",
    "        .option('url', db_connection_string) \\\n",
    "        .option('dbtable', sql) \\\n",
    "        .option('user', db_user) \\\n",
    "        .option('password', db_psswd) \\\n",
    "        .option('driver', 'com.mysql.cj.jdbc.Driver') \\\n",
    "        .load()\n",
    "    return df_bd\n",
    "\n",
    "def guardar_db(db_connection_string, df, tabla, db_user, db_psswd):\n",
    "    df.select('*').write.format('jdbc') \\\n",
    "      .mode('append') \\\n",
    "      .option('url', db_connection_string) \\\n",
    "      .option('dbtable', tabla) \\\n",
    "      .option('user', db_user) \\\n",
    "      .option('password', db_psswd) \\\n",
    "      .option('driver', 'com.mysql.cj.jdbc.Driver') \\\n",
    "      .save()"
   ]
  },
  {
   "cell_type": "markdown",
   "metadata": {
    "id": "ZhFsv4ba86vw"
   },
   "source": [
    "## BLOQUE 1\n",
    "Empezamos con el bloque 1: primero se procederá a obtener la información de las fuentes de datos pib, divipola y proyecciones, luego se realizarán las transformaciones para normalizar los nombres de los departamentos y eliminar duplicados de la tabla pib, pra realizar imputaciones en la tabla de proyecciones y por último hacer la intregración de las tres fuentes de datos para cargar la información en la dimensión **GeografiaConDemografia**"
   ]
  },
  {
   "cell_type": "markdown",
   "metadata": {
    "id": "XNKxFA-f86vx"
   },
   "source": [
    "### Extracción\n",
    "Se toman la información de las 3 tablas mencionadas anteriormente del modelo transaccional y se almacenan como dataframes."
   ]
  },
  {
   "cell_type": "code",
   "execution_count": 130,
   "metadata": {
    "id": "IopBNYuc86vx",
    "outputId": "0589f8a9-527e-4b28-d096-a176efd48e97"
   },
   "outputs": [],
   "source": [
    "sql_pib = '''(SELECT DISTINCT `CodigoDepartamento(DIVIPOLA)` as codDepartamentoPib, DEPARTAMENTOS ,`2006` ,`2007`, `2008`, `2010`, `2011`, `2012`, `2013`, `2014`, `2015`, `2016`, `2017`, `2009`, `2005` FROM ProyectoTransaccional.pib) AS Temp_pib'''\n",
    "\n",
    "pib = obtener_dataframe_de_bd(source_db_connection_string, sql_pib, db_user, db_psswd)"
   ]
  },
  {
   "cell_type": "code",
   "execution_count": 160,
   "metadata": {},
   "outputs": [],
   "source": [
    "sql_divipola = '''(SELECT DISTINCT CodigoDepartamento, CodigoMunicipio, NombreDepartamento, NombreMunicipio, NombreAreaMetropolitana, Longitud, Latitud FROM ProyectoTransaccional.divipola) AS Temp_divipola'''\n",
    "divipola = obtener_dataframe_de_bd(source_db_connection_string, sql_divipola, db_user, db_psswd)"
   ]
  },
  {
   "cell_type": "code",
   "execution_count": 230,
   "metadata": {},
   "outputs": [],
   "source": [
    "sql_proyecciones = '''(SELECT DISTINCT DP, AÑO, `Total Hombres`, `Total Mujeres` FROM ProyectoTransaccional.proyecciones) AS Temp_proyecciones'''\n",
    "proyecciones = obtener_dataframe_de_bd(source_db_connection_string, sql_proyecciones, db_user, db_psswd)"
   ]
  },
  {
   "cell_type": "code",
   "execution_count": 201,
   "metadata": {},
   "outputs": [],
   "source": [
    "sql_aeropuertos = '''(SELECT DISTINCT gcd_departamento, gcd_municipio CodigoMunicipio, latitud, longitud FROM ProyectoTransaccional.aeropuertos) AS Temp_aeropuertos'''\n",
    "aeropuertos = obtener_dataframe_de_bd(source_db_connection_string, sql_aeropuertos, db_user, db_psswd)"
   ]
  },
  {
   "cell_type": "code",
   "execution_count": 133,
   "metadata": {},
   "outputs": [
    {
     "name": "stdout",
     "output_type": "stream",
     "text": [
      "['codDepartamentoPib', 'DEPARTAMENTOS', '2006', '2007', '2008', '2010', '2011', '2012', '2013', '2014', '2015', '2016', '2017', '2009', '2005'] ['CodigoDepartamento', 'CodigoMunicipio', 'NombreDepartamento', 'NombreMunicipio', 'NombreAreaMetropolitana', 'Longitud', 'Latitud'] ['DP', 'AÑO', 'Total Hombres', 'Total Mujeres']\n"
     ]
    }
   ],
   "source": [
    "print(pib.columns, divipola.columns, proyecciones.columns)"
   ]
  },
  {
   "cell_type": "markdown",
   "metadata": {
    "id": "vtE61qk986vx"
   },
   "source": [
    "### Transformación\n",
    "Como parte del proceso de transformación, se procede a realizar lo siguiente:\n",
    "1. Realizar las transformaciones pertinentes en cada fuente de datos, se establecerá una sección por cada fuente para que quede más ordenado el proceso.  \n",
    "2. Se realizará la ingración entre las diferentes tabla para que todo quede listo para el cargue.\n"
   ]
  },
  {
   "cell_type": "markdown",
   "metadata": {},
   "source": [
    "#### pib\n",
    "A continuación se muestra el proceso para las transaformaciones de la información en pib, primero se procede a validar la cantidad de registros total y la cantidad de duplicados"
   ]
  },
  {
   "cell_type": "code",
   "execution_count": 134,
   "metadata": {},
   "outputs": [
    {
     "name": "stdout",
     "output_type": "stream",
     "text": [
      "Cantidad de registros distintos :  34  Cantidad de registros:  34 Cantidad de departamentos distintos:  34 Cantidad de código de departamentos distintos 28\n"
     ]
    }
   ],
   "source": [
    "print(\"Cantidad de registros distintos : \",pib.distinct().count(), \" Cantidad de registros: \",\n",
    "      pib.count(), \"Cantidad de departamentos distintos: \", pib.select(\"DEPARTAMENTOS\").distinct().count(), \n",
    "     \"Cantidad de código de departamentos distintos\", pib.select(\"codDepartamentoPib\").distinct().count())"
   ]
  },
  {
   "cell_type": "code",
   "execution_count": 135,
   "metadata": {},
   "outputs": [
    {
     "name": "stdout",
     "output_type": "stream",
     "text": [
      "+------------------+--------------------+--------+--------+--------------------+--------------------+--------+--------+--------------------+--------+--------+--------+--------+--------+--------+\n",
      "|codDepartamentoPib|       DEPARTAMENTOS|    2006|    2007|                2008|                2010|    2011|    2012|                2013|    2014|    2015|    2016|    2017|    2009|    2005|\n",
      "+------------------+--------------------+--------+--------+--------------------+--------------------+--------+--------+--------------------+--------+--------+--------+--------+--------+--------+\n",
      "|                47|        El Magdalena| 4202994| 4618524|   5293554.101685749|   6119382.927756879| 6441145| 6942728|   7530341.883201833| 7620221| 8285062| 9081224| 9488025| 5858657| 3938108|\n",
      "|                54|            norte de| 4562230| 5093601|   5756904.272168976|   6377160.081745004| 6845992| 7152319|   7716659.361075875| 8310220| 8890010| 9693223| 9984804| 6139384| 3928796|\n",
      "|                18|            CaquetÃ¡| 3575615| 4060678|   4519574.129383702|   5048396.606737779| 5516404| 6476778|    7161524.44383983| 7990249| 8401448| 9164641| 9639203| 4901195| 3306217|\n",
      "|                99|             Vichada| 4114080| 4091512|    4337203.79854487|   4285403.948100506| 4377994| 4639459|   4856888.325019439| 4733848| 5271600| 5586503| 5677781| 4390230| 3887315|\n",
      "|                27|           El ChocÃ³| 3314596| 3497940|  3822819.1728744935|   6317316.431162511| 7769706| 7400499|   6282262.504550394| 6291011| 7011686| 8146211| 7511347| 4690095| 3060247|\n",
      "|                25|        Cundinamarca|11046444|12259261|1.3547103387097966E7|1.4837915942552006E7|16105151|16789186|1.7283140677228298E7|17888991|18894518|20178863|20095677|14138511|10268544|\n",
      "|                 0|colombia tierra q...| 9049155|10045001|         1.1048217E7|         1.2340797E7|13893951|14810750|         1.5716824E7|16633298|17374741|18445011|19411357|11501714| 8109978|\n",
      "|                91|               amazX| 4169814| 4486342|   4807017.609841224|   5591516.361706729| 5969210| 6370295|   6803987.471579608| 7465703| 8186030| 8952717| 9455515| 5202908| 3830908|\n",
      "|                81|              Arauca|18229413|19918687|2.5942969067141943E7|2.2828948812142216E7|26788968|25755945| 2.419309132469341E7|21144781|18910019|16999992|17432051|22330062|16097955|\n",
      "|                13|             Bolivar| 7044660| 7956639|    8593127.45117461|   9624568.977941897|11153868|11869745| 1.318480716895266E7|13463342|14096587|15359019|16403989| 8702860| 6205737|\n",
      "|                41|                uila| 6895658| 7441987|   8686536.103258422|    9548624.85406653|11113741|11400169|1.1967750469189592E7|12755711|13006651|13682003|14008430| 8679324| 6451275|\n",
      "|                95|            Guaviare| 5133194| 5776380|   6071819.408264576|   6442355.180997506| 6570335| 7137782|    7617278.55224508| 8146529| 8759675| 9108939| 9412082| 6177281| 4759905|\n",
      "|                86|            Putumayo| 4883522| 5617663|   7107721.504297101|   9697260.687378583|11967934|12049913|1.4234561981335444E7|13936142|10618802| 9869727|10603129| 7872365| 4190375|\n",
      "|                 8|          AtlÃ¡ntico| 7194985| 8299825|   8858405.054387597|   9481200.322350295|10288314|11421539|1.2434114309437651E7|13681473|14921849|15893944|16559026| 9317808| 6388791|\n",
      "|                66|           Risaralda| 7174399| 7703890|   8322006.277038564|    9324849.19850393| 9890624|10557237|1.1593542382441336E7|12762046|13704944|14951359|15956983| 8873225| 6277539|\n",
      "|                73|           El Tolima| 6708554| 7681132|   8663628.979194354|   9114316.075288389|10283555|10931945|1.1593794372127226E7|12554593|13158216|14254326|15071622| 8719595| 5905371|\n",
      "|                23|            CÃ³rdoba| 4362011| 5186748|   5129321.435273318|   5503257.383173957| 5893042| 6439647|   6914460.222596752| 7555705| 7910948| 8405654| 8957509| 5235480| 3912903|\n",
      "|                 5|           ANTIOQUIA|10362481|11530203| 1.208473197289277E7|1.3099961280563224E7|14580906|15552451|1.6425657101736834E7|17607117|18817790|20289054|21021421|12444001| 9340469|\n",
      "|                91|         El amazonas| 4169814| 4486342|   4807017.609841224|   5591516.361706729| 5969210| 6370295|   6803987.471579608| 7465703| 8186030| 8952717| 9455515| 5202908| 3830908|\n",
      "|                54|EL NORTE DE SANTA...| 4562230| 5093601|   5756904.272168976|   6377160.081745004| 6845992| 7152319|   7716659.361075875| 8310220| 8890010| 9693223| 9984804| 6139384| 3928796|\n",
      "+------------------+--------------------+--------+--------+--------------------+--------------------+--------+--------+--------------------+--------+--------+--------+--------+--------+--------+\n",
      "only showing top 20 rows\n",
      "\n"
     ]
    }
   ],
   "source": [
    "pib.show()"
   ]
  },
  {
   "cell_type": "markdown",
   "metadata": {},
   "source": [
    "Al contar la cantidad de registros distintos y el total de registros en la tabla pib, el resultado es el mismo, sin embargo, se puede apreciar que en realidad si existen duplicados, ya que hay códigos de departamentos iguales, pero el nombre del departamente tiene variaciones, como por ejemplo <i>El amazonas</i> y <i>amazX</i>. <br>\n",
    "Por lo anterior, se procede a estandarizar los nombres de los departamentos, en donde primero se extraerán todos los nombres de departamentos que están mal escritos y se pondrán correctamente y en mayúscula"
   ]
  },
  {
   "cell_type": "code",
   "execution_count": 137,
   "metadata": {},
   "outputs": [
    {
     "name": "stdout",
     "output_type": "stream",
     "text": [
      "+------------------+--------------------+--------+--------+--------------------+--------------------+--------+--------+--------------------+--------+--------+--------+--------+--------+--------+\n",
      "|codDepartamentoPib|       DEPARTAMENTOS|    2006|    2007|                2008|                2010|    2011|    2012|                2013|    2014|    2015|    2016|    2017|    2009|    2005|\n",
      "+------------------+--------------------+--------+--------+--------------------+--------------------+--------+--------+--------------------+--------+--------+--------+--------+--------+--------+\n",
      "|                47|        El Magdalena| 4202994| 4618524|   5293554.101685749|   6119382.927756879| 6441145| 6942728|   7530341.883201833| 7620221| 8285062| 9081224| 9488025| 5858657| 3938108|\n",
      "|                54|EL NORTE DE SANTA...| 4562230| 5093601|   5756904.272168976|   6377160.081745004| 6845992| 7152319|   7716659.361075875| 8310220| 8890010| 9693223| 9984804| 6139384| 3928796|\n",
      "|                18|             CAQUETÁ| 3575615| 4060678|   4519574.129383702|   5048396.606737779| 5516404| 6476778|    7161524.44383983| 7990249| 8401448| 9164641| 9639203| 4901195| 3306217|\n",
      "|                99|             Vichada| 4114080| 4091512|    4337203.79854487|   4285403.948100506| 4377994| 4639459|   4856888.325019439| 4733848| 5271600| 5586503| 5677781| 4390230| 3887315|\n",
      "|                27|            EL CHOCÓ| 3314596| 3497940|  3822819.1728744935|   6317316.431162511| 7769706| 7400499|   6282262.504550394| 6291011| 7011686| 8146211| 7511347| 4690095| 3060247|\n",
      "|                25|        Cundinamarca|11046444|12259261|1.3547103387097966E7|1.4837915942552006E7|16105151|16789186|1.7283140677228298E7|17888991|18894518|20178863|20095677|14138511|10268544|\n",
      "|                 0|colombia tierra q...| 9049155|10045001|         1.1048217E7|         1.2340797E7|13893951|14810750|         1.5716824E7|16633298|17374741|18445011|19411357|11501714| 8109978|\n",
      "|                91|         EL AMAZONAS| 4169814| 4486342|   4807017.609841224|   5591516.361706729| 5969210| 6370295|   6803987.471579608| 7465703| 8186030| 8952717| 9455515| 5202908| 3830908|\n",
      "|                81|              Arauca|18229413|19918687|2.5942969067141943E7|2.2828948812142216E7|26788968|25755945| 2.419309132469341E7|21144781|18910019|16999992|17432051|22330062|16097955|\n",
      "|                13|             Bolivar| 7044660| 7956639|    8593127.45117461|   9624568.977941897|11153868|11869745| 1.318480716895266E7|13463342|14096587|15359019|16403989| 8702860| 6205737|\n",
      "|                41|               HUILA| 6895658| 7441987|   8686536.103258422|    9548624.85406653|11113741|11400169|1.1967750469189592E7|12755711|13006651|13682003|14008430| 8679324| 6451275|\n",
      "|                95|            Guaviare| 5133194| 5776380|   6071819.408264576|   6442355.180997506| 6570335| 7137782|    7617278.55224508| 8146529| 8759675| 9108939| 9412082| 6177281| 4759905|\n",
      "|                86|            Putumayo| 4883522| 5617663|   7107721.504297101|   9697260.687378583|11967934|12049913|1.4234561981335444E7|13936142|10618802| 9869727|10603129| 7872365| 4190375|\n",
      "|                 8|           ATLÁNTICO| 7194985| 8299825|   8858405.054387597|   9481200.322350295|10288314|11421539|1.2434114309437651E7|13681473|14921849|15893944|16559026| 9317808| 6388791|\n",
      "|                66|           Risaralda| 7174399| 7703890|   8322006.277038564|    9324849.19850393| 9890624|10557237|1.1593542382441336E7|12762046|13704944|14951359|15956983| 8873225| 6277539|\n",
      "|                73|           El Tolima| 6708554| 7681132|   8663628.979194354|   9114316.075288389|10283555|10931945|1.1593794372127226E7|12554593|13158216|14254326|15071622| 8719595| 5905371|\n",
      "|                23|             CÓRDOBA| 4362011| 5186748|   5129321.435273318|   5503257.383173957| 5893042| 6439647|   6914460.222596752| 7555705| 7910948| 8405654| 8957509| 5235480| 3912903|\n",
      "|                 5|           ANTIOQUIA|10362481|11530203| 1.208473197289277E7|1.3099961280563224E7|14580906|15552451|1.6425657101736834E7|17607117|18817790|20289054|21021421|12444001| 9340469|\n",
      "|                91|         El amazonas| 4169814| 4486342|   4807017.609841224|   5591516.361706729| 5969210| 6370295|   6803987.471579608| 7465703| 8186030| 8952717| 9455515| 5202908| 3830908|\n",
      "|                54|EL NORTE DE SANTA...| 4562230| 5093601|   5756904.272168976|   6377160.081745004| 6845992| 7152319|   7716659.361075875| 8310220| 8890010| 9693223| 9984804| 6139384| 3928796|\n",
      "+------------------+--------------------+--------+--------+--------------------+--------------------+--------+--------+--------------------+--------+--------+--------+--------+--------+--------+\n",
      "only showing top 20 rows\n",
      "\n"
     ]
    }
   ],
   "source": [
    "departamentosDic={'norte de':'EL NORTE DE SANTANDER',\n",
    "          'CaquetÃ¡':'CAQUETÁ',\n",
    "          'El ChocÃ³':'EL CHOCÓ', \n",
    "          'amazX': 'EL AMAZONAS', \n",
    "          'uila': 'HUILA',\n",
    "          'AtlÃ¡ntico': 'ATLÁNTICO',\n",
    "          'CÃ³rdoba': 'CÓRDOBA',\n",
    "          'CAQUETA': 'CAQUETÁ',\n",
    "          'ATLANTICO': 'ATLÁNTICO',\n",
    "          'VASANARE': 'CASANARE',\n",
    "          'QUINDIO': 'QUINDÍO',\n",
    "          'GUANIA': 'GUAINÍA',\n",
    "          'boyaca': 'BOYACÁ'\n",
    "         }\n",
    "#pib=pib.rdd.map(lambda x: \n",
    "#    (x.codDepartamentoPib, departamentosDic.get(x.DEPARTAMENTOS, x.DEPARTAMENTOS),x.2006,x.2007,x.2008,x.2010,x.2011,x.2012,x.2013,x.2014,x.2015,x.2016,x.2017,x.2009,x.2005) \n",
    "#    ).toDF([\"codDepartamentoPib\", \"DEPARTAMENTOS\" ,\"2006\" ,\"2007\" ,\"2008\" ,\"2010\" ,\"2011\" ,\"2012\" ,\"2013\" ,\"2014\" ,\"2015\" ,\"2016\" ,\"2017\" ,\"2009\" ,\"2005\"])\n",
    "pib = pib.withColumn('DEPARTAMENTOS', f.udf(lambda dep: departamentosDic.get(dep, dep))(f.col('DEPARTAMENTOS')))\n",
    "pib.show()"
   ]
  },
  {
   "cell_type": "markdown",
   "metadata": {},
   "source": [
    "Ahora que los nombres de los departamentos ya no tienen errores ortográficos, se procederá a poner todos los nombres en mayúsculas"
   ]
  },
  {
   "cell_type": "code",
   "execution_count": 139,
   "metadata": {},
   "outputs": [
    {
     "data": {
      "text/plain": [
       "31"
      ]
     },
     "execution_count": 139,
     "metadata": {},
     "output_type": "execute_result"
    }
   ],
   "source": [
    "pib.select(\"DEPARTAMENTOS\").distinct().count()"
   ]
  },
  {
   "cell_type": "markdown",
   "metadata": {},
   "source": [
    "Existen menos departamentos distintos, por lo que ya se van haciendo evidentes los duplicados."
   ]
  },
  {
   "cell_type": "code",
   "execution_count": 140,
   "metadata": {},
   "outputs": [
    {
     "name": "stdout",
     "output_type": "stream",
     "text": [
      "+------------------+--------------------+--------+--------+--------------------+--------------------+--------+--------+--------------------+--------+--------+--------+--------+--------+--------+\n",
      "|codDepartamentoPib|       DEPARTAMENTOS|    2006|    2007|                2008|                2010|    2011|    2012|                2013|    2014|    2015|    2016|    2017|    2009|    2005|\n",
      "+------------------+--------------------+--------+--------+--------------------+--------------------+--------+--------+--------------------+--------+--------+--------+--------+--------+--------+\n",
      "|                47|        EL MAGDALENA| 4202994| 4618524|   5293554.101685749|   6119382.927756879| 6441145| 6942728|   7530341.883201833| 7620221| 8285062| 9081224| 9488025| 5858657| 3938108|\n",
      "|                54|EL NORTE DE SANTA...| 4562230| 5093601|   5756904.272168976|   6377160.081745004| 6845992| 7152319|   7716659.361075875| 8310220| 8890010| 9693223| 9984804| 6139384| 3928796|\n",
      "|                18|             CAQUETÁ| 3575615| 4060678|   4519574.129383702|   5048396.606737779| 5516404| 6476778|    7161524.44383983| 7990249| 8401448| 9164641| 9639203| 4901195| 3306217|\n",
      "|                99|             VICHADA| 4114080| 4091512|    4337203.79854487|   4285403.948100506| 4377994| 4639459|   4856888.325019439| 4733848| 5271600| 5586503| 5677781| 4390230| 3887315|\n",
      "|                27|            EL CHOCÓ| 3314596| 3497940|  3822819.1728744935|   6317316.431162511| 7769706| 7400499|   6282262.504550394| 6291011| 7011686| 8146211| 7511347| 4690095| 3060247|\n",
      "|                25|        CUNDINAMARCA|11046444|12259261|1.3547103387097966E7|1.4837915942552006E7|16105151|16789186|1.7283140677228298E7|17888991|18894518|20178863|20095677|14138511|10268544|\n",
      "|                 0|COLOMBIA TIERRA Q...| 9049155|10045001|         1.1048217E7|         1.2340797E7|13893951|14810750|         1.5716824E7|16633298|17374741|18445011|19411357|11501714| 8109978|\n",
      "|                91|         EL AMAZONAS| 4169814| 4486342|   4807017.609841224|   5591516.361706729| 5969210| 6370295|   6803987.471579608| 7465703| 8186030| 8952717| 9455515| 5202908| 3830908|\n",
      "|                81|              ARAUCA|18229413|19918687|2.5942969067141943E7|2.2828948812142216E7|26788968|25755945| 2.419309132469341E7|21144781|18910019|16999992|17432051|22330062|16097955|\n",
      "|                13|             BOLIVAR| 7044660| 7956639|    8593127.45117461|   9624568.977941897|11153868|11869745| 1.318480716895266E7|13463342|14096587|15359019|16403989| 8702860| 6205737|\n",
      "+------------------+--------------------+--------+--------+--------------------+--------------------+--------+--------+--------------------+--------+--------+--------+--------+--------+--------+\n",
      "only showing top 10 rows\n",
      "\n"
     ]
    }
   ],
   "source": [
    "pib = pib.withColumn(\"DEPARTAMENTOS\", f.upper(\"DEPARTAMENTOS\"))\n",
    "pib.show(10)"
   ]
  },
  {
   "cell_type": "code",
   "execution_count": 142,
   "metadata": {},
   "outputs": [
    {
     "name": "stdout",
     "output_type": "stream",
     "text": [
      "Código de departamentos distintos:  28 Cantidad de departamentos diferentes:  29\n"
     ]
    }
   ],
   "source": [
    "print(\"Código de departamentos distintos: \", pib.select(\"codDepartamentoPib\").distinct().count(), \"Cantidad de departamentos diferentes: \", pib.select(\"DEPARTAMENTOS\").distinct().count())"
   ]
  },
  {
   "cell_type": "markdown",
   "metadata": {},
   "source": [
    "Como se puede evidenciar previamente, la cantidad de códigos distintos y de nombre de departamentos difiere en 1, la razón de esto es porque hay 2 códigos de departaments que están asignados a 2 nombres de departamentos, pero estos en realidad no son nombres de departamentos, el código de departamento 0 tiene asociado a colombia tierra querida y a Republica de Colombia como se puede apreciar a continuación"
   ]
  },
  {
   "cell_type": "code",
   "execution_count": 143,
   "metadata": {},
   "outputs": [
    {
     "name": "stdout",
     "output_type": "stream",
     "text": [
      "+------------------+--------------------+\n",
      "|codDepartamentoPib|       DEPARTAMENTOS|\n",
      "+------------------+--------------------+\n",
      "|                 0|COLOMBIA TIERRA Q...|\n",
      "|                 0|REPUBLICA DE COLO...|\n",
      "+------------------+--------------------+\n",
      "\n"
     ]
    }
   ],
   "source": [
    "pib.select(\"codDepartamentoPib\", \"DEPARTAMENTOS\").where(col(\"codDepartamentoPib\") == 0).show()"
   ]
  },
  {
   "cell_type": "markdown",
   "metadata": {},
   "source": [
    "Se procede a no tener en cuenta los código de departamento con valor cero"
   ]
  },
  {
   "cell_type": "code",
   "execution_count": 144,
   "metadata": {},
   "outputs": [],
   "source": [
    "pib = pib.where(col(\"codDepartamentoPib\") != 0)"
   ]
  },
  {
   "cell_type": "code",
   "execution_count": 145,
   "metadata": {},
   "outputs": [
    {
     "name": "stdout",
     "output_type": "stream",
     "text": [
      "Código de departamentos distintos:  27 Cantidad de departamentos diferentes:  27\n"
     ]
    }
   ],
   "source": [
    "print(\"Código de departamentos distintos: \", pib.select(\"codDepartamentoPib\").distinct().count(), \"Cantidad de departamentos diferentes: \", pib.select(\"DEPARTAMENTOS\").distinct().count())"
   ]
  },
  {
   "cell_type": "code",
   "execution_count": 146,
   "metadata": {},
   "outputs": [
    {
     "data": {
      "text/plain": [
       "(27, 27)"
      ]
     },
     "execution_count": 146,
     "metadata": {},
     "output_type": "execute_result"
    }
   ],
   "source": [
    "pib.select(\"codDepartamentoPib\").distinct().count(), pib.select(\"DEPARTAMENTOS\").distinct().count()"
   ]
  },
  {
   "cell_type": "markdown",
   "metadata": {},
   "source": [
    "Ahora sí se puede apreciar que se tienen la misma cantidad de códigos de departamentos y de códigos, pero esto no significa que no existan duplicados, hasta el momento ya se ha estandarizado la información, por lo que es viable eliminar los duplicados, si hacemos un conteo de la cantidad de registros, se observa que existen 32, en Colombia hay 32 departamentos, pero en este caso, hay algunos duplicados"
   ]
  },
  {
   "cell_type": "code",
   "execution_count": 147,
   "metadata": {},
   "outputs": [
    {
     "data": {
      "text/plain": [
       "32"
      ]
     },
     "execution_count": 147,
     "metadata": {},
     "output_type": "execute_result"
    }
   ],
   "source": [
    "pib.count()"
   ]
  },
  {
   "cell_type": "code",
   "execution_count": 148,
   "metadata": {},
   "outputs": [
    {
     "data": {
      "text/plain": [
       "27"
      ]
     },
     "execution_count": 148,
     "metadata": {},
     "output_type": "execute_result"
    }
   ],
   "source": [
    "pib = pib.drop_duplicates()\n",
    "pib.count()"
   ]
  },
  {
   "cell_type": "markdown",
   "metadata": {},
   "source": [
    "Como se puede ver, ya no existen registros duplicados en pib"
   ]
  },
  {
   "cell_type": "markdown",
   "metadata": {},
   "source": [
    "#### divipola\n",
    "El campo NombreAreaMetropolitana contiene bastantes valores desconocidos o nulos, por este motivo se le asignarán a los valores null la cadena 'desconocido'"
   ]
  },
  {
   "cell_type": "code",
   "execution_count": 161,
   "metadata": {},
   "outputs": [
    {
     "name": "stdout",
     "output_type": "stream",
     "text": [
      "Registros nulos:  7394  Nobre de áreas metropolitana distintos:  7\n"
     ]
    }
   ],
   "source": [
    "cantidadNulos = divipola.filter(divipola[\"NombreAreaMetropolitana\"].isNull()).count()\n",
    "cantidadDistintos = divipola.select(\"NombreAreaMetropolitana\").distinct().count()\n",
    "print(\"Registros nulos: \", cantidadNulos, \" Nobre de áreas metropolitana distintos: \", cantidadDistintos)"
   ]
  },
  {
   "cell_type": "code",
   "execution_count": 163,
   "metadata": {},
   "outputs": [
    {
     "name": "stdout",
     "output_type": "stream",
     "text": [
      "+-----------------------+-----+\n",
      "|NombreAreaMetropolitana|count|\n",
      "+-----------------------+-----+\n",
      "|   AREA METROPOLITAN...|   64|\n",
      "|   AREA METROPOLITAN...|   60|\n",
      "|   AREA METROPOLITAN...|  128|\n",
      "|                   null| 7394|\n",
      "|   AREA METROPOLITAN...|   44|\n",
      "|   AREA METROPOLITAN...|   11|\n",
      "|   AREA METROPOLITAN...|   93|\n",
      "+-----------------------+-----+\n",
      "\n"
     ]
    }
   ],
   "source": [
    "divipola.groupBy(\"NombreAreaMetropolitana\").count().show()"
   ]
  },
  {
   "cell_type": "markdown",
   "metadata": {},
   "source": [
    "Se puede observar la cantidad de registros que existen con cada nombre de área metropolitana y la cantidad de nulos que conincide con el distinct ejecutado en el paso previo, esto es importante para poder ver que al convertir los nulos en el valor <i>desconocido</i> no se vayan a perder datos"
   ]
  },
  {
   "cell_type": "markdown",
   "metadata": {},
   "source": [
    "Nos podemos dar cuenta que existen 7394 registros vacíos y solo 7 nombre de área metropolitana diferentes."
   ]
  },
  {
   "cell_type": "code",
   "execution_count": 168,
   "metadata": {},
   "outputs": [
    {
     "name": "stdout",
     "output_type": "stream",
     "text": [
      "+------------------+---------------+------------------+---------------+-----------------------+--------------+--------------+\n",
      "|CodigoDepartamento|CodigoMunicipio|NombreDepartamento|NombreMunicipio|NombreAreaMetropolitana|      Longitud|       Latitud|\n",
      "+------------------+---------------+------------------+---------------+-----------------------+--------------+--------------+\n",
      "|                91|          91001|          amazonas|        LETICIA|            desconocido|-69.9414267076|-4.19983693453|\n",
      "|                91|          91001|          amazonas|        LETICIA|            desconocido|-69.9588125704|-4.19469878932|\n",
      "|                91|          91001|          amazonas|        LETICIA|            desconocido|-69.9753934295|-4.17750342085|\n",
      "|                91|          91001|          amazonas|        LETICIA|            desconocido|-69.9288659026|-4.17628953753|\n",
      "|                91|          91001|          amazonas|        LETICIA|            desconocido|-69.9582013552|-4.15376330453|\n",
      "|                91|          91001|          amazonas|        LETICIA|            desconocido|-69.9677815964|-4.15278709135|\n",
      "|                91|          91001|          amazonas|        LETICIA|            desconocido|-69.9560161735|-4.14474198026|\n",
      "|                91|          91001|          amazonas|        LETICIA|            desconocido|-69.9269763785|-4.14403692257|\n",
      "|                91|          91001|          amazonas|        LETICIA|            desconocido|-69.9826625129|-4.13294558377|\n",
      "|                91|          91001|          amazonas|        LETICIA|            desconocido|-69.9478546236|-4.11998678746|\n",
      "+------------------+---------------+------------------+---------------+-----------------------+--------------+--------------+\n",
      "only showing top 10 rows\n",
      "\n"
     ]
    }
   ],
   "source": [
    "divipola = divipola.withColumn('NombreAreaMetropolitana', f.when(col('NombreAreaMetropolitana') != \"null\",col('NombreAreaMetropolitana')).otherwise('desconocido')) \n",
    "divipola.show(10)"
   ]
  },
  {
   "cell_type": "code",
   "execution_count": 169,
   "metadata": {},
   "outputs": [
    {
     "name": "stdout",
     "output_type": "stream",
     "text": [
      "Registros nulos:  0  Nobre de áreas metropolitana distintos:  7\n"
     ]
    }
   ],
   "source": [
    "cantidadNulos = divipola.filter(divipola[\"NombreAreaMetropolitana\"].isNull()).count()\n",
    "cantidadDistintos = divipola.select(\"NombreAreaMetropolitana\").distinct().count()\n",
    "print(\"Registros nulos: \", cantidadNulos, \" Nobre de áreas metropolitana distintos: \", cantidadDistintos)"
   ]
  },
  {
   "cell_type": "code",
   "execution_count": 170,
   "metadata": {},
   "outputs": [
    {
     "name": "stdout",
     "output_type": "stream",
     "text": [
      "+-----------------------+-----+\n",
      "|NombreAreaMetropolitana|count|\n",
      "+-----------------------+-----+\n",
      "|   AREA METROPOLITAN...|   64|\n",
      "|   AREA METROPOLITAN...|   60|\n",
      "|            desconocido| 7394|\n",
      "|   AREA METROPOLITAN...|  128|\n",
      "|   AREA METROPOLITAN...|   44|\n",
      "|   AREA METROPOLITAN...|   11|\n",
      "|   AREA METROPOLITAN...|   93|\n",
      "+-----------------------+-----+\n",
      "\n"
     ]
    }
   ],
   "source": [
    "divipola.groupBy(\"NombreAreaMetropolitana\").count().show()"
   ]
  },
  {
   "cell_type": "markdown",
   "metadata": {},
   "source": [
    "Nos podemos dar cuenta que solo los valores nulos se han cambiado por la palabra **desconodido**, los nombres de áreas metropolitanas continúan intactos"
   ]
  },
  {
   "cell_type": "markdown",
   "metadata": {},
   "source": [
    "**Obtener información de aeropuerto para la ubicación**"
   ]
  },
  {
   "cell_type": "markdown",
   "metadata": {},
   "source": [
    "Para tener certeza de la ubicación exacta del municipio del aeropuerto, se procede a comparar la longitud y latitud de los aeropuertos con los centros poblados"
   ]
  },
  {
   "cell_type": "code",
   "execution_count": 214,
   "metadata": {},
   "outputs": [
    {
     "name": "stdout",
     "output_type": "stream",
     "text": [
      "Total de aeropuertos distintos registrados:  595  total de municipios diferentes:  241\n"
     ]
    }
   ],
   "source": [
    "totalAeropuertos = aeropuertos.select(\"*\").count() \n",
    "totalMunicipiosDiferentes = aeropuertos.select(\"CodigoMunicipio\").distinct().count()\n",
    "print(\"Total de aeropuertos distintos registrados: \", totalAeropuertos, \" total de municipios diferentes: \", totalMunicipiosDiferentes)"
   ]
  },
  {
   "cell_type": "code",
   "execution_count": 203,
   "metadata": {},
   "outputs": [
    {
     "name": "stdout",
     "output_type": "stream",
     "text": [
      "Cantidad de registros nulos para la longitud:  0 Cantidad de registros nulos para la longitud:  0\n"
     ]
    }
   ],
   "source": [
    "cantidadNulosLa = aeropuertos.filter(aeropuertos[\"latitud\"].isNull()).count()\n",
    "cantidadNulosLon = aeropuertos.filter(aeropuertos[\"longitud\"].isNull()).count()\n",
    "print(\"Cantidad de registros nulos para la longitud: \", cantidadNulosLa, \"Cantidad de registros nulos para la longitud: \", cantidadNulosLon)"
   ]
  },
  {
   "cell_type": "markdown",
   "metadata": {},
   "source": [
    "Los campos de longitud y latitud no poseen registros nulos"
   ]
  },
  {
   "cell_type": "code",
   "execution_count": 262,
   "metadata": {},
   "outputs": [
    {
     "name": "stdout",
     "output_type": "stream",
     "text": [
      "+----------------+---------------+--------------------+-----------------------+-----------+---------+-----+\n",
      "|gcd_departamento|CodigoMunicipio|     NombreMunicipio|NombreAreaMetropolitana|   longitud|  latitud|count|\n",
      "+----------------+---------------+--------------------+-----------------------+-----------+---------+-----+\n",
      "|              68|          68575|      PUERTO WILCHES|            desconocido|   -73.7965|   7.3283|   22|\n",
      "|              68|          68575|      PUERTO WILCHES|            desconocido|   -73.8151|   7.2417|   22|\n",
      "|              68|          68575|      PUERTO WILCHES|            desconocido|   -73.7464|    7.462|   22|\n",
      "|              68|          68575|      PUERTO WILCHES|            desconocido|   -73.7723|   7.2466|   22|\n",
      "|              68|          68575|      PUERTO WILCHES|            desconocido|   -73.7464|   7.4614|   22|\n",
      "|              68|          68575|      PUERTO WILCHES|            desconocido|-73.8928278|7.3479944|   22|\n",
      "|              13|          13468|SANTA CRUZ DE MOMPOX|            desconocido|   -74.4383|   9.2583|   24|\n",
      "|               5|           5847|               URRAO|            desconocido|   -76.1409|   6.3273|    3|\n",
      "|              73|          73547|             PIEDRAS|            desconocido|   -74.9003|   4.5575|    5|\n",
      "|              99|          99624|       SANTA ROSALÍA|            desconocido|   -70.6337|   5.2897|    2|\n",
      "+----------------+---------------+--------------------+-----------------------+-----------+---------+-----+\n",
      "only showing top 10 rows\n",
      "\n"
     ]
    }
   ],
   "source": [
    "joinAerDivi = aeropuertos.alias('a').join(divipola.alias('div'), how = 'left', on = 'CodigoMunicipio')\n",
    "geografia = joinAerDivi.select(\"gcd_departamento\", \"CodigoMunicipio\", \"NombreMunicipio\", \"NombreAreaMetropolitana\", \"a.longitud\", \"a.latitud\").groupBy(\"gcd_departamento\", \"CodigoMunicipio\", \"NombreMunicipio\", \"NombreAreaMetropolitana\", \"a.longitud\", \"a.latitud\").count()\n",
    "geografia.show(10)"
   ]
  },
  {
   "cell_type": "markdown",
   "metadata": {},
   "source": [
    "Como se puede apreciar, se realiza un join entre la tabla de aeropuertos y divipola con el objetivo de obtener la información relacionada al código del departamento, código del municipio, el nombre del área metropolitana, la longitud y latitud del aeropuerto, esto se logra por medio del agrupamieto de estos campos, gracias a esto se puede obtener la longitud y latitud exactas de cada aeropuerto sin importar que en un municipio existan varios aeropuertos"
   ]
  },
  {
   "cell_type": "code",
   "execution_count": 263,
   "metadata": {},
   "outputs": [
    {
     "data": {
      "text/plain": [
       "(595, 241)"
      ]
     },
     "execution_count": 263,
     "metadata": {},
     "output_type": "execute_result"
    }
   ],
   "source": [
    "geografia.count(), geografia.select(\"CodigoMunicipio\").distinct().count()"
   ]
  },
  {
   "cell_type": "markdown",
   "metadata": {},
   "source": [
    "La cantidad de registros es de 595 para geografía y de municipios distintos sigue siendo 241, esto es congruente con la cantidad de aeropuertos y municipios distintos que se recuperó de base de datos, como se mostró en un paso previo."
   ]
  },
  {
   "cell_type": "markdown",
   "metadata": {},
   "source": [
    "#### proyecciones"
   ]
  },
  {
   "cell_type": "markdown",
   "metadata": {},
   "source": [
    "Se procederá a realizar las imputaciones sobre proyecciones las cuales corresponden a imputar el total de mujeres para el valor máximo y a eliminar los duplicados de la tabla"
   ]
  },
  {
   "cell_type": "code",
   "execution_count": 231,
   "metadata": {},
   "outputs": [
    {
     "data": {
      "text/plain": [
       "1287"
      ]
     },
     "execution_count": 231,
     "metadata": {},
     "output_type": "execute_result"
    }
   ],
   "source": [
    "proyecciones.count()"
   ]
  },
  {
   "cell_type": "markdown",
   "metadata": {},
   "source": [
    "En la base de datos proyectoTransaccional existen 2574 registros, con el resultado anterior, se puede ver que al traer la información de la tabla proyecciones haciendo uso de distinct, los registros ya no vienen duplicados"
   ]
  },
  {
   "cell_type": "code",
   "execution_count": 249,
   "metadata": {},
   "outputs": [
    {
     "name": "stdout",
     "output_type": "stream",
     "text": [
      "+---+----+-------------+-------------+\n",
      "| DP| AÑO|Total Hombres|Total Mujeres|\n",
      "+---+----+-------------+-------------+\n",
      "| 99|2009|        47300|     55000000|\n",
      "| 11|2017|      3511579|      3825870|\n",
      "| 11|2017|      3499357|      3813887|\n",
      "| 11|2016|      3495609|      3805309|\n",
      "| 11|2016|      3483805|      3793738|\n",
      "| 11|2015|      3484883|      3788382|\n",
      "| 11|2015|      3473470|      3777205|\n",
      "| 11|2014|      3476538|      3776411|\n",
      "| 11|2014|      3465493|      3765604|\n",
      "| 11|2013|      3466060|      3762367|\n",
      "+---+----+-------------+-------------+\n",
      "only showing top 10 rows\n",
      "\n"
     ]
    }
   ],
   "source": [
    "proyecciones = proyecciones.orderBy(col(\"Total Mujeres\").desc())\n",
    "proyecciones.show(10)"
   ]
  },
  {
   "cell_type": "markdown",
   "metadata": {},
   "source": [
    "Imputar el valor máximo de total mujeres"
   ]
  },
  {
   "cell_type": "code",
   "execution_count": 250,
   "metadata": {},
   "outputs": [
    {
     "data": {
      "text/plain": [
       "Row(Total Mujeres=55000000)"
      ]
     },
     "execution_count": 250,
     "metadata": {},
     "output_type": "execute_result"
    }
   ],
   "source": [
    "proyecciones.select('Total Mujeres').sort(col(\"Total Mujeres\").desc()).collect()[0]"
   ]
  },
  {
   "cell_type": "code",
   "execution_count": 252,
   "metadata": {},
   "outputs": [
    {
     "name": "stdout",
     "output_type": "stream",
     "text": [
      "+---+----+-------------+-------------+\n",
      "| DP| AÑO|Total Hombres|Total Mujeres|\n",
      "+---+----+-------------+-------------+\n",
      "| 99|2009|        47300|        39691|\n",
      "| 11|2017|      3511579|      3825870|\n",
      "| 11|2017|      3499357|      3813887|\n",
      "| 11|2016|      3495609|      3805309|\n",
      "| 11|2016|      3483805|      3793738|\n",
      "| 11|2015|      3484883|      3788382|\n",
      "| 11|2015|      3473470|      3777205|\n",
      "| 11|2014|      3476538|      3776411|\n",
      "| 11|2014|      3465493|      3765604|\n",
      "| 11|2013|      3466060|      3762367|\n",
      "+---+----+-------------+-------------+\n",
      "only showing top 10 rows\n",
      "\n"
     ]
    }
   ],
   "source": [
    "proyeccionesConImputacion = proyecciones.replace( 55000000, 39691, 'Total Mujeres')\n",
    "proyeccionesConImputacion.show(10)"
   ]
  },
  {
   "cell_type": "code",
   "execution_count": 253,
   "metadata": {},
   "outputs": [
    {
     "data": {
      "text/plain": [
       "1287"
      ]
     },
     "execution_count": 253,
     "metadata": {},
     "output_type": "execute_result"
    }
   ],
   "source": [
    "proyeccionesConImputacion.count()"
   ]
  },
  {
   "cell_type": "markdown",
   "metadata": {},
   "source": [
    "El valor 39691 se obtiene de la resta entre 86991 y 47300, el primero es del campo total que dio en el registro con el total de mujeres más alto, y el segundo es el total de hombres, también se puede observar que la cantidad de registros para proyecciones sigue siendo 1287"
   ]
  },
  {
   "cell_type": "markdown",
   "metadata": {},
   "source": [
    "#### Integración\n",
    "Se procederá a realizar la integración entre los datos obtenidos de proyecciones, pib y la información de geografía obtenida de la tabla divipola y aeropuertos, esta última principalmente para la longitud y latitud"
   ]
  },
  {
   "cell_type": "code",
   "execution_count": 276,
   "metadata": {},
   "outputs": [
    {
     "name": "stdout",
     "output_type": "stream",
     "text": [
      "+---+----+------------+------------+\n",
      "| DP|anio|totalHombres|totalMujeres|\n",
      "+---+----+------------+------------+\n",
      "| 99|2009|       47300|       39691|\n",
      "| 11|2017|     3511579|     3825870|\n",
      "| 11|2017|     3499357|     3813887|\n",
      "| 11|2016|     3495609|     3805309|\n",
      "| 11|2016|     3483805|     3793738|\n",
      "| 11|2015|     3484883|     3788382|\n",
      "| 11|2015|     3473470|     3777205|\n",
      "| 11|2014|     3476538|     3776411|\n",
      "| 11|2014|     3465493|     3765604|\n",
      "| 11|2013|     3466060|     3762367|\n",
      "+---+----+------------+------------+\n",
      "only showing top 10 rows\n",
      "\n"
     ]
    }
   ],
   "source": [
    "proyeccionesModificadoCampo = proyeccionesConImputacion.withColumnRenamed('AÑO','anio') \\\n",
    "                    .withColumnRenamed('Total Hombres','totalHombres') \\\n",
    "                    .withColumnRenamed('Total Mujeres','totalMujeres')\n",
    "proyeccionesModificadoCampo.show(10)"
   ]
  },
  {
   "cell_type": "code",
   "execution_count": 293,
   "metadata": {},
   "outputs": [
    {
     "name": "stdout",
     "output_type": "stream",
     "text": [
      "+---------------+---------------+-------------+-----------------------+--------+-------+------------+------------+----+\n",
      "|CodigoMunicipio|NombreMunicipio|DEPARTAMENTOS|NombreAreaMetropolitana|longitud|latitud|totalHombres|totalMujeres|anio|\n",
      "+---------------+---------------+-------------+-----------------------+--------+-------+------------+------------+----+\n",
      "|           5847|          URRAO|    ANTIOQUIA|            desconocido|-76.1409| 6.3273|     1893416|     2143679|2005|\n",
      "|           5847|          URRAO|    ANTIOQUIA|            desconocido|-76.1409| 6.3273|      737371|      686377|2005|\n",
      "|           5847|          URRAO|    ANTIOQUIA|            desconocido|-76.1409| 6.3273|     2630787|     2830056|2005|\n",
      "|           5847|          URRAO|    ANTIOQUIA|            desconocido|-76.1409| 6.3273|     1927511|     2178637|2006|\n",
      "|           5847|          URRAO|    ANTIOQUIA|            desconocido|-76.1409| 6.3273|      736446|      685527|2006|\n",
      "|           5847|          URRAO|    ANTIOQUIA|            desconocido|-76.1409| 6.3273|     2663957|     2864164|2006|\n",
      "|           5847|          URRAO|    ANTIOQUIA|            desconocido|-76.1409| 6.3273|     1961613|     2213213|2007|\n",
      "|           5847|          URRAO|    ANTIOQUIA|            desconocido|-76.1409| 6.3273|      735589|      684765|2007|\n",
      "|           5847|          URRAO|    ANTIOQUIA|            desconocido|-76.1409| 6.3273|     2697202|     2897978|2007|\n",
      "|           5847|          URRAO|    ANTIOQUIA|            desconocido|-76.1409| 6.3273|     1995677|     2247517|2008|\n",
      "|           5847|          URRAO|    ANTIOQUIA|            desconocido|-76.1409| 6.3273|      734828|      684077|2008|\n",
      "|           5847|          URRAO|    ANTIOQUIA|            desconocido|-76.1409| 6.3273|     2730505|     2931594|2008|\n",
      "|           5847|          URRAO|    ANTIOQUIA|            desconocido|-76.1409| 6.3273|     2029876|     2282472|2009|\n",
      "|           5847|          URRAO|    ANTIOQUIA|            desconocido|-76.1409| 6.3273|      734359|      683670|2009|\n",
      "|           5847|          URRAO|    ANTIOQUIA|            desconocido|-76.1409| 6.3273|     2764235|     2966142|2009|\n",
      "|           5847|          URRAO|    ANTIOQUIA|            desconocido|-76.1409| 6.3273|     2064578|     2317869|2010|\n",
      "|           5847|          URRAO|    ANTIOQUIA|            desconocido|-76.1409| 6.3273|      734179|      683534|2010|\n",
      "|           5847|          URRAO|    ANTIOQUIA|            desconocido|-76.1409| 6.3273|     2798757|     3001403|2010|\n",
      "|           5847|          URRAO|    ANTIOQUIA|            desconocido|-76.1409| 6.3273|     2099221|     2352520|2011|\n",
      "|           5847|          URRAO|    ANTIOQUIA|            desconocido|-76.1409| 6.3273|      734024|      683426|2011|\n",
      "+---------------+---------------+-------------+-----------------------+--------+-------+------------+------------+----+\n",
      "only showing top 20 rows\n",
      "\n"
     ]
    }
   ],
   "source": [
    "#proyeccionesConImputacion = proyeccionesConImputacion.withColumnRenamed('DP','CodigoDepartamento')\n",
    "#geografia = geografia.withColumnRenamed('gcd_departamento','CodigoDepartamento')\n",
    "#pib\n",
    "GeografiaConDemografia = geografia.alias('g').join(pib.alias('pib'), geografia.gcd_departamento == pib.codDepartamentoPib,'left')\\\n",
    "                    .join(proyeccionesModificadoCampo.alias('pro'), pib.codDepartamentoPib == proyeccionesModificadoCampo.DP,'left') \\\n",
    "                    .select([col('g.CodigoMunicipio'),col('g.NombreMunicipio'),col('pib.DEPARTAMENTOS'),\n",
    "                             col('g.NombreAreaMetropolitana'),col('g.longitud'),col('g.latitud'),\n",
    "                             col('pro.totalHombres'),col('pro.totalMujeres'), col('pro.anio')]) \\\n",
    "                    .fillna({'DEPARTAMENTOS': 'desconocido'})\n",
    "GeografiaConDemografia.show()"
   ]
  },
  {
   "cell_type": "code",
   "execution_count": 314,
   "metadata": {},
   "outputs": [
    {
     "name": "stdout",
     "output_type": "stream",
     "text": [
      "{'SANTANDER': [11318386, 12762161, 14545114.37228981, 16392991.177437823, 18726378, 19764532, 21093453.800777685, 24482373, 24796146, 26029905, 27702140, 14433162, 9951651], 'CÓRDOBA': [4362011, 5186748, 5129321.435273318, 5503257.383173957, 5893042, 6439647, 6914460.222596752, 7555705, 7910948, 8405654, 8957509, 5235480, 3912903], 'EL MAGDALENA': [4202994, 4618524, 5293554.101685749, 6119382.927756879, 6441145, 6942728, 7530341.883201833, 7620221, 8285062, 9081224, 9488025, 5858657, 3938108], 'BOYACÁ': [8046451, 9523137, 11059677.686639624, 12422311.92528656, 14744101, 15572164, 16401817.15011036, 17552741, 18575739, 19726304, 20520809, 11433547, 7211579], 'EL AMAZONAS': [4169814, 4486342, 4807017.609841224, 5591516.361706729, 5969210, 6370295, 6803987.471579608, 7465703, 8186030, 8952717, 9455515, 5202908, 3830908], 'CASANARE': [24864712, 23554324, 28528736.36597076, 28892100.448943723, 39124122, 41847958, 43845228.45779656, 42843277, 33571338, 28911791, 31964165, 25845154, 24123828], 'EL NORTE DE SANTANDER': [4562230, 5093601, 5756904.272168976, 6377160.081745004, 6845992, 7152319, 7716659.361075875, 8310220, 8890010, 9693223, 9984804, 6139384, 3928796], 'EL TOLIMA': [6708554, 7681132, 8663628.979194354, 9114316.075288389, 10283555, 10931945, 11593794.372127226, 12554593, 13158216, 14254326, 15071622, 8719595, 5905371], 'GUAVIARE': [5133194, 5776380, 6071819.408264576, 6442355.180997506, 6570335, 7137782, 7617278.55224508, 8146529, 8759675, 9108939, 9412082, 6177281, 4759905], 'GUAINÍA': [4655932, 4553399, 4854812.196886142, 5337184.1303263, 5423605, 5889341, 6342338.479623697, 6550834, 7098587, 7419490, 7319487, 5076118, 4134059], 'VICHADA': [4114080, 4091512, 4337203.79854487, 4285403.948100506, 4377994, 4639459, 4856888.325019439, 4733848, 5271600, 5586503, 5677781, 4390230, 3887315], 'ANTIOQUIA': [10362481, 11530203, 12084731.97289277, 13099961.280563224, 14580906, 15552451, 16425657.101736834, 17607117, 18817790, 20289054, 21021421, 12444001, 9340469], 'CAQUETÁ': [3575615, 4060678, 4519574.129383702, 5048396.606737779, 5516404, 6476778, 7161524.44383983, 7990249, 8401448, 9164641, 9639203, 4901195, 3306217], 'CALDAS': [6934270, 7682864, 8282623.389774731, 8962648.929718789, 9499869, 9917777, 10684153.263749927, 11718627, 12712322, 13977005, 14877999, 8485412, 6036872], 'ATLÁNTICO': [7194985, 8299825, 8858405.054387597, 9481200.322350295, 10288314, 11421539, 12434114.309437651, 13681473, 14921849, 15893944, 16559026, 9317808, 6388791], 'CUNDINAMARCA': [11046444, 12259261, 13547103.387097966, 14837915.942552006, 16105151, 16789186, 17283140.677228298, 17888991, 18894518, 20178863, 20095677, 14138511, 10268544], 'EL CHOCÓ': [3314596, 3497940, 3822819.1728744935, 6317316.431162511, 7769706, 7400499, 6282262.504550394, 6291011, 7011686, 8146211, 7511347, 4690095, 3060247], 'LA GUAJIRA': [7204102, 7342993, 9388252.122098325, 9587598.465312555, 10937733, 11229423, 10625059.37785779, 10629004, 10790562, 11477178, 12747584, 9608067, 6503249], 'ARAUCA': [18229413, 19918687, 25942969.067141943, 22828948.812142216, 26788968, 25755945, 24193091.32469341, 21144781, 18910019, 16999992, 17432051, 22330062, 16097955], 'HUILA': [6895658, 7441987, 8686536.103258422, 9548624.85406653, 11113741, 11400169, 11967750.469189592, 12755711, 13006651, 13682003, 14008430, 8679324, 6451275], 'SUCRE': [3481809, 3947168, 4306632.20660848, 4853787.178851366, 5358089, 5924989, 6438657.193935071, 7085546, 7580170, 8190520, 8667295, 4742348, 3045612], 'EL VALLE DEL CAUCA': [9364012, 10568989, 11278072.598064829, 12538425.837418156, 13461456, 14347570, 15262933.073640091, 16490649, 17755474, 19277535, 20251506, 11991481, 8233652], 'BOLIVAR': [7044660, 7956639, 8593127.45117461, 9624568.977941897, 11153868, 11869745, 13184807.16895266, 13463342, 14096587, 15359019, 16403989, 8702860, 6205737], 'RISARALDA': [7174399, 7703890, 8322006.277038564, 9324849.19850393, 9890624, 10557237, 11593542.382441336, 12762046, 13704944, 14951359, 15956983, 8873225, 6277539], 'PUTUMAYO': [4883522, 5617663, 7107721.504297101, 9697260.687378583, 11967934, 12049913, 14234561.981335444, 13936142, 10618802, 9869727, 10603129, 7872365, 4190375], 'QUINDÍO': [6350376, 6908084, 7449000.1041983375, 8274578.662692363, 9183441, 10067779, 10457303.722966803, 10917328, 12119442, 13461509, 14295764, 7790106, 5378939], 'CESAR': [7684507, 8146177, 9845956.914284049, 10603692.44638335, 12692156, 13176012, 12414299.180017456, 12460838, 13076198, 14953901, 16818961, 10227409, 6810781]}\n"
     ]
    }
   ],
   "source": [
    "anios = GeografiaConDemografia.select(\"anio\").rdd.flatMap(lambda x: x).collect()\n",
    "departamentos = GeografiaConDemografia.select(\"DEPARTAMENTOS\").rdd.flatMap(lambda x: x).collect()\n",
    "depAnios = {\n",
    "    \"2006\": 0,\n",
    "    \"2007\": 1,\n",
    "    \"2008\": 2,\n",
    "    \"2010\": 3,\n",
    "    \"2011\": 4,\n",
    "    \"2012\": 5,\n",
    "    \"2013\": 6,\n",
    "    \"2014\": 7,\n",
    "    \"2015\": 8,\n",
    "    \"2016\": 9,\n",
    "    \"2017\": 10,\n",
    "    \"2009\": 11,\n",
    "    \"2005\": 12\n",
    "}\n",
    "departamentosDistintos = pib.select(\"DEPARTAMENTOS\").distinct().rdd.flatMap(lambda x: x).collect() \n",
    "departamentosYAniosGG = {}\n",
    "pibList = []\n",
    "#for idx, anio in enumerate(anios):\n",
    "#    dep = departamentos[idx]\n",
    "#    pibNumber = pib.select(f.lit(anio)).where(col(\"DEPARTAMENTOS\") == f.lit(dep)).rdd.flatMap(lambda x: x).collect() \n",
    "#    pibList.append(pibNumber)\n",
    "#pibNumber = pib.select(\"2006\").where(col(\"DEPARTAMENTOS\") == \"ANTIOQUIA\").rdd.flatMap(lambda x: x).collect() \n",
    "for dep in departamentosDistintos:\n",
    "    pibNumber = pib.select(\"*\").where(col(\"DEPARTAMENTOS\") == f.lit(dep)).rdd.flatMap(lambda x: x).collect()\n",
    "    departamentosYAniosGG[pibNumber[1]] = pibNumber[2:]\n",
    "    \n",
    "#pibNumber = pib.select(\"2006\").where(col(\"DEPARTAMENTOS\") == \"ANTIOQUIA\").rdd.flatMap(lambda x: x).collect() \n",
    "print(departamentosYAniosGG)\n",
    "    "
   ]
  },
  {
   "cell_type": "code",
   "execution_count": 320,
   "metadata": {},
   "outputs": [
    {
     "name": "stdout",
     "output_type": "stream",
     "text": [
      "[9340469, 9340469, 9340469, 10362481, 10362481, 10362481, 11530203, 11530203, 11530203, 12084731.97289277] 18018\n"
     ]
    }
   ],
   "source": [
    "pibList = []\n",
    "for idx, dep in enumerate(departamentos):\n",
    "    pibs = departamentosYAniosGG.get(dep, [])\n",
    "    if pibs == []:\n",
    "        continue\n",
    "    pibList.append(pibs[depAnios[str(anios[idx])]])\n",
    "print(pibList[:10], len(pibList))"
   ]
  },
  {
   "cell_type": "code",
   "execution_count": 328,
   "metadata": {},
   "outputs": [],
   "source": [
    "from pyspark.sql.functions import monotonically_increasing_id, row_number\n",
    "from pyspark.sql import Window, SQLContext \n",
    "\n",
    "a = GeografiaConDemografia\n",
    "pibListDouble = map(double, pibList)\n",
    "b = sql_context.createDataFrame([(l,) for l in pibListDouble], ['PIB'])\n",
    "\n",
    "#add 'sequential' index and join both dataframe to get the final result\n",
    "a = a.withColumn(\"row_idx\", row_number().over(Window.orderBy(monotonically_increasing_id())))\n",
    "b = b.withColumn(\"row_idx\", row_number().over(Window.orderBy(monotonically_increasing_id())))\n",
    "\n",
    "final_df = a.join(b, a.row_idx == b.row_idx).\\\n",
    "             drop(\"row_idx\")"
   ]
  },
  {
   "cell_type": "code",
   "execution_count": 339,
   "metadata": {},
   "outputs": [
    {
     "name": "stdout",
     "output_type": "stream",
     "text": [
      "+-------------+--------------------+------------------+-----------------------+--------+---------+------------+------------+--------------------+\n",
      "|idMunicipio_T|     NombreMunicipio|nombreDepartamento|NombreAreaMetropolitana|longitud|  latitud|totalHombres|totalMujeres|                 PIB|\n",
      "+-------------+--------------------+------------------+-----------------------+--------+---------+------------+------------+--------------------+\n",
      "|         5001|            MEDELLÍN|         ANTIOQUIA|   AREA METROPOLITAN...|-75.5904|   6.2204|     3041835|     3255008|1.3099961280563224E7|\n",
      "|         5847|               URRAO|         ANTIOQUIA|            desconocido|-76.1409|   6.3273|     3041835|     3255008|1.3099961280563224E7|\n",
      "|         5585|         PUERTO NARE|         ANTIOQUIA|            desconocido|-74.5902|   6.2102|     3041835|     3255008|1.3099961280563224E7|\n",
      "|         5480|              MUTATÁ|         ANTIOQUIA|            desconocido|-76.4442|   7.2505|     3041835|     3255008|1.3099961280563224E7|\n",
      "|         5490|             NECOCLÍ|         ANTIOQUIA|            desconocido|-76.7833|     8.45|     3041835|     3255008|1.3099961280563224E7|\n",
      "|         5042|SANTA FÉ DE ANTIO...|         ANTIOQUIA|            desconocido|-75.8225|6.5005556|     3041835|     3255008|1.3099961280563224E7|\n",
      "|         5361|             ITUANGO|         ANTIOQUIA|            desconocido|-75.7253|   7.1653|     3041835|     3255008|1.3099961280563224E7|\n",
      "|         5361|             ITUANGO|         ANTIOQUIA|            desconocido|-75.6137|   7.3348|     3041835|     3255008|1.3099961280563224E7|\n",
      "|         5031|              AMALFI|         ANTIOQUIA|            desconocido|-75.0475|   6.8954|     3041835|     3255008|1.3099961280563224E7|\n",
      "|         5591|      PUERTO TRIUNFO|         ANTIOQUIA|            desconocido|-74.7258|   5.9222|     3041835|     3255008|1.3099961280563224E7|\n",
      "|         5591|      PUERTO TRIUNFO|         ANTIOQUIA|            desconocido|-74.5742|   5.9936|     3041835|     3255008|1.3099961280563224E7|\n",
      "|         5147|              CAREPA|         ANTIOQUIA|            desconocido|-76.7164|   7.8118|     3041835|     3255008|1.3099961280563224E7|\n",
      "|         5147|              CAREPA|         ANTIOQUIA|            desconocido|-76.6519|   7.8083|     3041835|     3255008|1.3099961280563224E7|\n",
      "|         5150|            CAROLINA|         ANTIOQUIA|            desconocido|-75.2909|   6.7248|     3041835|     3255008|1.3099961280563224E7|\n",
      "|         5579|       PUERTO BERRÍO|         ANTIOQUIA|            desconocido|-74.4106|   6.4599|     3041835|     3255008|1.3099961280563224E7|\n",
      "|         5659|   SAN JUAN DE URABÁ|         ANTIOQUIA|            desconocido|   -76.5|8.7833333|     3041835|     3255008|1.3099961280563224E7|\n",
      "|         5615|            RIONEGRO|         ANTIOQUIA|            desconocido| -75.423|   6.1645|     3041835|     3255008|1.3099961280563224E7|\n",
      "|         5172|           CHIGORODÓ|         ANTIOQUIA|            desconocido| -76.683|   7.6772|     3041835|     3255008|1.3099961280563224E7|\n",
      "|         5284|            FRONTINO|         ANTIOQUIA|            desconocido|-76.1465|   6.7221|     3041835|     3255008|1.3099961280563224E7|\n",
      "|         5154|            CAUCASIA|         ANTIOQUIA|            desconocido|-75.1982|    7.968|     3041835|     3255008|1.3099961280563224E7|\n",
      "+-------------+--------------------+------------------+-----------------------+--------+---------+------------+------------+--------------------+\n",
      "only showing top 20 rows\n",
      "\n"
     ]
    }
   ],
   "source": [
    "GeografiaConDemografiaFinal = final_df.withColumnRenamed('CodigoMunicipio','idMunicipio_T') \\\n",
    "                                    .withColumnRenamed('DEPARTAMENTOS','nombreDepartamento')\n",
    "GeografiaConDemografiaFinal = GeografiaConDemografiaFinal.drop('anio')\n",
    "GeografiaConDemografiaFinal.orderBy(col(\"totalMujeres\").desc()).show()"
   ]
  },
  {
   "cell_type": "markdown",
   "metadata": {},
   "source": [
    "Todas las transformaciones hechas anteriormente son con el fin de obtener la información de pib para todos los registros generados, primero se obtienen los pib, luego los departamentos y en base a esto se van realizando los reemplazos hasta completar la tabla"
   ]
  },
  {
   "cell_type": "code",
   "execution_count": 352,
   "metadata": {},
   "outputs": [],
   "source": [
    "GeografiaConDemografiaFinal = GeografiaConDemografiaFinal.coalesce(1).withColumn('idMunicipio_DWH', f.monotonically_increasing_id() + 1)"
   ]
  },
  {
   "cell_type": "code",
   "execution_count": 345,
   "metadata": {},
   "outputs": [
    {
     "name": "stdout",
     "output_type": "stream",
     "text": [
      "+---------------+-------------+---------------+------------------+-----------------------+--------+-------+------------+------------+---+\n",
      "|idMunicipio_DWH|idMunicipio_T|NombreMunicipio|nombreDepartamento|NombreAreaMetropolitana|longitud|latitud|totalHombres|totalMujeres|PIB|\n",
      "+---------------+-------------+---------------+------------------+-----------------------+--------+-------+------------+------------+---+\n",
      "|              0|            0|        Missing|           Missing|                Missing|       0|      0|           0|           0|  0|\n",
      "+---------------+-------------+---------------+------------------+-----------------------+--------+-------+------------+------------+---+\n",
      "\n"
     ]
    }
   ],
   "source": [
    "GeografiaConDemografiaFinal_0 = [(0,0,'Missing','Missing','Missing',0,0,0,0,0)]\n",
    "columns = ['idMunicipio_DWH', 'idMunicipio_T','NombreMunicipio','nombreDepartamento','NombreAreaMetropolitana','longitud','latitud','totalHombres','totalMujeres', 'PIB']\n",
    "GeografiaConDemografiaFinal_0 = spark.createDataFrame(data=GeografiaConDemografiaFinal_0,schema=columns)\n",
    "GeografiaConDemografiaFinal_0.show()"
   ]
  },
  {
   "cell_type": "code",
   "execution_count": 354,
   "metadata": {},
   "outputs": [
    {
     "name": "stdout",
     "output_type": "stream",
     "text": [
      "+-------------+--------------------+------------------+-----------------------+--------+---------+------------+------------+--------------------+---------------+\n",
      "|idMunicipio_T|     NombreMunicipio|nombreDepartamento|NombreAreaMetropolitana|longitud|  latitud|totalHombres|totalMujeres|                 PIB|idMunicipio_DWH|\n",
      "+-------------+--------------------+------------------+-----------------------+--------+---------+------------+------------+--------------------+---------------+\n",
      "|         5001|            MEDELLÍN|         ANTIOQUIA|   AREA METROPOLITAN...|-75.5904|   6.2204|     3041835|     3255008|1.3099961280563224E7|            445|\n",
      "|         5847|               URRAO|         ANTIOQUIA|            desconocido|-76.1409|   6.3273|     3041835|     3255008|1.3099961280563224E7|            172|\n",
      "|         5585|         PUERTO NARE|         ANTIOQUIA|            desconocido|-74.5902|   6.2102|     3041835|     3255008|1.3099961280563224E7|            211|\n",
      "|         5480|              MUTATÁ|         ANTIOQUIA|            desconocido|-76.4442|   7.2505|     3041835|     3255008|1.3099961280563224E7|            289|\n",
      "|         5490|             NECOCLÍ|         ANTIOQUIA|            desconocido|-76.7833|     8.45|     3041835|     3255008|1.3099961280563224E7|            250|\n",
      "|         5042|SANTA FÉ DE ANTIO...|         ANTIOQUIA|            desconocido|-75.8225|6.5005556|     3041835|     3255008|1.3099961280563224E7|            328|\n",
      "|         5361|             ITUANGO|         ANTIOQUIA|            desconocido|-75.7253|   7.1653|     3041835|     3255008|1.3099961280563224E7|            367|\n",
      "|         5361|             ITUANGO|         ANTIOQUIA|            desconocido|-75.6137|   7.3348|     3041835|     3255008|1.3099961280563224E7|            406|\n",
      "|         5031|              AMALFI|         ANTIOQUIA|            desconocido|-75.0475|   6.8954|     3041835|     3255008|1.3099961280563224E7|            484|\n",
      "|         5591|      PUERTO TRIUNFO|         ANTIOQUIA|            desconocido|-74.7258|   5.9222|     3041835|     3255008|1.3099961280563224E7|            523|\n",
      "|         5591|      PUERTO TRIUNFO|         ANTIOQUIA|            desconocido|-74.5742|   5.9936|     3041835|     3255008|1.3099961280563224E7|            562|\n",
      "|         5147|              CAREPA|         ANTIOQUIA|            desconocido|-76.7164|   7.8118|     3041835|     3255008|1.3099961280563224E7|            601|\n",
      "|         5147|              CAREPA|         ANTIOQUIA|            desconocido|-76.6519|   7.8083|     3041835|     3255008|1.3099961280563224E7|            640|\n",
      "|         5150|            CAROLINA|         ANTIOQUIA|            desconocido|-75.2909|   6.7248|     3041835|     3255008|1.3099961280563224E7|            679|\n",
      "|         5579|       PUERTO BERRÍO|         ANTIOQUIA|            desconocido|-74.4106|   6.4599|     3041835|     3255008|1.3099961280563224E7|            718|\n",
      "|         5659|   SAN JUAN DE URABÁ|         ANTIOQUIA|            desconocido|   -76.5|8.7833333|     3041835|     3255008|1.3099961280563224E7|            757|\n",
      "|         5615|            RIONEGRO|         ANTIOQUIA|            desconocido| -75.423|   6.1645|     3041835|     3255008|1.3099961280563224E7|            796|\n",
      "|         5172|           CHIGORODÓ|         ANTIOQUIA|            desconocido| -76.683|   7.6772|     3041835|     3255008|1.3099961280563224E7|            835|\n",
      "|         5284|            FRONTINO|         ANTIOQUIA|            desconocido|-76.1465|   6.7221|     3041835|     3255008|1.3099961280563224E7|            874|\n",
      "|         5154|            CAUCASIA|         ANTIOQUIA|            desconocido|-75.1982|    7.968|     3041835|     3255008|1.3099961280563224E7|            913|\n",
      "+-------------+--------------------+------------------+-----------------------+--------+---------+------------+------------+--------------------+---------------+\n",
      "only showing top 20 rows\n",
      "\n"
     ]
    }
   ],
   "source": [
    "GeografiaConDemografiaFinalF = GeografiaConDemografiaFinal.union(GeografiaConDemografiaFinal_0)\n",
    "GeografiaConDemografiaFinalF.orderBy(col(\"totalMujeres\").desc()).show()"
   ]
  },
  {
   "cell_type": "markdown",
   "metadata": {},
   "source": [
    "Se puede observar que se ha creado el registro con valor 0 para asociar con registros faltantes."
   ]
  },
  {
   "cell_type": "markdown",
   "metadata": {},
   "source": [
    "### Carga\n",
    "Una vez realizado el proceso de carga y transformación, se guardan los resultados en la base de datos destino\n"
   ]
  },
  {
   "cell_type": "code",
   "execution_count": 355,
   "metadata": {},
   "outputs": [],
   "source": [
    "# CARGUE\n",
    "guardar_db(dest_db_connection_string, GeografiaConDemografiaFinalF,'Proyecto_G26_202413.GeografiaConDemografia', db_user, db_psswd)"
   ]
  },
  {
   "cell_type": "markdown",
   "metadata": {},
   "source": [
    "# Resultado de consultas\n",
    "Corresponde a la consulta realizada sobre la tabla GeografiaConDemografia, para mostrar el estado final de las tablas pobladas como resultado del proceso de ETL.\n",
    "\n",
    "## Consulta para ver algunos registros de la dimensión Fecha"
   ]
  },
  {
   "cell_type": "code",
   "execution_count": 358,
   "metadata": {},
   "outputs": [
    {
     "name": "stdout",
     "output_type": "stream",
     "text": [
      "+-------------+---------------+------------------+-----------------------+--------+-------+------------+------------+--------------------+---------------+\n",
      "|idMunicipio_T|NombreMunicipio|nombreDepartamento|NombreAreaMetropolitana|longitud|latitud|totalHombres|totalMujeres|                 PIB|idMunicipio_DWH|\n",
      "+-------------+---------------+------------------+-----------------------+--------+-------+------------+------------+--------------------+---------------+\n",
      "|         5591| PUERTO TRIUNFO|         ANTIOQUIA|            desconocido|-74.7258| 5.9222|     3041835|     3255008|1.3099961280563224E7|            523|\n",
      "|         5154|       CAUCASIA|         ANTIOQUIA|            desconocido|-75.1982|  7.968|     3041835|     3255008|1.3099961280563224E7|            913|\n",
      "|         5591| PUERTO TRIUNFO|         ANTIOQUIA|            desconocido|-74.5742| 5.9936|     3041835|     3255008|1.3099961280563224E7|            562|\n",
      "|         5847|          URRAO|         ANTIOQUIA|            desconocido|-76.1409| 6.3273|     3041835|     3255008|1.3099961280563224E7|            172|\n",
      "|         5147|         CAREPA|         ANTIOQUIA|            desconocido|-76.7164| 7.8118|     3041835|     3255008|1.3099961280563224E7|            601|\n",
      "|         5490|        NECOCLÍ|         ANTIOQUIA|            desconocido|-76.7833|   8.45|     3041835|     3255008|1.3099961280563224E7|            250|\n",
      "|         5147|         CAREPA|         ANTIOQUIA|            desconocido|-76.6519| 7.8083|     3041835|     3255008|1.3099961280563224E7|            640|\n",
      "|         5361|        ITUANGO|         ANTIOQUIA|            desconocido|-75.7253| 7.1653|     3041835|     3255008|1.3099961280563224E7|            367|\n",
      "|         5150|       CAROLINA|         ANTIOQUIA|            desconocido|-75.2909| 6.7248|     3041835|     3255008|1.3099961280563224E7|            679|\n",
      "|         5001|       MEDELLÍN|         ANTIOQUIA|   AREA METROPOLITAN...|-75.5904| 6.2204|     3041835|     3255008|1.3099961280563224E7|            445|\n",
      "+-------------+---------------+------------------+-----------------------+--------+-------+------------+------------+--------------------+---------------+\n",
      "only showing top 10 rows\n",
      "\n"
     ]
    }
   ],
   "source": [
    "sql_geodemo = '''(SELECT * FROM Proyecto_G26_202413.GeografiaConDemografia) AS Temp_GeografiaConDemografia'''\n",
    "sql_geodemoS6 = obtener_dataframe_de_bd(source_db_connection_string, sql_geodemo, db_user, db_psswd)\n",
    "sql_geodemoS6.orderBy(col(\"totalMujeres\").desc()).show(10)"
   ]
  }
 ],
 "metadata": {
  "colab": {
   "collapsed_sections": [
    "vtE61qk986vx",
    "X9Oou0g986vy",
    "B5kFkHTD86vz",
    "ddFhEOmL86vz",
    "MuvVgJ4R86v0",
    "BZjDeVYd86v1",
    "_7xbgfCk86v1",
    "Rh_102Yy86v1",
    "HogvCqW_86v2",
    "9rKmT9jd86v2",
    "R9SnkMUH86v3",
    "k8O1GvOd86v3",
    "Mo633Vpg86v3",
    "i36NawhX86v4",
    "LvgnsPfK86v4",
    "dTv_CIOT86v5",
    "N9f10qpB86v9"
   ],
   "name": "MISW-ETL-TutorialETL.ipynb",
   "provenance": []
  },
  "kernelspec": {
   "display_name": "Python 3 (ipykernel)",
   "language": "python",
   "name": "python3"
  },
  "language_info": {
   "codemirror_mode": {
    "name": "ipython",
    "version": 3
   },
   "file_extension": ".py",
   "mimetype": "text/x-python",
   "name": "python",
   "nbconvert_exporter": "python",
   "pygments_lexer": "ipython3",
   "version": "3.7.13"
  }
 },
 "nbformat": 4,
 "nbformat_minor": 4
}
